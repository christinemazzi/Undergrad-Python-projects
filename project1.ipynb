{
 "cells": [
  {
   "cell_type": "code",
   "execution_count": 65,
   "id": "19dc507a",
   "metadata": {
    "deletable": false,
    "editable": false
   },
   "outputs": [],
   "source": [
    "# Initialize Otter\n",
    "import otter\n",
    "grader = otter.Notebook(\"project1.ipynb\")"
   ]
  },
  {
   "cell_type": "markdown",
   "id": "50e91151",
   "metadata": {},
   "source": [
    "# Project 1: World Population and Poverty"
   ]
  },
  {
   "cell_type": "markdown",
   "id": "9acd54ed",
   "metadata": {},
   "source": [
    "In this project, you'll explore data from [Gapminder.org](http://gapminder.org), a website dedicated to providing a fact-based view of the world and how it has changed. That site includes several data visualizations and presentations, but also publishes the raw data that we will use in this project to recreate and extend some of their most famous visualizations.\n",
    "\n",
    "The Gapminder website collects data from many sources and compiles them into tables that describe many countries around the world. All of the data they aggregate are published in the [Systema Globalis](https://github.com/open-numbers/ddf--gapminder--systema_globalis/blob/master/README.md). Their goal is \"to compile all public statistics; Social, Economic and Environmental; into a comparable total dataset.\" All data sets in this project are copied directly from the Systema Globalis without any changes.\n",
    "\n",
    "This project is dedicated to [Hans Rosling](https://en.wikipedia.org/wiki/Hans_Rosling) (1948-2017), who championed the use of data to understand and prioritize global development challenges."
   ]
  },
  {
   "cell_type": "markdown",
   "id": "a6232693",
   "metadata": {},
   "source": [
    "### Logistics\n",
    "\n",
    "**Deadline.**  This project is due at **11:00pm PT on Friday 9/29**. Projects will be accepted up to 2 days (48 hours) late. Projects submitted fewer than 24 hours after the deadline will receive 2/3 credit, and projects submitted between 24 and 48 hours after the deadline will receive 1/3 credit. Projects submitted 48 hours or more after the deadline will receive no credit. It's **much** better to be early than late, so start working now.\n",
    "\n",
    "**Checkpoint.**  For full credit on the checkpoint, you must complete the questions up to the checkpoint, **pass all _public_ autograder tests** for those sections, and submit to the Gradescope Project 1 Checkpoint assignment by **11:00pm PT on Friday, 9/22**. <span style=\"color: #BC412B\">**The checkpoint is worth 5% of your entire project grade**</span>. After you've submitted the checkpoint, you may still change your project answers before the final project deadline - only your final submission, to the \"Project 1\" assignment, will be graded for correctness. You will have some lab time to work on these questions, but we recommend that you start the project before lab and leave time to finish the checkpoint afterward.\n",
    "\n",
    "**Partners.** You may work with one other partner; your partner must be from your assigned lab section. **<span style=\"color: #BC412B\">Only one partner should submit the project notebook to Gradescope.</span> If both partners submit, you will be docked 10% of your project grade. On Gradescope, the person who submits should also designate their partner so that both of you receive credit.** Once you submit, click into your submission, and there will be an option to Add Group Member in the top right corner. You may also reference [this walkthrough video](https://drive.google.com/file/d/1POtij6KECSBjCUeOC_F0Lt3ZmKN7LKIq/view?usp=sharing) on how to add partners on Gradescope.\n",
    "\n",
    "\n",
    "**Rules.** Don't share your code with anybody but your partner. You are welcome to discuss questions with other students, but don't share the answers. The experience of solving the problems in this project will prepare you for exams (and life). If someone asks you for the answer, resist! Instead, you can demonstrate how you would solve a similar problem.\n",
    "\n",
    "**Support.** You are not alone! Come to office hours, post on Ed, and talk to your classmates. If you want to ask about the details of your solution to a problem, make a private Ed post and the staff will respond. If you're ever feeling overwhelmed or don't know how to make progress, email your TA or tutor for help. You can find contact information for the staff on the [course website](https://www.data8.org/fa23/).\n",
    "\n",
    "**Tests.** <span style=\"color: #BC412B\">The tests that are given are **not comprehensive** and passing the tests for a question **does not** mean that you answered the question correctly.</span> Tests usually only check that your table has the correct column labels. However, more tests will be applied to verify the correctness of your submission in order to assign your final score, so be careful and check your work! You might want to create your own checks along the way to see if your answers make sense. Additionally, before you submit, make sure that none of your cells take a very long time to run (several minutes).\n",
    "\n",
    "**Free Response Questions:** Make sure that you put the answers to the written questions in the indicated cell we provide. **Every free response question should include an explanation** that adequately answers the question.\n",
    "\n",
    "**Tabular Thinking Guide:** Feel free to reference [Tabular Thinking Guide](https://drive.google.com/file/d/1NvbBECCBdI0Ku380oPcTUOcpjH3RI230/view) for extra guidance.\n",
    "\n",
    "**Advice.** Develop your answers incrementally. To perform a complicated table manipulation, break it up into steps, perform each step on a different line, give a new name to each result, and check that each intermediate result is what you expect. You can add any additional names or functions you want to the provided cells. Make sure that you are using distinct and meaningful variable names throughout the notebook. Along that line, **DO NOT** reuse the variable names that we use when we grade your answers. For example, in Question 1 of the Global Poverty section we ask you to assign an answer to `latest`. Do not reassign the variable name `latest` to anything else in your notebook, otherwise there is the chance that our tests grade against what `latest` was reassigned to.\n",
    "\n",
    "You are **never** restricted to using only one line of code to solve a question in this project or any others. Feel free to use intermediate variables and multiple lines as much as you would like!\n",
    "\n",
    "---\n",
    "\n",
    "To get started, load `datascience`, `numpy`, `plots`, and `otter`."
   ]
  },
  {
   "cell_type": "code",
   "execution_count": 66,
   "id": "3a810b1b",
   "metadata": {
    "deletable": false
   },
   "outputs": [],
   "source": [
    "# Run this cell to set up the notebook, but please don't change it.\n",
    "\n",
    "# These lines import the NumPy and Datascience modules.\n",
    "from datascience import *\n",
    "import numpy as np\n",
    "\n",
    "# These lines do some fancy plotting magic.\n",
    "%matplotlib inline\n",
    "import matplotlib.pyplot as plots\n",
    "plots.style.use('fivethirtyeight')\n",
    "\n",
    "from ipywidgets import interact, interactive, fixed, interact_manual\n",
    "import ipywidgets as widgets"
   ]
  },
  {
   "cell_type": "markdown",
   "id": "4513874e",
   "metadata": {
    "deletable": false,
    "editable": false
   },
   "source": [
    "## 1. Global Population Growth"
   ]
  },
  {
   "cell_type": "markdown",
   "id": "1c1c82a3",
   "metadata": {
    "deletable": false,
    "editable": false
   },
   "source": [
    "The global population of humans reached 1 billion around 1800, 3 billion around 1960, and 7 billion around 2011. The potential impact of exponential population growth has concerned scientists, economists, and politicians alike.\n",
    "\n",
    "The UN Population Division estimates that the world population will likely continue to grow throughout the 21st century, but at a slower rate, perhaps reaching 11 billion by 2100. However, the UN does not rule out scenarios of more extreme growth.\n",
    "\n",
    "<a href=\"http://www.pewresearch.org/fact-tank/2015/06/08/scientists-more-worried-than-public-about-worlds-growing-population/ft_15-06-04_popcount/\"> \n",
    " <img src=\"pew_population_projection.png\"/> \n",
    "</a>\n",
    "\n",
    "In this part of the project, we will examine some of the factors that influence population growth and how they have been changing over the years and around the world. There are two main sub-parts of this analysis.\n",
    "\n",
    "- First, we will examine the data for one country, Bangladesh. We will see how factors such as life expectancy, fertility rate, and child mortality have changed over time in Bangladesh, and how they are related to the rate of population growth.\n",
    "- Next, we will examine whether the changes we have observed for Bangladesh are particular to that country or whether they reflect general patterns observable in other countries too. We will study aspects of world population growth and see how they have been changing.\n",
    "\n",
    "The first table we will consider contains the total population of each country over time. Run the cell below."
   ]
  },
  {
   "cell_type": "code",
   "execution_count": 67,
   "id": "5bdcfe79",
   "metadata": {
    "deletable": false,
    "scrolled": true
   },
   "outputs": [
    {
     "data": {
      "text/html": [
       "<table border=\"1\" class=\"dataframe\">\n",
       "    <thead>\n",
       "        <tr>\n",
       "            <th>geo</th> <th>time</th> <th>population_total</th>\n",
       "        </tr>\n",
       "    </thead>\n",
       "    <tbody>\n",
       "        <tr>\n",
       "            <td>afg </td> <td>1800</td> <td>3280000         </td>\n",
       "        </tr>\n",
       "        <tr>\n",
       "            <td>afg </td> <td>1801</td> <td>3280000         </td>\n",
       "        </tr>\n",
       "        <tr>\n",
       "            <td>afg </td> <td>1802</td> <td>3280000         </td>\n",
       "        </tr>\n",
       "    </tbody>\n",
       "</table>\n",
       "<p>... (43534 rows omitted)</p>"
      ],
      "text/plain": [
       "<IPython.core.display.HTML object>"
      ]
     },
     "metadata": {},
     "output_type": "display_data"
    }
   ],
   "source": [
    "population = Table.read_table('population.csv').where(\"time\", are.below(2021))\n",
    "population.show(3)"
   ]
  },
  {
   "cell_type": "markdown",
   "id": "bc0aa160",
   "metadata": {},
   "source": [
    "**Note:** The population csv file can also be found [here](https://github.com/open-numbers/ddf--gapminder--gapminder_world/blob/master/ddf--datapoints--population_total--by--geo--time.csv). The data for this project was downloaded in February 2017. "
   ]
  },
  {
   "cell_type": "markdown",
   "id": "f60126cd",
   "metadata": {
    "deletable": false
   },
   "source": [
    "### Bangladesh\n",
    "\n",
    "The nation of [Bangladesh](https://en.wikipedia.org/wiki/Bangladesh#People's_Republic_of_Bangladesh) was established as a parliamentary democracy after the Bangladesh Liberation War ended in 1971. The war-ravaged fledgling nation was almost immediately faced with floods and famine. In this section of the project, we will examine aspects of the development of Bangladesh since that time.\n",
    "\n",
    "In the `population` table, the `geo` column contains three-letter codes established by the [International Organization for Standardization](https://en.wikipedia.org/wiki/International_Organization_for_Standardization) (ISO) in the [Alpha-3](https://en.wikipedia.org/wiki/ISO_3166-1_alpha-3#Current_codes) standard. We will begin by taking a close look at Bangladesh. Use the Alpha-3 link to find the 3-letter code for Bangladesh."
   ]
  },
  {
   "cell_type": "markdown",
   "id": "8caace2d",
   "metadata": {},
   "source": [
    "**Question 1.** Create a table called `b_pop` that has two columns labeled `time` and `population_total`. The first column should contain the years from 1970 through 2020 (including both 1970 and 2020) and the second should contain the population of Bangladesh in each of those years.\n"
   ]
  },
  {
   "cell_type": "code",
   "execution_count": 68,
   "id": "0d05b857",
   "metadata": {
    "deletable": false,
    "tags": []
   },
   "outputs": [
    {
     "data": {
      "text/html": [
       "<table border=\"1\" class=\"dataframe\">\n",
       "    <thead>\n",
       "        <tr>\n",
       "            <th>time</th> <th>population_total</th>\n",
       "        </tr>\n",
       "    </thead>\n",
       "    <tbody>\n",
       "        <tr>\n",
       "            <td>1970</td> <td>64232486        </td>\n",
       "        </tr>\n",
       "        <tr>\n",
       "            <td>1971</td> <td>65531635        </td>\n",
       "        </tr>\n",
       "        <tr>\n",
       "            <td>1972</td> <td>66625706        </td>\n",
       "        </tr>\n",
       "        <tr>\n",
       "            <td>1973</td> <td>67637541        </td>\n",
       "        </tr>\n",
       "        <tr>\n",
       "            <td>1974</td> <td>68742222        </td>\n",
       "        </tr>\n",
       "        <tr>\n",
       "            <td>1975</td> <td>70066310        </td>\n",
       "        </tr>\n",
       "        <tr>\n",
       "            <td>1976</td> <td>71652386        </td>\n",
       "        </tr>\n",
       "        <tr>\n",
       "            <td>1977</td> <td>73463593        </td>\n",
       "        </tr>\n",
       "        <tr>\n",
       "            <td>1978</td> <td>75450033        </td>\n",
       "        </tr>\n",
       "        <tr>\n",
       "            <td>1979</td> <td>77529040        </td>\n",
       "        </tr>\n",
       "    </tbody>\n",
       "</table>\n",
       "<p>... (41 rows omitted)</p>"
      ],
      "text/plain": [
       "time | population_total\n",
       "1970 | 64232486\n",
       "1971 | 65531635\n",
       "1972 | 66625706\n",
       "1973 | 67637541\n",
       "1974 | 68742222\n",
       "1975 | 70066310\n",
       "1976 | 71652386\n",
       "1977 | 73463593\n",
       "1978 | 75450033\n",
       "1979 | 77529040\n",
       "... (41 rows omitted)"
      ]
     },
     "execution_count": 68,
     "metadata": {},
     "output_type": "execute_result"
    }
   ],
   "source": [
    "b_pop = population.where(\"geo\", are.containing('bgd')).where(\"time\", are.between(1970,2021)).drop(\"geo\")\n",
    "b_pop"
   ]
  },
  {
   "cell_type": "code",
   "execution_count": 69,
   "id": "f500201f",
   "metadata": {
    "deletable": false,
    "editable": false
   },
   "outputs": [
    {
     "data": {
      "text/html": [
       "<p><strong><pre style='display: inline;'>q1_1</pre></strong> passed! 🎉</p>"
      ],
      "text/plain": [
       "q1_1 results: All test cases passed!"
      ]
     },
     "execution_count": 69,
     "metadata": {},
     "output_type": "execute_result"
    }
   ],
   "source": [
    "grader.check(\"q1_1\")"
   ]
  },
  {
   "cell_type": "markdown",
   "id": "dddf9e9d",
   "metadata": {
    "deletable": false
   },
   "source": [
    "Run the following cell to create a table called `b_five` that has the population of Bangladesh every five years. At a glance, it appears that the population of Bangladesh has been growing quickly indeed!"
   ]
  },
  {
   "cell_type": "code",
   "execution_count": 70,
   "id": "602ccbfe",
   "metadata": {
    "deletable": false
   },
   "outputs": [
    {
     "data": {
      "text/html": [
       "<table border=\"1\" class=\"dataframe\">\n",
       "    <thead>\n",
       "        <tr>\n",
       "            <th>time</th> <th>population_total</th>\n",
       "        </tr>\n",
       "    </thead>\n",
       "    <tbody>\n",
       "        <tr>\n",
       "            <td>1970</td> <td>64,232,486      </td>\n",
       "        </tr>\n",
       "        <tr>\n",
       "            <td>1975</td> <td>70,066,310      </td>\n",
       "        </tr>\n",
       "        <tr>\n",
       "            <td>1980</td> <td>79,639,498      </td>\n",
       "        </tr>\n",
       "        <tr>\n",
       "            <td>1985</td> <td>90,764,180      </td>\n",
       "        </tr>\n",
       "        <tr>\n",
       "            <td>1990</td> <td>103,171,957     </td>\n",
       "        </tr>\n",
       "        <tr>\n",
       "            <td>1995</td> <td>115,169,933     </td>\n",
       "        </tr>\n",
       "        <tr>\n",
       "            <td>2000</td> <td>127,657,862     </td>\n",
       "        </tr>\n",
       "        <tr>\n",
       "            <td>2005</td> <td>139,035,505     </td>\n",
       "        </tr>\n",
       "        <tr>\n",
       "            <td>2010</td> <td>147,575,433     </td>\n",
       "        </tr>\n",
       "        <tr>\n",
       "            <td>2015</td> <td>156,256,287     </td>\n",
       "        </tr>\n",
       "        <tr>\n",
       "            <td>2020</td> <td>164,689,383     </td>\n",
       "        </tr>\n",
       "    </tbody>\n",
       "</table>"
      ],
      "text/plain": [
       "<IPython.core.display.HTML object>"
      ]
     },
     "metadata": {},
     "output_type": "display_data"
    }
   ],
   "source": [
    "b_pop.set_format('population_total', NumberFormatter)\n",
    "\n",
    "fives = np.arange(1970, 2021, 5) # 1970, 1975, 1980, ...\n",
    "b_five = b_pop.sort('time').where('time', are.contained_in(fives))\n",
    "b_five.show()"
   ]
  },
  {
   "cell_type": "markdown",
   "id": "ae6dba43",
   "metadata": {},
   "source": [
    "**Question 2.** Assign `initial` to an array that contains the population for every five year interval from 1970 to 2015 (inclusive). Then, assign `changed` to an array that contains the population for every five year interval from 1975 to 2020 (inclusive). The first array should include both 1970 and 2015, and the second array should include both 1975 and 2020. You should use the `b_five` table to create both arrays, by first filtering the table to only contain the relevant years.\n",
    "\n",
    "The annual growth rate for a time period is equal to:\n",
    "\n",
    "$$\\left(\\left(\\frac{\\text{Population at end of period}}{\\text{Population at start of period}}\\right)^{\\displaystyle\\frac{1}{\\text{number of years}}}\\right) -1$$\n",
    "\n",
    "We have provided the code below that uses  `initial` and `changed` in order to add a column to `b_five` called `annual_growth`. Don't worry about the calculation of the growth rates; run the test below to test your solution.\n",
    "\n",
    "If you are interested in how we came up with the formula for growth rates, consult the [growth rates](https://inferentialthinking.com/chapters/03/2/1/Growth.html) section of the textbook.\n"
   ]
  },
  {
   "cell_type": "code",
   "execution_count": 71,
   "id": "1b86697e",
   "metadata": {
    "tags": []
   },
   "outputs": [
    {
     "data": {
      "text/html": [
       "<table border=\"1\" class=\"dataframe\">\n",
       "    <thead>\n",
       "        <tr>\n",
       "            <th>time</th> <th>population_total</th> <th>annual_growth</th>\n",
       "        </tr>\n",
       "    </thead>\n",
       "    <tbody>\n",
       "        <tr>\n",
       "            <td>1970</td> <td>64,232,486      </td> <td>1.75%        </td>\n",
       "        </tr>\n",
       "        <tr>\n",
       "            <td>1975</td> <td>70,066,310      </td> <td>2.59%        </td>\n",
       "        </tr>\n",
       "        <tr>\n",
       "            <td>1980</td> <td>79,639,498      </td> <td>2.65%        </td>\n",
       "        </tr>\n",
       "        <tr>\n",
       "            <td>1985</td> <td>90,764,180      </td> <td>2.60%        </td>\n",
       "        </tr>\n",
       "        <tr>\n",
       "            <td>1990</td> <td>103,171,957     </td> <td>2.22%        </td>\n",
       "        </tr>\n",
       "        <tr>\n",
       "            <td>1995</td> <td>115,169,933     </td> <td>2.08%        </td>\n",
       "        </tr>\n",
       "        <tr>\n",
       "            <td>2000</td> <td>127,657,862     </td> <td>1.72%        </td>\n",
       "        </tr>\n",
       "        <tr>\n",
       "            <td>2005</td> <td>139,035,505     </td> <td>1.20%        </td>\n",
       "        </tr>\n",
       "        <tr>\n",
       "            <td>2010</td> <td>147,575,433     </td> <td>1.15%        </td>\n",
       "        </tr>\n",
       "        <tr>\n",
       "            <td>2015</td> <td>156,256,287     </td> <td>1.06%        </td>\n",
       "        </tr>\n",
       "    </tbody>\n",
       "</table>"
      ],
      "text/plain": [
       "time | population_total | annual_growth\n",
       "1970 | 64,232,486       | 1.75%\n",
       "1975 | 70,066,310       | 2.59%\n",
       "1980 | 79,639,498       | 2.65%\n",
       "1985 | 90,764,180       | 2.60%\n",
       "1990 | 103,171,957      | 2.22%\n",
       "1995 | 115,169,933      | 2.08%\n",
       "2000 | 127,657,862      | 1.72%\n",
       "2005 | 139,035,505      | 1.20%\n",
       "2010 | 147,575,433      | 1.15%\n",
       "2015 | 156,256,287      | 1.06%"
      ]
     },
     "execution_count": 71,
     "metadata": {},
     "output_type": "execute_result"
    }
   ],
   "source": [
    "initial_years = np.arange(1970, 2016, 5)\n",
    "initial = b_five.where('time', are.contained_in(initial_years)).column('population_total')\n",
    "changed_years = np.arange(1975, 2021, 5)\n",
    "changed = b_five.where('time', are.contained_in(changed_years)).column('population_total')\n",
    "\n",
    "b_five = b_pop.sort('time').where('time', are.contained_in(fives))\n",
    "b_1970_through_2015 = b_five.where('time', are.below_or_equal_to(2015)) \n",
    "b_five_growth = b_1970_through_2015.with_column('annual_growth', (changed/initial)**0.2-1)\n",
    "b_five_growth.set_format('annual_growth', PercentFormatter)"
   ]
  },
  {
   "cell_type": "code",
   "execution_count": 72,
   "id": "544041e0",
   "metadata": {
    "deletable": false,
    "editable": false
   },
   "outputs": [
    {
     "data": {
      "text/html": [
       "<p><strong><pre style='display: inline;'>q1_2</pre></strong> passed! 💯</p>"
      ],
      "text/plain": [
       "q1_2 results: All test cases passed!"
      ]
     },
     "execution_count": 72,
     "metadata": {},
     "output_type": "execute_result"
    }
   ],
   "source": [
    "grader.check(\"q1_2\")"
   ]
  },
  {
   "cell_type": "markdown",
   "id": "036357e0",
   "metadata": {
    "deletable": false
   },
   "source": [
    "While the population has grown every five years since 1970, the annual growth rate decreased dramatically from 1985 to 2015. Let's look at some other information in order to develop a possible explanation. Run the next cell to load three additional tables of measurements about countries over time."
   ]
  },
  {
   "cell_type": "code",
   "execution_count": 73,
   "id": "f2cf4c26",
   "metadata": {
    "deletable": false
   },
   "outputs": [],
   "source": [
    "life_expectancy = Table.read_table('life_expectancy.csv').where('time', are.below(2021))\n",
    "child_mortality = Table.read_table('child_mortality.csv').relabel(2, 'child_mortality_under_5_per_1000_born').where('time', are.below(2021))\n",
    "fertility = Table.read_table('fertility.csv').where('time', are.below(2021))"
   ]
  },
  {
   "cell_type": "markdown",
   "id": "8564a57b",
   "metadata": {
    "deletable": false,
    "editable": false
   },
   "source": [
    "The `life_expectancy` table contains a statistic that is often used to measure how long people live, called *life expectancy at birth*. This number, for a country in a given year, [does not measure how long babies born in that year are expected to live](http://blogs.worldbank.org/opendata/what-does-life-expectancy-birth-really-mean). Instead, it measures how long someone would live, on average, if the *mortality conditions* in that year persisted throughout their lifetime. These \"mortality conditions\" describe what fraction of people at each age survived the year. So, it is a way of measuring the proportion of people that are staying alive, aggregated over different age groups in the population."
   ]
  },
  {
   "cell_type": "markdown",
   "id": "3d24f5b5",
   "metadata": {},
   "source": [
    "Run the following cells below to see `life_expectancy`, `child_mortality`, and `fertility`. Refer back to these tables as they will be helpful for answering further questions!"
   ]
  },
  {
   "cell_type": "code",
   "execution_count": 74,
   "id": "f0cea125",
   "metadata": {},
   "outputs": [
    {
     "data": {
      "text/html": [
       "<table border=\"1\" class=\"dataframe\">\n",
       "    <thead>\n",
       "        <tr>\n",
       "            <th>geo</th> <th>time</th> <th>life_expectancy_years</th>\n",
       "        </tr>\n",
       "    </thead>\n",
       "    <tbody>\n",
       "        <tr>\n",
       "            <td>afg </td> <td>1800</td> <td>28.21                </td>\n",
       "        </tr>\n",
       "        <tr>\n",
       "            <td>afg </td> <td>1801</td> <td>28.2                 </td>\n",
       "        </tr>\n",
       "        <tr>\n",
       "            <td>afg </td> <td>1802</td> <td>28.19                </td>\n",
       "        </tr>\n",
       "    </tbody>\n",
       "</table>\n",
       "<p>... (41247 rows omitted)</p>"
      ],
      "text/plain": [
       "<IPython.core.display.HTML object>"
      ]
     },
     "metadata": {},
     "output_type": "display_data"
    }
   ],
   "source": [
    "life_expectancy.show(3)"
   ]
  },
  {
   "cell_type": "code",
   "execution_count": 75,
   "id": "7a3b2873",
   "metadata": {},
   "outputs": [
    {
     "data": {
      "text/html": [
       "<table border=\"1\" class=\"dataframe\">\n",
       "    <thead>\n",
       "        <tr>\n",
       "            <th>geo</th> <th>time</th> <th>child_mortality_under_5_per_1000_born</th>\n",
       "        </tr>\n",
       "    </thead>\n",
       "    <tbody>\n",
       "        <tr>\n",
       "            <td>afg </td> <td>1800</td> <td>468.58                               </td>\n",
       "        </tr>\n",
       "        <tr>\n",
       "            <td>afg </td> <td>1801</td> <td>468.58                               </td>\n",
       "        </tr>\n",
       "        <tr>\n",
       "            <td>afg </td> <td>1802</td> <td>468.58                               </td>\n",
       "        </tr>\n",
       "    </tbody>\n",
       "</table>\n",
       "<p>... (41734 rows omitted)</p>"
      ],
      "text/plain": [
       "<IPython.core.display.HTML object>"
      ]
     },
     "metadata": {},
     "output_type": "display_data"
    }
   ],
   "source": [
    "child_mortality.show(3)"
   ]
  },
  {
   "cell_type": "code",
   "execution_count": 76,
   "id": "ae28edd1",
   "metadata": {},
   "outputs": [
    {
     "data": {
      "text/html": [
       "<table border=\"1\" class=\"dataframe\">\n",
       "    <thead>\n",
       "        <tr>\n",
       "            <th>geo</th> <th>time</th> <th>children_per_woman_total_fertility</th>\n",
       "        </tr>\n",
       "    </thead>\n",
       "    <tbody>\n",
       "        <tr>\n",
       "            <td>abw </td> <td>1800</td> <td>5.64                              </td>\n",
       "        </tr>\n",
       "        <tr>\n",
       "            <td>abw </td> <td>1801</td> <td>5.64                              </td>\n",
       "        </tr>\n",
       "        <tr>\n",
       "            <td>abw </td> <td>1802</td> <td>5.64                              </td>\n",
       "        </tr>\n",
       "    </tbody>\n",
       "</table>\n",
       "<p>... (44632 rows omitted)</p>"
      ],
      "text/plain": [
       "<IPython.core.display.HTML object>"
      ]
     },
     "metadata": {},
     "output_type": "display_data"
    }
   ],
   "source": [
    "fertility.show(3)"
   ]
  },
  {
   "cell_type": "markdown",
   "id": "3cb8ed0f",
   "metadata": {},
   "source": [
    "<!-- BEGIN QUESTION -->\n",
    "\n",
    "**Question 3.** Perhaps population is growing more slowly because people aren't living as long. Use the `life_expectancy` table to draw a line graph with the years 1970 and later on the horizontal axis that shows how the *life expectancy at birth* has changed in Bangladesh.\n"
   ]
  },
  {
   "cell_type": "code",
   "execution_count": 77,
   "id": "462b80f4",
   "metadata": {
    "deletable": false,
    "manual_grade": true,
    "manual_problem_id": "global_pop_3",
    "tags": []
   },
   "outputs": [
    {
     "data": {
      "image/png": "[encoded data removed]",
      "text/plain": [
       "<Figure size 600x600 with 1 Axes>"
      ]
     },
     "metadata": {},
     "output_type": "display_data"
    }
   ],
   "source": [
    "#Fill in code here\n",
    "life_expectancy.where('geo', are.containing('bgd')).where('time', are.above(1970)).plot('time','life_expectancy_years')"
   ]
  },
  {
   "cell_type": "markdown",
   "id": "9c27771c",
   "metadata": {},
   "source": [
    "<!-- END QUESTION -->\n",
    "\n",
    "<!-- BEGIN QUESTION -->\n",
    "\n",
    "**Question 4.** Assuming everything else stays the same, do the trends in life expectancy in the graph above directly explain why the population growth rate decreased from 1985 to 2015 in Bangladesh? Why or why not? \n",
    "\n",
    "Hint: Assuming everything else stays the same, do the trends in life expectancy in the graph above from question 1.3 directly explain why the population growth rate decreased from 1985 to 2015 in Bangladesh? Why or why not? In synthesizing the answer for this specific problem, provide additional context to events occurring in Bangladesh in 1991. You are allowed to use external sources, like here. Please cite any other sources.\n"
   ]
  },
  {
   "cell_type": "markdown",
   "id": "3a60de38",
   "metadata": {},
   "source": [
    "No, the graph above does not explain why the population rate decreased between 1985 and 2015. The graph shows that there is an increasing trend in life expectancy during this time, however, this does not indicate that there are more or less babies being born, which would increase/decrease the population growth rate respectivley. During 1991, in Bangladesh there was a Cycolone resulting in over 100,000 fatalities. This explains the decrease in life expextancy during this time period. source: https://en.wikipedia.org/wiki/1991_Bangladesh_cyclone"
   ]
  },
  {
   "cell_type": "markdown",
   "id": "b0bb1ec8",
   "metadata": {
    "deletable": false,
    "editable": false
   },
   "source": [
    "<!-- END QUESTION -->\n",
    "\n",
    "The `fertility` table contains a statistic that is often used to measure how many babies are being born, the *total fertility rate*. This number describes the [number of children a woman would have in her lifetime](https://www.measureevaluation.org/prh/rh_indicators/specific/fertility/total-fertility-rate), on average, if the current rates of birth by age of the mother persisted throughout her child bearing years, assuming she survived through age 49. "
   ]
  },
  {
   "cell_type": "markdown",
   "id": "9f6e975e",
   "metadata": {},
   "source": [
    "**Question 5.** Complete the function `fertility_over_time`. It takes the Alpha-3 code of a country as `country_code` and a `start` year. It returns a two-column table with labels `Year` and `Children per woman` that can be used to generate a line chart of the country's fertility rate each year, starting at the `start` year. The plot should include the `start` year and all later years that appear in the `fertility` table. \n",
    "\n",
    "Then, determine the Alpha-3 code for Bangladesh. The code for Bangladesh and the year 1970 are used in the call to your `fertility_over_time` function in order to plot how Bangladesh's fertility rate has changed since 1970. Note that the function `fertility_over_time` should not return the plot itself. **The expression that draws the line plot is provided for you; please don't change it.**\n"
   ]
  },
  {
   "cell_type": "code",
   "execution_count": 78,
   "id": "39607847",
   "metadata": {
    "deletable": false,
    "tags": []
   },
   "outputs": [
    {
     "data": {
      "image/png": "[encoded data removed]",
      "text/plain": [
       "<Figure size 600x600 with 1 Axes>"
      ]
     },
     "metadata": {},
     "output_type": "display_data"
    }
   ],
   "source": [
    "def fertility_over_time(country_code, start):\n",
    "    \"\"\"Create a two-column table that describes a country's total fertility rate each year.\"\"\"\n",
    "    country_fertility = fertility.where('geo',are.equal_to(country_code)).sort('time')\n",
    "    country_fertility_after_start = country_fertility.where('time', are.above_or_equal_to(start))\n",
    "    rate = country_fertility_after_start.column(2)\n",
    "    year = country_fertility_after_start.column(1)\n",
    "    return Table().with_columns(\"Year\", year, \"Children per woman\", rate)\n",
    "\n",
    "bangladesh_code = 'bgd'\n",
    "fertility_over_time(bangladesh_code, 1970).plot(0, 1) # You should *not* change this line."
   ]
  },
  {
   "cell_type": "code",
   "execution_count": 79,
   "id": "c566e517",
   "metadata": {
    "deletable": false,
    "editable": false
   },
   "outputs": [
    {
     "data": {
      "text/html": [
       "<p><strong><pre style='display: inline;'>q1_5</pre></strong> passed! 🌈</p>"
      ],
      "text/plain": [
       "q1_5 results: All test cases passed!"
      ]
     },
     "execution_count": 79,
     "metadata": {},
     "output_type": "execute_result"
    }
   ],
   "source": [
    "grader.check(\"q1_5\")"
   ]
  },
  {
   "cell_type": "markdown",
   "id": "fea980fd",
   "metadata": {},
   "source": [
    "<!-- BEGIN QUESTION -->\n",
    "\n",
    "**Question 6.** Assuming all other factors constant, do the trends in fertility in the graph above help directly explain why the population growth rate decreased from 1980 to 2020 in Bangladesh? Why or why not?\n"
   ]
  },
  {
   "cell_type": "markdown",
   "id": "a69e624d",
   "metadata": {},
   "source": [
    "Yes, this fertility graph helps directly explain why the population growth rate decrease from 1980 to 2020. Based on the graph, we can see a sharp decline in the feritlity rate during that time period; this indicates that there are less babies being born during this time, which directly corroaltes with a decrease in the population growth rate. "
   ]
  },
  {
   "cell_type": "markdown",
   "id": "0a6fc5dd",
   "metadata": {
    "deletable": false
   },
   "source": [
    "<!-- END QUESTION -->\n",
    "\n",
    "It has been [observed](https://www.ageing.ox.ac.uk/download/143) that lower fertility rates are often associated with lower child mortality rates. The link has been attributed to family planning: if parents can expect that their children will all survive into adulthood, then they will choose to have fewer children. In the reverse direction, having fewer children may allow families to devote more resources to each child, reducing child mortality. We can see if this association is evident in Bangladesh by plotting the relationship between total fertility rate and [child mortality rate per 1000 children](https://en.wikipedia.org/wiki/Child_mortality)."
   ]
  },
  {
   "cell_type": "markdown",
   "id": "d92358b2",
   "metadata": {},
   "source": [
    "**Question 7.** Using both the `fertility` and `child_mortality` tables, draw a scatter diagram that has Bangladesh's total fertility on the horizontal axis and its child mortality on the vertical axis with one point for each year, starting with 1970.\n",
    "\n",
    "**The code that draws the scatter diagram is provided for you; please don't change it.** Instead, create a table called `post_1969_fertility_and_child_mortality` with the appropriate column labels and data in order to generate the chart correctly. Use the label `Children per woman` to describe total fertility and the label `Child deaths per 1000 born` to describe child mortality.\n",
    "\n",
    "*Hint*: Do not drop the `time` column or you will get an error in the scatterplot in the next cell!\n"
   ]
  },
  {
   "cell_type": "code",
   "execution_count": 80,
   "id": "d59000db",
   "metadata": {
    "deletable": false,
    "tags": []
   },
   "outputs": [
    {
     "data": {
      "image/png": "[encoded data removed]",
      "text/plain": [
       "<Figure size 600x600 with 2 Axes>"
      ]
     },
     "metadata": {},
     "output_type": "display_data"
    }
   ],
   "source": [
    "bgd_fertility = fertility.where('geo', 'bgd').where('time', are.between(1970, 2021))\n",
    "bgd_fertility = bgd_fertility.relabeled(2, 'Children per woman').drop('geo')\n",
    "bgd_child_mortality = child_mortality.where('geo', 'bgd').where('time', are.between(1970, 2021))\n",
    "bgd_child_mortality = bgd_child_mortality.relabeled(2, 'Child deaths per 1000 born')\n",
    "fertility_and_child_mortality = bgd_fertility.join('time', bgd_child_mortality, 'time')\n",
    "post_1969_fertility_and_child_mortality = fertility_and_child_mortality.sort('time', descending=True)\n",
    "\n",
    "# Don't change anything below this line!\n",
    "x_births = post_1969_fertility_and_child_mortality.column(\"Children per woman\")\n",
    "y_deaths = post_1969_fertility_and_child_mortality.column(\"Child deaths per 1000 born\")\n",
    "time_colors = post_1969_fertility_and_child_mortality.column(\"time\")\n",
    "\n",
    "plots.figure(figsize=(6,6))\n",
    "plots.scatter(x_births, y_deaths, c=time_colors, cmap=\"Blues_r\")\n",
    "plots.colorbar()                  \n",
    "plots.xlabel(\"Children per woman\")\n",
    "plots.ylabel(\"Child deaths per 1000 born\");"
   ]
  },
  {
   "cell_type": "code",
   "execution_count": 81,
   "id": "834d9eb5",
   "metadata": {
    "deletable": false,
    "editable": false
   },
   "outputs": [
    {
     "data": {
      "text/html": [
       "<p><strong><pre style='display: inline;'>q1_7</pre></strong> passed! ✨</p>"
      ],
      "text/plain": [
       "q1_7 results: All test cases passed!"
      ]
     },
     "execution_count": 81,
     "metadata": {},
     "output_type": "execute_result"
    }
   ],
   "source": [
    "grader.check(\"q1_7\")"
   ]
  },
  {
   "cell_type": "markdown",
   "id": "2e2f7b35",
   "metadata": {},
   "source": [
    "The plot above uses **color** to encode data about the `time` column from the table `post_1969_fertility_and_child_mortality`. The colors, ranging from dark blue to white, represent the passing of time between the 1970s to the 2020s. For example, a point on the scatter plot representing data from the 1970s would appear as **dark blue** and a point from the 2010s would appear as **light blue**.\n"
   ]
  },
  {
   "cell_type": "markdown",
   "id": "4d734752",
   "metadata": {},
   "source": [
    "<!-- BEGIN QUESTION -->\n",
    "\n",
    "**Question 8.** In one or two sentences, describe the association (if any) that is illustrated by this scatter diagram. Does the diagram show that reduced child mortality *causes* parents to choose to have fewer children?\n"
   ]
  },
  {
   "cell_type": "markdown",
   "id": "813c8166",
   "metadata": {},
   "source": [
    "There is a strong, positive, relativley linear assocaition between fertility rate and mortalilty rate. This means that as the number of children per woman increase, the number of child deaths per 1000 born increases as well. However, just based on this chart, we cannot conclude if that implies that one causes the other. In other words, we do not know if a change in the fertility rate caused a change in the mortaltiy rate, making this simply an association not a causation relationship. \n"
   ]
  },
  {
   "cell_type": "markdown",
   "id": "dca71b68",
   "metadata": {},
   "source": [
    "<!-- END QUESTION -->\n",
    "\n",
    "### Checkpoint (due Wednesday 9/29 by 11:00 PM PT)\n",
    "\n",
    "<img src=\"harvey.png\" alt=\"Close-up photo of a golden retriever looking at the camera\" width=\"300\"/>\n",
    "\n",
    "**WOOOHOO!!!** Harvey wants to congratulate you on reaching the checkpoint!\n",
    "\n",
    "**Run the following cells and submit to the Gradescope assignment corresponding to the checkpoint: <u>Project 1 Checkpoint</u>**\n",
    "\n",
    "**<span style=\"color: #BC412B\">Remember to add your project partner to your submission on Gradescope!</span>** <u>Only one partner should submit to Gradescope.</u>"
   ]
  },
  {
   "cell_type": "markdown",
   "id": "f30eddde",
   "metadata": {},
   "source": [
    "--- \n",
    "\n",
    "To double check your work, the cell below will rerun all of the autograder tests for Section 1. "
   ]
  },
  {
   "cell_type": "code",
   "execution_count": 82,
   "id": "b02b8e17",
   "metadata": {},
   "outputs": [
    {
     "data": {
      "text/html": [
       "<p><strong><pre style='display: inline;'>q1_1</pre></strong> passed! 🚀</p>"
      ],
      "text/plain": [
       "q1_1 results: All test cases passed!"
      ]
     },
     "metadata": {},
     "output_type": "display_data"
    },
    {
     "data": {
      "text/html": [
       "<p><strong><pre style='display: inline;'>q1_2</pre></strong> passed! 🙌</p>"
      ],
      "text/plain": [
       "q1_2 results: All test cases passed!"
      ]
     },
     "metadata": {},
     "output_type": "display_data"
    },
    {
     "data": {
      "text/html": [
       "<p><strong><pre style='display: inline;'>q1_5</pre></strong> passed! ✨</p>"
      ],
      "text/plain": [
       "q1_5 results: All test cases passed!"
      ]
     },
     "metadata": {},
     "output_type": "display_data"
    },
    {
     "data": {
      "text/html": [
       "<p><strong><pre style='display: inline;'>q1_7</pre></strong> passed! 🌟</p>"
      ],
      "text/plain": [
       "q1_7 results: All test cases passed!"
      ]
     },
     "metadata": {},
     "output_type": "display_data"
    }
   ],
   "source": [
    "checkpoint_tests = [\"q1_1\", \"q1_2\", \"q1_5\", \"q1_7\"]\n",
    "for test in checkpoint_tests:\n",
    "    display(grader.check(test))"
   ]
  },
  {
   "cell_type": "markdown",
   "id": "21909488",
   "metadata": {},
   "source": [
    "## Submission\n",
    "\n",
    "Make sure you have run all cells in your notebook in order before running the cell below, so that all images/graphs appear in the output. The cell below will generate a zip file for you to submit. **Please save before exporting!**"
   ]
  },
  {
   "cell_type": "code",
   "execution_count": 83,
   "id": "21b46039",
   "metadata": {},
   "outputs": [
    {
     "data": {
      "text/html": [
       "\n",
       "            <p>Your submission has been exported. Click <a href=\"project1_2023_09_29T11_54_41_406097.zip\" download=\"project1_2023_09_29T11_54_41_406097.zip\" target=\"_blank\">here</a>\n",
       "            to download the zip file.</p>\n",
       "            "
      ],
      "text/plain": [
       "<IPython.core.display.HTML object>"
      ]
     },
     "metadata": {},
     "output_type": "display_data"
    }
   ],
   "source": [
    "# Save your notebook first, then run this cell to export your submission.\n",
    "grader.export(pdf=False)"
   ]
  },
  {
   "cell_type": "markdown",
   "id": "07e46d02",
   "metadata": {
    "deletable": false
   },
   "source": [
    "### The World\n",
    "\n",
    "The changes observed in Poland can also be observed in many other countries: except during periods of extended war, famine, and social chaos, health services generally improve, life expectancy increases, and child mortality decreases. At the same time, the fertility rate often plummets, and where it does, the population growth rate decreases despite increasing longevity."
   ]
  },
  {
   "cell_type": "markdown",
   "id": "20c2ed15",
   "metadata": {
    "deletable": false
   },
   "source": [
    "Run the cell below to generate two overlaid histograms, one for 1962 and one for 2010, that show the distributions of total fertility rates for these two years among all 201 countries in the `fertility` table."
   ]
  },
  {
   "cell_type": "code",
   "execution_count": 84,
   "id": "9ed500dc",
   "metadata": {
    "deletable": false
   },
   "outputs": [
    {
     "data": {
      "image/png": "[encoded data removed]",
      "text/plain": [
       "<Figure size 600x400 with 1 Axes>"
      ]
     },
     "metadata": {},
     "output_type": "display_data"
    }
   ],
   "source": [
    "Table().with_columns(\n",
    "    '1962', fertility.where('time', 1962).column(2),\n",
    "    '2010', fertility.where('time', 2010).column(2)\n",
    ").hist(bins=np.arange(0, 10, 0.5), unit='child per woman')\n",
    "_ = plots.xlabel('Children per woman')\n",
    "_ = plots.ylabel('Percent per children per woman')\n",
    "_ = plots.xticks(np.arange(10))"
   ]
  },
  {
   "cell_type": "markdown",
   "id": "ab54fc5b",
   "metadata": {},
   "source": [
    "**Question 9.** Assign `fertility_statements` to an **array** of the numbers of each statement below that can be correctly inferred from these histograms.\n",
    "\n",
    "1. About the same number of countries had a fertility rate between 3.5 and 4.5 in both 1962 and 2010.\n",
    "1. In 1962, less than 20% of countries had a fertility rate below 3.\n",
    "1. At least half of countries had a fertility rate between 5 and 8 in 1962.\n",
    "1. In 2010, about 40% of countries had a fertility rate between 1.5 and 2.\n",
    "1. At least half of countries had a fertility rate below 3 in 2010.\n",
    "1. More countries had a fertility rate above 3 in 1962 than in 2010.\n"
   ]
  },
  {
   "cell_type": "code",
   "execution_count": 85,
   "id": "ab5007ca",
   "metadata": {
    "deletable": false,
    "tags": []
   },
   "outputs": [
    {
     "name": "stdout",
     "output_type": "stream",
     "text": [
      "[1 2 3 4 5 6]\n"
     ]
    }
   ],
   "source": [
    "fertility_statements = make_array(1,2,3,4,5,6)\n",
    "print(fertility_statements)"
   ]
  },
  {
   "cell_type": "code",
   "execution_count": 86,
   "id": "5abc152d",
   "metadata": {
    "deletable": false,
    "editable": false
   },
   "outputs": [
    {
     "data": {
      "text/html": [
       "<p><strong><pre style='display: inline;'>q1_9</pre></strong> passed! 🚀</p>"
      ],
      "text/plain": [
       "q1_9 results: All test cases passed!"
      ]
     },
     "execution_count": 86,
     "metadata": {},
     "output_type": "execute_result"
    }
   ],
   "source": [
    "grader.check(\"q1_9\")"
   ]
  },
  {
   "cell_type": "markdown",
   "id": "62f56c3c",
   "metadata": {},
   "source": [
    "<!-- BEGIN QUESTION -->\n",
    "\n",
    "**Question 10.** Draw a line plot of the **world population** from 1800 through 2020 (inclusive of both endpoints). The world population is the sum of all of the countries' populations. You should use the `population` table defined earlier in the project. \n"
   ]
  },
  {
   "cell_type": "code",
   "execution_count": 87,
   "id": "22c293f3",
   "metadata": {
    "deletable": false,
    "manual_grade": true,
    "manual_problem_id": "global_pop_10",
    "tags": []
   },
   "outputs": [
    {
     "data": {
      "image/png": "[encoded data removed]",
      "text/plain": [
       "<Figure size 600x600 with 1 Axes>"
      ]
     },
     "metadata": {},
     "output_type": "display_data"
    }
   ],
   "source": [
    "#Fill in code here\n",
    "pop1=population.where('time', are.between(1800,2020)).group('time',sum).plot(0,2)"
   ]
  },
  {
   "cell_type": "markdown",
   "id": "c301d747",
   "metadata": {},
   "source": [
    "<!-- END QUESTION -->\n",
    "\n",
    "**Question 11.** Create a function `stats_for_year` that takes a `year` and returns a table of statistics. The table it returns should have four columns: `geo`, `population_total`, `children_per_woman_total_fertility`, and `child_mortality_under_5_per_1000_born`. Each row should contain one unique Alpha-3 country code and three statistics: population, fertility rate, and child mortality for that `year` from the `population`, `fertility` and `child_mortality` tables. Only include rows for which all three statistics are available for the country and year.\n",
    "\n",
    "In addition, restrict the result to country codes that appears in `big_50`, an array of the 50 most populous countries in 2020. This restriction will speed up computations later in the project.\n",
    "\n",
    "After you write `stats_for_year`, try calling `stats_for_year` on any year between 1960 and 2020. Try to understand the output of stats_for_year.\n",
    "\n",
    "*Hint*: The tests for this question are quite comprehensive, so if you pass the tests, your function is probably correct. However, without calling your function yourself and looking at the output, it will be very difficult to understand any problems you have, so try your best to write the function correctly and check that it works before you rely on the `grader` tests to confirm your work.\n",
    "\n",
    "*Hint*: What do all three tables have in common (pay attention to column names)?\n",
    "\n",
    "*Hint*: Create additional cells before directly writing the function.\n"
   ]
  },
  {
   "cell_type": "code",
   "execution_count": 88,
   "id": "93300807",
   "metadata": {
    "deletable": false,
    "tags": []
   },
   "outputs": [],
   "source": [
    "# We first create a population table that only includes the \n",
    "# 50 countries with the largest 2020 populations. We focus on \n",
    "# these 50 countries only so that plotting later will run faster.\n",
    "big_50 = population.where('time', are.equal_to(2020)).sort(\"population_total\", descending=True).take(np.arange(50)).column('geo')\n",
    "population_of_big_50 = population.where('time', are.above(1959)).where('geo', are.contained_in(big_50))\n",
    "\n",
    "def stats_for_year(year):\n",
    "    \"\"\"Return a table of the stats for each country that year.\"\"\"\n",
    "    p = population_of_big_50.where('time', are.equal_to(year)).drop('time')\n",
    "    f = fertility.where('time', are.equal_to(year)).drop('time')\n",
    "    c = child_mortality.where('time', are.equal_to(year)).drop('time')\n",
    "    stats_for_year = p.join('geo',f,'geo').join('geo',c,'geo')\n",
    "    return stats_for_year\n",
    "\n"
   ]
  },
  {
   "cell_type": "code",
   "execution_count": 89,
   "id": "58e684d5",
   "metadata": {},
   "outputs": [
    {
     "data": {
      "text/html": [
       "<table border=\"1\" class=\"dataframe\">\n",
       "    <thead>\n",
       "        <tr>\n",
       "            <th>geo</th> <th>population_total</th> <th>children_per_woman_total_fertility</th> <th>child_mortality_under_5_per_1000_born</th>\n",
       "        </tr>\n",
       "    </thead>\n",
       "    <tbody>\n",
       "        <tr>\n",
       "            <td>afg </td> <td>29185511        </td> <td>5.82                              </td> <td>87.95                                </td>\n",
       "        </tr>\n",
       "        <tr>\n",
       "            <td>ago </td> <td>23356247        </td> <td>6.16                              </td> <td>120.49                               </td>\n",
       "        </tr>\n",
       "        <tr>\n",
       "            <td>arg </td> <td>40895751        </td> <td>2.37                              </td> <td>14.44                                </td>\n",
       "        </tr>\n",
       "        <tr>\n",
       "            <td>bgd </td> <td>147575433       </td> <td>2.28                              </td> <td>49.1                                 </td>\n",
       "        </tr>\n",
       "        <tr>\n",
       "            <td>bra </td> <td>195713637       </td> <td>1.81                              </td> <td>18.71                                </td>\n",
       "        </tr>\n",
       "        <tr>\n",
       "            <td>can </td> <td>34147566        </td> <td>1.64                              </td> <td>5.65                                 </td>\n",
       "        </tr>\n",
       "        <tr>\n",
       "            <td>chn </td> <td>1368810604      </td> <td>1.59                              </td> <td>15.76                                </td>\n",
       "        </tr>\n",
       "        <tr>\n",
       "            <td>cod </td> <td>64563853        </td> <td>6.47                              </td> <td>115.29                               </td>\n",
       "        </tr>\n",
       "        <tr>\n",
       "            <td>col </td> <td>45222699        </td> <td>2.01                              </td> <td>18.47                                </td>\n",
       "        </tr>\n",
       "        <tr>\n",
       "            <td>deu </td> <td>80827001        </td> <td>1.39                              </td> <td>4.18                                 </td>\n",
       "        </tr>\n",
       "    </tbody>\n",
       "</table>\n",
       "<p>... (40 rows omitted)</p>"
      ],
      "text/plain": [
       "geo  | population_total | children_per_woman_total_fertility | child_mortality_under_5_per_1000_born\n",
       "afg  | 29185511         | 5.82                               | 87.95\n",
       "ago  | 23356247         | 6.16                               | 120.49\n",
       "arg  | 40895751         | 2.37                               | 14.44\n",
       "bgd  | 147575433        | 2.28                               | 49.1\n",
       "bra  | 195713637        | 1.81                               | 18.71\n",
       "can  | 34147566         | 1.64                               | 5.65\n",
       "chn  | 1368810604       | 1.59                               | 15.76\n",
       "cod  | 64563853         | 6.47                               | 115.29\n",
       "col  | 45222699         | 2.01                               | 18.47\n",
       "deu  | 80827001         | 1.39                               | 4.18\n",
       "... (40 rows omitted)"
      ]
     },
     "execution_count": 89,
     "metadata": {},
     "output_type": "execute_result"
    }
   ],
   "source": [
    "stats_for_year(2010)"
   ]
  },
  {
   "cell_type": "code",
   "execution_count": 90,
   "id": "20a2bb0e",
   "metadata": {
    "deletable": false,
    "editable": false
   },
   "outputs": [
    {
     "data": {
      "text/html": [
       "<p><strong><pre style='display: inline;'>q1_11</pre></strong> passed! 🎉</p>"
      ],
      "text/plain": [
       "q1_11 results: All test cases passed!"
      ]
     },
     "execution_count": 90,
     "metadata": {},
     "output_type": "execute_result"
    }
   ],
   "source": [
    "grader.check(\"q1_11\")"
   ]
  },
  {
   "cell_type": "markdown",
   "id": "d6abdb8c",
   "metadata": {},
   "source": [
    "**Question 12.** Create a table called `pop_by_decade` with two columns called `decade` and `population`, in this order. It has a row for each year that starts a decade, in increasing order starting with 1960 and ending with 2020. For example, 1960 is the start of the 1960's decade. The `population` column contains the total population of all countries included in the result of `stats_for_year(year)` for the first `year` of the decade. You should see that these countries contain most of the world's population.\n",
    "\n",
    "*Hint:* One approach is to define a function `pop_for_year` that computes this total population, then `apply` it to the `decade` column.  **Think about how you can use the `stats_for_year` function** from the previous question if you want to implement `pop_for_year`.\n",
    "\n",
    "This first test is just a sanity check for your helper function if you choose to use it. **You will not lose points for not implementing the function `pop_for_year`**.\n",
    "\n",
    "**Note:** The cell where you will generate the `pop_by_decade` table is below the cell where you can choose to define the helper function `pop_for_year`. You should define your `pop_by_decade` table in the cell that starts with the table `decades` being defined. \n"
   ]
  },
  {
   "cell_type": "code",
   "execution_count": 91,
   "id": "359977c8",
   "metadata": {
    "tags": []
   },
   "outputs": [],
   "source": [
    "def pop_for_year(year):\n",
    "    \"\"\"Return the total population for the specified year.\"\"\"\n",
    "    total_pop = sum(stats_for_year(year).column(1))\n",
    "    return total_pop"
   ]
  },
  {
   "cell_type": "code",
   "execution_count": 92,
   "id": "8706aa2f",
   "metadata": {
    "deletable": false,
    "editable": false
   },
   "outputs": [
    {
     "data": {
      "text/html": [
       "<p><strong><pre style='display: inline;'>q1_12_0</pre></strong> passed! 🙌</p>"
      ],
      "text/plain": [
       "q1_12_0 results: All test cases passed!"
      ]
     },
     "execution_count": 92,
     "metadata": {},
     "output_type": "execute_result"
    }
   ],
   "source": [
    "grader.check(\"q1_12_0\")"
   ]
  },
  {
   "cell_type": "markdown",
   "id": "0d2abacb",
   "metadata": {},
   "source": [
    "Now that you've defined your helper function (if you've chosen to do so), define the `pop_by_decade` table.\n"
   ]
  },
  {
   "cell_type": "code",
   "execution_count": 93,
   "id": "fa57fca0",
   "metadata": {
    "deletable": false,
    "tags": []
   },
   "outputs": [
    {
     "data": {
      "text/html": [
       "<table border=\"1\" class=\"dataframe\">\n",
       "    <thead>\n",
       "        <tr>\n",
       "            <th>decade</th> <th>population</th>\n",
       "        </tr>\n",
       "    </thead>\n",
       "    <tbody>\n",
       "        <tr>\n",
       "            <td>1960  </td> <td>2,635,123,897</td>\n",
       "        </tr>\n",
       "        <tr>\n",
       "            <td>1970  </td> <td>3,221,457,416</td>\n",
       "        </tr>\n",
       "        <tr>\n",
       "            <td>1980  </td> <td>3,890,044,418</td>\n",
       "        </tr>\n",
       "        <tr>\n",
       "            <td>1990  </td> <td>4,656,339,803</td>\n",
       "        </tr>\n",
       "        <tr>\n",
       "            <td>2000  </td> <td>5,377,062,169</td>\n",
       "        </tr>\n",
       "        <tr>\n",
       "            <td>2010  </td> <td>6,064,674,132</td>\n",
       "        </tr>\n",
       "        <tr>\n",
       "            <td>2020  </td> <td>6,765,161,289</td>\n",
       "        </tr>\n",
       "    </tbody>\n",
       "</table>"
      ],
      "text/plain": [
       "decade | population\n",
       "1960   | 2,635,123,897\n",
       "1970   | 3,221,457,416\n",
       "1980   | 3,890,044,418\n",
       "1990   | 4,656,339,803\n",
       "2000   | 5,377,062,169\n",
       "2010   | 6,064,674,132\n",
       "2020   | 6,765,161,289"
      ]
     },
     "execution_count": 93,
     "metadata": {},
     "output_type": "execute_result"
    }
   ],
   "source": [
    "decades = Table().with_column('decade', np.arange(1960, 2021, 10))\n",
    "\n",
    "pop_by_decade = decades.with_column('population', decades.apply(pop_for_year, 'decade'))\n",
    "pop_by_decade.set_format(1, NumberFormatter)"
   ]
  },
  {
   "cell_type": "code",
   "execution_count": 94,
   "id": "735ce768",
   "metadata": {
    "deletable": false,
    "editable": false
   },
   "outputs": [
    {
     "data": {
      "text/html": [
       "<p><strong><pre style='display: inline;'>q1_12</pre></strong> passed! 🎉</p>"
      ],
      "text/plain": [
       "q1_12 results: All test cases passed!"
      ]
     },
     "execution_count": 94,
     "metadata": {},
     "output_type": "execute_result"
    }
   ],
   "source": [
    "grader.check(\"q1_12\")"
   ]
  },
  {
   "cell_type": "markdown",
   "id": "dbfc7aff",
   "metadata": {
    "deletable": false,
    "editable": false
   },
   "source": [
    "The `countries` table describes various characteristics of countries. The `country` column contains the same codes as the `geo` column in each of the other data tables (`population`, `fertility`, and `child_mortality`). The `world_6region` column classifies each country into a region of the world. Run the cell below to inspect the data."
   ]
  },
  {
   "cell_type": "code",
   "execution_count": 95,
   "id": "7e7f3e73",
   "metadata": {},
   "outputs": [
    {
     "data": {
      "text/html": [
       "<table border=\"1\" class=\"dataframe\">\n",
       "    <thead>\n",
       "        <tr>\n",
       "            <th>country</th> <th>name</th> <th>world_6region</th>\n",
       "        </tr>\n",
       "    </thead>\n",
       "    <tbody>\n",
       "        <tr>\n",
       "            <td>afg    </td> <td>Afghanistan         </td> <td>south_asia              </td>\n",
       "        </tr>\n",
       "        <tr>\n",
       "            <td>ago    </td> <td>Angola              </td> <td>sub_saharan_africa      </td>\n",
       "        </tr>\n",
       "        <tr>\n",
       "            <td>alb    </td> <td>Albania             </td> <td>europe_central_asia     </td>\n",
       "        </tr>\n",
       "        <tr>\n",
       "            <td>and    </td> <td>Andorra             </td> <td>europe_central_asia     </td>\n",
       "        </tr>\n",
       "        <tr>\n",
       "            <td>are    </td> <td>United Arab Emirates</td> <td>middle_east_north_africa</td>\n",
       "        </tr>\n",
       "        <tr>\n",
       "            <td>arg    </td> <td>Argentina           </td> <td>america                 </td>\n",
       "        </tr>\n",
       "        <tr>\n",
       "            <td>arm    </td> <td>Armenia             </td> <td>europe_central_asia     </td>\n",
       "        </tr>\n",
       "        <tr>\n",
       "            <td>atg    </td> <td>Antigua and Barbuda </td> <td>america                 </td>\n",
       "        </tr>\n",
       "        <tr>\n",
       "            <td>aus    </td> <td>Australia           </td> <td>east_asia_pacific       </td>\n",
       "        </tr>\n",
       "        <tr>\n",
       "            <td>aut    </td> <td>Austria             </td> <td>europe_central_asia     </td>\n",
       "        </tr>\n",
       "    </tbody>\n",
       "</table>\n",
       "<p>... (187 rows omitted)</p>"
      ],
      "text/plain": [
       "country | name                 | world_6region\n",
       "afg     | Afghanistan          | south_asia\n",
       "ago     | Angola               | sub_saharan_africa\n",
       "alb     | Albania              | europe_central_asia\n",
       "and     | Andorra              | europe_central_asia\n",
       "are     | United Arab Emirates | middle_east_north_africa\n",
       "arg     | Argentina            | america\n",
       "arm     | Armenia              | europe_central_asia\n",
       "atg     | Antigua and Barbuda  | america\n",
       "aus     | Australia            | east_asia_pacific\n",
       "aut     | Austria              | europe_central_asia\n",
       "... (187 rows omitted)"
      ]
     },
     "execution_count": 95,
     "metadata": {},
     "output_type": "execute_result"
    }
   ],
   "source": [
    "countries = Table.read_table('countries.csv').where('country', are.contained_in(population.group('geo').column('geo')))\n",
    "countries.select('country', 'name', 'world_6region')"
   ]
  },
  {
   "cell_type": "markdown",
   "id": "78df89a4",
   "metadata": {},
   "source": [
    "**Question 13.** Create a table called `region_counts`. It should contain two columns called `region` and `count`. The `region` column should contain regions of the world, and the `count` column should contain the number of countries in each region that appears in the result of `stats_for_year(2020)`. \n",
    "\n",
    "For example, one row would have `south_asia` as its `region` value and an integer as its `count` value: the number of large South Asian countries for which we have population, fertility, and child mortality numbers from 2020.\n",
    "\n",
    "*Hint*: You may have to relabel a column to name it `region`. \n"
   ]
  },
  {
   "cell_type": "code",
   "execution_count": 96,
   "id": "95ada135",
   "metadata": {
    "deletable": false,
    "tags": []
   },
   "outputs": [
    {
     "data": {
      "text/html": [
       "<table border=\"1\" class=\"dataframe\">\n",
       "    <thead>\n",
       "        <tr>\n",
       "            <th>region</th> <th>count</th>\n",
       "        </tr>\n",
       "    </thead>\n",
       "    <tbody>\n",
       "        <tr>\n",
       "            <td>america                 </td> <td>8    </td>\n",
       "        </tr>\n",
       "        <tr>\n",
       "            <td>east_asia_pacific       </td> <td>9    </td>\n",
       "        </tr>\n",
       "        <tr>\n",
       "            <td>europe_central_asia     </td> <td>10   </td>\n",
       "        </tr>\n",
       "        <tr>\n",
       "            <td>middle_east_north_africa</td> <td>7    </td>\n",
       "        </tr>\n",
       "        <tr>\n",
       "            <td>south_asia              </td> <td>5    </td>\n",
       "        </tr>\n",
       "        <tr>\n",
       "            <td>sub_saharan_africa      </td> <td>11   </td>\n",
       "        </tr>\n",
       "    </tbody>\n",
       "</table>"
      ],
      "text/plain": [
       "region                   | count\n",
       "america                  | 8\n",
       "east_asia_pacific        | 9\n",
       "europe_central_asia      | 10\n",
       "middle_east_north_africa | 7\n",
       "south_asia               | 5\n",
       "sub_saharan_africa       | 11"
      ]
     },
     "execution_count": 96,
     "metadata": {},
     "output_type": "execute_result"
    }
   ],
   "source": [
    "stats_for_2020 = stats_for_year(2020)\n",
    "region_counts = stats_for_year(2020).join('geo',countries, 'country').group('world_6region').relabeled(0,'region')\n",
    "region_counts"
   ]
  },
  {
   "cell_type": "code",
   "execution_count": 97,
   "id": "b2528d1c",
   "metadata": {
    "deletable": false,
    "editable": false
   },
   "outputs": [
    {
     "data": {
      "text/html": [
       "<p><strong><pre style='display: inline;'>q1_13</pre></strong> passed! 🍀</p>"
      ],
      "text/plain": [
       "q1_13 results: All test cases passed!"
      ]
     },
     "execution_count": 97,
     "metadata": {},
     "output_type": "execute_result"
    }
   ],
   "source": [
    "grader.check(\"q1_13\")"
   ]
  },
  {
   "cell_type": "markdown",
   "id": "25a99fab",
   "metadata": {
    "deletable": false
   },
   "source": [
    "The following scatter diagram compares total fertility rate and child mortality rate for each country in 1960. The area of each dot represents the population of the country, and the color represents its region of the world. Run the cell. Do you think you can identify any of the dots?"
   ]
  },
  {
   "cell_type": "code",
   "execution_count": 98,
   "id": "34ebbc3a",
   "metadata": {
    "deletable": false
   },
   "outputs": [
    {
     "data": {
      "image/png": "[encoded data removed]",
      "text/plain": [
       "<Figure size 500x500 with 1 Axes>"
      ]
     },
     "metadata": {},
     "output_type": "display_data"
    }
   ],
   "source": [
    "from functools import lru_cache as cache\n",
    "\n",
    "# This cache annotation makes sure that if the same year\n",
    "# is passed as an argument twice, the work of computing\n",
    "# the result is only carried out once.\n",
    "@cache(None)\n",
    "def stats_relabeled(year):\n",
    "    \"\"\"Relabeled and cached version of stats_for_year.\"\"\"\n",
    "    return stats_for_year(year).relabel(2, 'Children per woman').relabel(3, 'Child deaths per 1000 born')\n",
    "\n",
    "def fertility_vs_child_mortality(year):\n",
    "    \"\"\"Draw a color scatter diagram comparing child mortality and fertility.\"\"\"\n",
    "    with_region = stats_relabeled(year).join('geo', countries.select('country', 'world_6region'), 'country')\n",
    "    with_region.scatter(2, 3, sizes=1, group=4, s=500)\n",
    "    plots.xlim(0,10)\n",
    "    plots.ylim(-50, 500)\n",
    "    plots.title(year)\n",
    "    plots.show()\n",
    "\n",
    "fertility_vs_child_mortality(1960)"
   ]
  },
  {
   "cell_type": "markdown",
   "id": "49fa7b8b",
   "metadata": {},
   "source": [
    "**Question 14.** Assign `scatter_statements` to an array of the numbers of each statement below that can be inferred from this scatter diagram for 1960. \n",
    "1. All countries in `europe_central_asia` had uniformly low fertility rates.\n",
    "1. The lowest child mortality rate of any country was from an `east_asia_pacific` country.\n",
    "1. Most countries had a fertility rate above 5.\n",
    "1. There was an association between child mortality and fertility.\n",
    "1. The two largest countries by population also had the two highest child mortality rates.\n"
   ]
  },
  {
   "cell_type": "code",
   "execution_count": 99,
   "id": "41fda72e",
   "metadata": {
    "deletable": false,
    "tags": []
   },
   "outputs": [
    {
     "name": "stdout",
     "output_type": "stream",
     "text": [
      "[3 4]\n"
     ]
    }
   ],
   "source": [
    "scatter_statements = make_array(3,4)\n",
    "print(scatter_statements)"
   ]
  },
  {
   "cell_type": "code",
   "execution_count": 100,
   "id": "372c3205",
   "metadata": {
    "deletable": false,
    "editable": false
   },
   "outputs": [
    {
     "data": {
      "text/html": [
       "<p><strong><pre style='display: inline;'>q1_14</pre></strong> passed! 🎉</p>"
      ],
      "text/plain": [
       "q1_14 results: All test cases passed!"
      ]
     },
     "execution_count": 100,
     "metadata": {},
     "output_type": "execute_result"
    }
   ],
   "source": [
    "grader.check(\"q1_14\")"
   ]
  },
  {
   "cell_type": "markdown",
   "id": "597ae8c2",
   "metadata": {
    "deletable": false
   },
   "source": [
    "The result of the cell below is interactive. Drag the slider to the right to see how countries have changed over time. You’ll find that in terms of population growth, the divide between the countries of the global North and global South that existed in the 1960s has shrunk significantly. \n",
    "\n",
    "This shift in fertility rates is the reason that the global population is expected to grow more slowly in the 21st century than it did in the 19th and 20th centuries. Fertility rates change for reasons that include cultural patterns, better prospects for children surviving to adulthood, and family planning (such as contraception and women’s greater control over their reproduction).\n",
    "\n",
    "**Note:** Don't worry if a red warning pops up when running the cell below. You'll still be able to run the cell!"
   ]
  },
  {
   "cell_type": "code",
   "execution_count": 101,
   "id": "6510f99b",
   "metadata": {
    "deletable": false,
    "scrolled": true
   },
   "outputs": [
    {
     "data": {
      "application/vnd.jupyter.widget-view+json": {
       "model_id": "9888137671b5440694f47291b1fd4573",
       "version_major": 2,
       "version_minor": 0
      },
      "text/plain": [
       "interactive(children=(IntSlider(value=1960, description='year', max=2020, min=1960), Output()), _dom_classes=(…"
      ]
     },
     "metadata": {},
     "output_type": "display_data"
    }
   ],
   "source": [
    "_ = widgets.interact(fertility_vs_child_mortality, \n",
    "                     year=widgets.IntSlider(min=1960, max=2020, value=1960))"
   ]
  },
  {
   "cell_type": "markdown",
   "id": "70e599c7",
   "metadata": {
    "deletable": false,
    "editable": false
   },
   "source": [
    "Now is a great time to take a break and watch the same data presented by [Hans Rosling in a 2010 TEDx talk](https://www.gapminder.org/videos/reducing-child-mortality-a-moral-and-environmental-imperative) with smoother animation and witty commentary."
   ]
  },
  {
   "cell_type": "markdown",
   "id": "1205f38e",
   "metadata": {},
   "source": [
    "When we look at population and fertility as data scientists, we need to learn about the experiences of people in real life, not just abstractly as data. We should also recognize that population studies have sometimes had political undercurrents. Those undercurrents have included population control, control of women’s reproduction, or fears of shifts between racial groups. To do better as data scientists, we should check our assumptions to avoid unthinkingly reproducing past patterns."
   ]
  },
  {
   "cell_type": "markdown",
   "id": "802c57ec",
   "metadata": {
    "deletable": false
   },
   "source": [
    "## 2. Global Poverty"
   ]
  },
  {
   "cell_type": "markdown",
   "id": "b34fe1c5",
   "metadata": {
    "deletable": false
   },
   "source": [
    "In 1800, 85% of the world's 1 billion people lived in [extreme poverty](https://en.wikipedia.org/wiki/Extreme_poverty), defined by the United Nations as \"a condition characterized by severe deprivation of basic human needs, including food, safe drinking water, sanitation facilities, health, shelter, education and information.\" At the time when the data in this project were gathered, a common definition of extreme poverty was a person living on less than \\$1.25 a day.\n",
    "\n",
    "In 2018, the proportion of people living in extreme poverty was estimated to be [about 9\\%](https://unstats.un.org/sdgs/report/2019/goal-01/). Although the world rate of extreme poverty has declined consistently for hundreds of years, the number of people living in extreme poverty is still over 600 million. The United Nations adopted an [ambitious goal](http://www.un.org/sustainabledevelopment/poverty/): \"By 2030, eradicate extreme poverty for all people everywhere.\"\n",
    "\n",
    "In this part of the project, we will examine some aspects of global poverty that might affect whether the goal is achievable. The causes of poverty are complex. They include global histories, such as colonialism, as well as factors such as health care, economics, and social inequality in each country."
   ]
  },
  {
   "cell_type": "markdown",
   "id": "4e854903",
   "metadata": {
    "deletable": false,
    "editable": false
   },
   "source": [
    "First, load the population and poverty rate by country and year and the country descriptions. While the `population` table has values for every recent year for many countries, the `poverty` table only includes certain years for each country in which a measurement of the rate of extreme poverty was available."
   ]
  },
  {
   "cell_type": "code",
   "execution_count": 102,
   "id": "8375ad99",
   "metadata": {},
   "outputs": [
    {
     "data": {
      "text/html": [
       "<table border=\"1\" class=\"dataframe\">\n",
       "    <thead>\n",
       "        <tr>\n",
       "            <th>geo</th> <th>time</th> <th>extreme_poverty_percent_people_below_125_a_day</th>\n",
       "        </tr>\n",
       "    </thead>\n",
       "    <tbody>\n",
       "        <tr>\n",
       "            <td>alb </td> <td>1996</td> <td>0.2                                           </td>\n",
       "        </tr>\n",
       "        <tr>\n",
       "            <td>alb </td> <td>2002</td> <td>0.73                                          </td>\n",
       "        </tr>\n",
       "        <tr>\n",
       "            <td>alb </td> <td>2004</td> <td>0.53                                          </td>\n",
       "        </tr>\n",
       "    </tbody>\n",
       "</table>\n",
       "<p>... (1096 rows omitted)</p>"
      ],
      "text/plain": [
       "<IPython.core.display.HTML object>"
      ]
     },
     "metadata": {},
     "output_type": "display_data"
    }
   ],
   "source": [
    "population = Table.read_table('population.csv')\n",
    "countries = Table.read_table('countries.csv').where('country', are.contained_in(population.group('geo').column('geo')))\n",
    "poverty = Table.read_table('poverty.csv')\n",
    "poverty.show(3)"
   ]
  },
  {
   "cell_type": "markdown",
   "id": "611bb7cd",
   "metadata": {},
   "source": [
    "**Question 1.** Assign `latest_poverty` to a three-column table with one row for each country that appears in the `poverty` table. The first column should contain the 3-letter code for the country. The second column should contain the most recent year for which an extreme poverty rate is available for the country. The third column should contain the poverty rate in that year. **Do not change the last line, so that the labels of your table are set correctly.**\n",
    "\n",
    "*Hint*: think about how ```group``` works: it does a sequential search of the table (from top to bottom) and collects values in the array in the order in which they appear, and then applies a function to that array. The `first` function may be helpful, but you are not required to use it.\n"
   ]
  },
  {
   "cell_type": "code",
   "execution_count": 103,
   "id": "2fb4a1fe",
   "metadata": {
    "deletable": false,
    "tags": []
   },
   "outputs": [
    {
     "data": {
      "text/html": [
       "<table border=\"1\" class=\"dataframe\">\n",
       "    <thead>\n",
       "        <tr>\n",
       "            <th>geo</th> <th>time</th> <th>poverty_percent</th>\n",
       "        </tr>\n",
       "    </thead>\n",
       "    <tbody>\n",
       "        <tr>\n",
       "            <td>ago </td> <td>2009</td> <td>43.37          </td>\n",
       "        </tr>\n",
       "        <tr>\n",
       "            <td>alb </td> <td>2012</td> <td>0.46           </td>\n",
       "        </tr>\n",
       "        <tr>\n",
       "            <td>arg </td> <td>2011</td> <td>1.41           </td>\n",
       "        </tr>\n",
       "        <tr>\n",
       "            <td>arm </td> <td>2012</td> <td>1.75           </td>\n",
       "        </tr>\n",
       "        <tr>\n",
       "            <td>aus </td> <td>2003</td> <td>1.36           </td>\n",
       "        </tr>\n",
       "        <tr>\n",
       "            <td>aut </td> <td>2004</td> <td>0.34           </td>\n",
       "        </tr>\n",
       "        <tr>\n",
       "            <td>aze </td> <td>2008</td> <td>0.31           </td>\n",
       "        </tr>\n",
       "        <tr>\n",
       "            <td>bdi </td> <td>2006</td> <td>81.32          </td>\n",
       "        </tr>\n",
       "        <tr>\n",
       "            <td>bel </td> <td>2000</td> <td>0.5            </td>\n",
       "        </tr>\n",
       "        <tr>\n",
       "            <td>ben </td> <td>2012</td> <td>51.61          </td>\n",
       "        </tr>\n",
       "    </tbody>\n",
       "</table>\n",
       "<p>... (135 rows omitted)</p>"
      ],
      "text/plain": [
       "geo  | time | poverty_percent\n",
       "ago  | 2009 | 43.37\n",
       "alb  | 2012 | 0.46\n",
       "arg  | 2011 | 1.41\n",
       "arm  | 2012 | 1.75\n",
       "aus  | 2003 | 1.36\n",
       "aut  | 2004 | 0.34\n",
       "aze  | 2008 | 0.31\n",
       "bdi  | 2006 | 81.32\n",
       "bel  | 2000 | 0.5\n",
       "ben  | 2012 | 51.61\n",
       "... (135 rows omitted)"
      ]
     },
     "execution_count": 103,
     "metadata": {},
     "output_type": "execute_result"
    }
   ],
   "source": [
    "def first(values):\n",
    "    return values.item(0)\n",
    "\n",
    "latest_poverty = poverty.sort('time', descending = True).group('geo', first) \n",
    "latest_poverty = latest_poverty.relabeled(0, 'geo').relabeled(1, 'time').relabeled(2, 'poverty_percent') \n",
    "latest_poverty"
   ]
  },
  {
   "cell_type": "code",
   "execution_count": 104,
   "id": "f398d896",
   "metadata": {
    "deletable": false,
    "editable": false
   },
   "outputs": [
    {
     "data": {
      "text/html": [
       "<p><strong><pre style='display: inline;'>q2_1</pre></strong> passed! 🌟</p>"
      ],
      "text/plain": [
       "q2_1 results: All test cases passed!"
      ]
     },
     "execution_count": 104,
     "metadata": {},
     "output_type": "execute_result"
    }
   ],
   "source": [
    "grader.check(\"q2_1\")"
   ]
  },
  {
   "cell_type": "markdown",
   "id": "367d32de",
   "metadata": {},
   "source": [
    "**Question 2.** Using both `latest_poverty` and `population`, create a four-column table called `recent_poverty_total` with one row for each country in `latest_poverty`. The four columns should have the following labels and contents:\n",
    "1. `geo` contains the 3-letter country code,\n",
    "1. `poverty_percent` contains the most recent poverty percent,\n",
    "1. `population_total` contains the population of the country in 2010,\n",
    "1. `poverty_total` contains the number of people in poverty **rounded to the nearest integer**, based on the 2010 population and most recent poverty rate.\n",
    "\n",
    "*Hint*: You are not required to use `poverty_and_pop`, and you are always welcome to add any additional names. "
   ]
  },
  {
   "cell_type": "code",
   "execution_count": 105,
   "id": "fb1272d8",
   "metadata": {
    "deletable": false,
    "tags": []
   },
   "outputs": [
    {
     "data": {
      "text/html": [
       "<table border=\"1\" class=\"dataframe\">\n",
       "    <thead>\n",
       "        <tr>\n",
       "            <th>geo</th> <th>poverty_percent</th> <th>population_total</th> <th>poverty_total</th>\n",
       "        </tr>\n",
       "    </thead>\n",
       "    <tbody>\n",
       "        <tr>\n",
       "            <td>ago </td> <td>43.37          </td> <td>23356247        </td> <td>1.01296e+07  </td>\n",
       "        </tr>\n",
       "        <tr>\n",
       "            <td>alb </td> <td>0.46           </td> <td>2948029         </td> <td>13561        </td>\n",
       "        </tr>\n",
       "        <tr>\n",
       "            <td>arg </td> <td>1.41           </td> <td>40895751        </td> <td>576630       </td>\n",
       "        </tr>\n",
       "        <tr>\n",
       "            <td>arm </td> <td>1.75           </td> <td>2877314         </td> <td>50353        </td>\n",
       "        </tr>\n",
       "        <tr>\n",
       "            <td>aus </td> <td>1.36           </td> <td>22154687        </td> <td>301304       </td>\n",
       "        </tr>\n",
       "        <tr>\n",
       "            <td>aut </td> <td>0.34           </td> <td>8409945         </td> <td>28594        </td>\n",
       "        </tr>\n",
       "        <tr>\n",
       "            <td>aze </td> <td>0.31           </td> <td>9032465         </td> <td>28001        </td>\n",
       "        </tr>\n",
       "        <tr>\n",
       "            <td>bdi </td> <td>81.32          </td> <td>8675606         </td> <td>7.055e+06    </td>\n",
       "        </tr>\n",
       "        <tr>\n",
       "            <td>bel </td> <td>0.5            </td> <td>10938735        </td> <td>54694        </td>\n",
       "        </tr>\n",
       "        <tr>\n",
       "            <td>ben </td> <td>51.61          </td> <td>9199254         </td> <td>4.74774e+06  </td>\n",
       "        </tr>\n",
       "    </tbody>\n",
       "</table>\n",
       "<p>... (135 rows omitted)</p>"
      ],
      "text/plain": [
       "geo  | poverty_percent | population_total | poverty_total\n",
       "ago  | 43.37           | 23356247         | 1.01296e+07\n",
       "alb  | 0.46            | 2948029          | 13561\n",
       "arg  | 1.41            | 40895751         | 576630\n",
       "arm  | 1.75            | 2877314          | 50353\n",
       "aus  | 1.36            | 22154687         | 301304\n",
       "aut  | 0.34            | 8409945          | 28594\n",
       "aze  | 0.31            | 9032465          | 28001\n",
       "bdi  | 81.32           | 8675606          | 7.055e+06\n",
       "bel  | 0.5             | 10938735         | 54694\n",
       "ben  | 51.61           | 9199254          | 4.74774e+06\n",
       "... (135 rows omitted)"
      ]
     },
     "execution_count": 105,
     "metadata": {},
     "output_type": "execute_result"
    }
   ],
   "source": [
    "poverty_and_pop = population.sort('geo').where('time', are.equal_to(2010))\n",
    "latest = latest_poverty.drop(1)\n",
    "poverty_total = latest.join('geo',poverty_and_pop,'geo').drop(2)\n",
    "total = (np.round(poverty_total.column(1) / 100 * poverty_total.column(2)))\n",
    "recent_poverty_total = poverty_total.with_column('poverty_total', total)\n",
    "recent_poverty_total"
   ]
  },
  {
   "cell_type": "code",
   "execution_count": 106,
   "id": "45d800a7",
   "metadata": {
    "deletable": false,
    "editable": false
   },
   "outputs": [
    {
     "data": {
      "text/html": [
       "<p><strong><pre style='display: inline;'>q2_2</pre></strong> passed! 💯</p>"
      ],
      "text/plain": [
       "q2_2 results: All test cases passed!"
      ]
     },
     "execution_count": 106,
     "metadata": {},
     "output_type": "execute_result"
    }
   ],
   "source": [
    "grader.check(\"q2_2\")"
   ]
  },
  {
   "cell_type": "markdown",
   "id": "41b2108c",
   "metadata": {},
   "source": [
    "**Question 3.** Assign the name `poverty_percent` to the known percentage of the world’s 2010 population that were living in extreme poverty. Assume that the `poverty_total` numbers in the `recent_poverty_total` table describe **all** people in 2010 living in extreme poverty. You should get a number that is above the 2018 global estimate of 9%, since many country-specific poverty rates are older than 2018.\n",
    "\n",
    "*Hint*: The sum of the `population_total` column in the `recent_poverty_total` table is not the world population, because only a subset of the world's countries are included in the `recent_poverty_total` table (only some countries have known poverty rates). Use the `population` table to compute the world's 2010 total population.\n",
    "\n",
    "*Hint*: We are computing a percentage (value between 0 and 100), not a proportion (value between 0 and 1).\n"
   ]
  },
  {
   "cell_type": "code",
   "execution_count": 107,
   "id": "4998660d",
   "metadata": {
    "deletable": false,
    "tags": []
   },
   "outputs": [
    {
     "data": {
      "text/plain": [
       "14.248865303997139"
      ]
     },
     "execution_count": 107,
     "metadata": {},
     "output_type": "execute_result"
    }
   ],
   "source": [
    "world = sum(population.where('time', are.equal_to(2010)).column(2))\n",
    "poverty = sum(recent_poverty_total.column(3))\n",
    "poverty_percent = (poverty / world) * 100\n",
    "poverty_percent"
   ]
  },
  {
   "cell_type": "code",
   "execution_count": 108,
   "id": "cc920aa2",
   "metadata": {
    "deletable": false,
    "editable": false
   },
   "outputs": [
    {
     "data": {
      "text/html": [
       "<p><strong><pre style='display: inline;'>q2_3</pre></strong> passed! 🌈</p>"
      ],
      "text/plain": [
       "q2_3 results: All test cases passed!"
      ]
     },
     "execution_count": 108,
     "metadata": {},
     "output_type": "execute_result"
    }
   ],
   "source": [
    "grader.check(\"q2_3\")"
   ]
  },
  {
   "cell_type": "markdown",
   "id": "a97997c9",
   "metadata": {
    "deletable": false,
    "editable": false
   },
   "source": [
    "The `countries` table includes not only the name and region of countries, but also their positions on the globe."
   ]
  },
  {
   "cell_type": "code",
   "execution_count": 109,
   "id": "3ff8073f",
   "metadata": {
    "deletable": false,
    "editable": false
   },
   "outputs": [
    {
     "data": {
      "text/html": [
       "<table border=\"1\" class=\"dataframe\">\n",
       "    <thead>\n",
       "        <tr>\n",
       "            <th>country</th> <th>name</th> <th>world_4region</th> <th>latitude</th> <th>longitude</th>\n",
       "        </tr>\n",
       "    </thead>\n",
       "    <tbody>\n",
       "        <tr>\n",
       "            <td>afg    </td> <td>Afghanistan         </td> <td>asia         </td> <td>33      </td> <td>66       </td>\n",
       "        </tr>\n",
       "        <tr>\n",
       "            <td>ago    </td> <td>Angola              </td> <td>africa       </td> <td>-12.5   </td> <td>18.5     </td>\n",
       "        </tr>\n",
       "        <tr>\n",
       "            <td>alb    </td> <td>Albania             </td> <td>europe       </td> <td>41      </td> <td>20       </td>\n",
       "        </tr>\n",
       "        <tr>\n",
       "            <td>and    </td> <td>Andorra             </td> <td>europe       </td> <td>42.5078 </td> <td>1.52109  </td>\n",
       "        </tr>\n",
       "        <tr>\n",
       "            <td>are    </td> <td>United Arab Emirates</td> <td>asia         </td> <td>23.75   </td> <td>54.5     </td>\n",
       "        </tr>\n",
       "        <tr>\n",
       "            <td>arg    </td> <td>Argentina           </td> <td>americas     </td> <td>-34     </td> <td>-64      </td>\n",
       "        </tr>\n",
       "        <tr>\n",
       "            <td>arm    </td> <td>Armenia             </td> <td>europe       </td> <td>40.25   </td> <td>45       </td>\n",
       "        </tr>\n",
       "        <tr>\n",
       "            <td>atg    </td> <td>Antigua and Barbuda </td> <td>americas     </td> <td>17.05   </td> <td>-61.8    </td>\n",
       "        </tr>\n",
       "        <tr>\n",
       "            <td>aus    </td> <td>Australia           </td> <td>asia         </td> <td>-25     </td> <td>135      </td>\n",
       "        </tr>\n",
       "        <tr>\n",
       "            <td>aut    </td> <td>Austria             </td> <td>europe       </td> <td>47.3333 </td> <td>13.3333  </td>\n",
       "        </tr>\n",
       "    </tbody>\n",
       "</table>\n",
       "<p>... (187 rows omitted)</p>"
      ],
      "text/plain": [
       "country | name                 | world_4region | latitude | longitude\n",
       "afg     | Afghanistan          | asia          | 33       | 66\n",
       "ago     | Angola               | africa        | -12.5    | 18.5\n",
       "alb     | Albania              | europe        | 41       | 20\n",
       "and     | Andorra              | europe        | 42.5078  | 1.52109\n",
       "are     | United Arab Emirates | asia          | 23.75    | 54.5\n",
       "arg     | Argentina            | americas      | -34      | -64\n",
       "arm     | Armenia              | europe        | 40.25    | 45\n",
       "atg     | Antigua and Barbuda  | americas      | 17.05    | -61.8\n",
       "aus     | Australia            | asia          | -25      | 135\n",
       "aut     | Austria              | europe        | 47.3333  | 13.3333\n",
       "... (187 rows omitted)"
      ]
     },
     "execution_count": 109,
     "metadata": {},
     "output_type": "execute_result"
    }
   ],
   "source": [
    "countries.select('country', 'name', 'world_4region', 'latitude', 'longitude')"
   ]
  },
  {
   "cell_type": "markdown",
   "id": "e845508c",
   "metadata": {},
   "source": [
    "**Question 4.** Using both `countries` and `recent_poverty_total`, create a five-column table called `poverty_map` with one row for every country in `recent_poverty_total`.  The five columns should have the following labels and contents, in this order:\n",
    "1. `latitude` contains the country's latitude,\n",
    "1. `longitude` contains the country's longitude,\n",
    "1. `name` contains the country's name,\n",
    "1. `region` contains the country's region from the `world_4region` column of `countries`,\n",
    "1. `poverty_total` contains the country's poverty total.\n"
   ]
  },
  {
   "cell_type": "code",
   "execution_count": 110,
   "id": "dd531a43",
   "metadata": {
    "deletable": false,
    "tags": []
   },
   "outputs": [
    {
     "data": {
      "text/html": [
       "<table border=\"1\" class=\"dataframe\">\n",
       "    <thead>\n",
       "        <tr>\n",
       "            <th>latitude</th> <th>longitude</th> <th>name</th> <th>region</th> <th>poverty_total</th>\n",
       "        </tr>\n",
       "    </thead>\n",
       "    <tbody>\n",
       "        <tr>\n",
       "            <td>-12.5   </td> <td>18.5     </td> <td>Angola    </td> <td>africa  </td> <td>1.01296e+07  </td>\n",
       "        </tr>\n",
       "        <tr>\n",
       "            <td>41      </td> <td>20       </td> <td>Albania   </td> <td>europe  </td> <td>13561        </td>\n",
       "        </tr>\n",
       "        <tr>\n",
       "            <td>-34     </td> <td>-64      </td> <td>Argentina </td> <td>americas</td> <td>576630       </td>\n",
       "        </tr>\n",
       "        <tr>\n",
       "            <td>40.25   </td> <td>45       </td> <td>Armenia   </td> <td>europe  </td> <td>50353        </td>\n",
       "        </tr>\n",
       "        <tr>\n",
       "            <td>-25     </td> <td>135      </td> <td>Australia </td> <td>asia    </td> <td>301304       </td>\n",
       "        </tr>\n",
       "        <tr>\n",
       "            <td>47.3333 </td> <td>13.3333  </td> <td>Austria   </td> <td>europe  </td> <td>28594        </td>\n",
       "        </tr>\n",
       "        <tr>\n",
       "            <td>40.5    </td> <td>47.5     </td> <td>Azerbaijan</td> <td>europe  </td> <td>28001        </td>\n",
       "        </tr>\n",
       "        <tr>\n",
       "            <td>-3.5    </td> <td>30       </td> <td>Burundi   </td> <td>africa  </td> <td>7.055e+06    </td>\n",
       "        </tr>\n",
       "        <tr>\n",
       "            <td>50.75   </td> <td>4.5      </td> <td>Belgium   </td> <td>europe  </td> <td>54694        </td>\n",
       "        </tr>\n",
       "        <tr>\n",
       "            <td>9.5     </td> <td>2.25     </td> <td>Benin     </td> <td>africa  </td> <td>4.74774e+06  </td>\n",
       "        </tr>\n",
       "    </tbody>\n",
       "</table>\n",
       "<p>... (135 rows omitted)</p>"
      ],
      "text/plain": [
       "latitude | longitude | name       | region   | poverty_total\n",
       "-12.5    | 18.5      | Angola     | africa   | 1.01296e+07\n",
       "41       | 20        | Albania    | europe   | 13561\n",
       "-34      | -64       | Argentina  | americas | 576630\n",
       "40.25    | 45        | Armenia    | europe   | 50353\n",
       "-25      | 135       | Australia  | asia     | 301304\n",
       "47.3333  | 13.3333   | Austria    | europe   | 28594\n",
       "40.5     | 47.5      | Azerbaijan | europe   | 28001\n",
       "-3.5     | 30        | Burundi    | africa   | 7.055e+06\n",
       "50.75    | 4.5       | Belgium    | europe   | 54694\n",
       "9.5      | 2.25      | Benin      | africa   | 4.74774e+06\n",
       "... (135 rows omitted)"
      ]
     },
     "execution_count": 110,
     "metadata": {},
     "output_type": "execute_result"
    }
   ],
   "source": [
    "new_table = recent_poverty_total.drop(1,2).join('geo',countries.select('country', 'name', 'world_4region', 'latitude', 'longitude'),'country')\n",
    "poverty_map = Table().with_columns('latitude', new_table.column(4),'longitude',new_table.column(5),'name',new_table.column(2), 'region',new_table.column(3), 'poverty_total', new_table.column(1))\n",
    "poverty_map"
   ]
  },
  {
   "cell_type": "code",
   "execution_count": 111,
   "id": "65fadd53",
   "metadata": {
    "deletable": false,
    "editable": false
   },
   "outputs": [
    {
     "data": {
      "text/html": [
       "<p><strong><pre style='display: inline;'>q2_4</pre></strong> passed! 🍀</p>"
      ],
      "text/plain": [
       "q2_4 results: All test cases passed!"
      ]
     },
     "execution_count": 111,
     "metadata": {},
     "output_type": "execute_result"
    }
   ],
   "source": [
    "grader.check(\"q2_4\")"
   ]
  },
  {
   "cell_type": "markdown",
   "id": "a93d87c7",
   "metadata": {
    "deletable": false,
    "editable": false
   },
   "source": [
    "Run the cell below to draw a map of the world in which the areas of circles represent the number of people living in extreme poverty. Double-click on the map to zoom in.\n",
    "\n",
    "> ***Note:*** If the cell below isn't loading, you can view the output [here](https://github.jonathanferrari.com/static/poverty_map.html)"
   ]
  },
  {
   "cell_type": "code",
   "execution_count": 112,
   "id": "ad028ef5",
   "metadata": {
    "deletable": false,
    "editable": false,
    "scrolled": true
   },
   "outputs": [
    {
     "data": {
      "text/html": [
       "<div style=\"width:100%;\"><div style=\"position:relative;width:100%;height:0;padding-bottom:60%;\"><span style=\"color:#565656\">Make this Notebook Trusted to load map: File -> Trust Notebook</span><iframe srcdoc=\"&lt;!DOCTYPE html&gt;\n",
       "&lt;html&gt;\n",
       "&lt;head&gt;\n",
       "    \n",
       "    &lt;meta http-equiv=&quot;content-type&quot; content=&quot;text/html; charset=UTF-8&quot; /&gt;\n",
       "    \n",
       "        &lt;script&gt;\n",
       "            L_NO_TOUCH = false;\n",
       "            L_DISABLE_3D = false;\n",
       "        &lt;/script&gt;\n",
       "    \n",
       "    &lt;style&gt;html, body {width: 100%;height: 100%;margin: 0;padding: 0;}&lt;/style&gt;\n",
       "    &lt;style&gt;#map {position:absolute;top:0;bottom:0;right:0;left:0;}&lt;/style&gt;\n",
       "    &lt;script src=&quot;https://cdn.jsdelivr.net/npm/leaflet@1.6.0/dist/leaflet.js&quot;&gt;&lt;/script&gt;\n",
       "    &lt;script src=&quot;https://code.jquery.com/jquery-1.12.4.min.js&quot;&gt;&lt;/script&gt;\n",
       "    &lt;script src=&quot;https://maxcdn.bootstrapcdn.com/bootstrap/3.2.0/js/bootstrap.min.js&quot;&gt;&lt;/script&gt;\n",
       "    &lt;script src=&quot;https://cdnjs.cloudflare.com/ajax/libs/Leaflet.awesome-markers/2.0.2/leaflet.awesome-markers.js&quot;&gt;&lt;/script&gt;\n",
       "    &lt;link rel=&quot;stylesheet&quot; href=&quot;https://cdn.jsdelivr.net/npm/leaflet@1.6.0/dist/leaflet.css&quot;/&gt;\n",
       "    &lt;link rel=&quot;stylesheet&quot; href=&quot;https://maxcdn.bootstrapcdn.com/bootstrap/3.2.0/css/bootstrap.min.css&quot;/&gt;\n",
       "    &lt;link rel=&quot;stylesheet&quot; href=&quot;https://maxcdn.bootstrapcdn.com/bootstrap/3.2.0/css/bootstrap-theme.min.css&quot;/&gt;\n",
       "    &lt;link rel=&quot;stylesheet&quot; href=&quot;https://maxcdn.bootstrapcdn.com/font-awesome/4.6.3/css/font-awesome.min.css&quot;/&gt;\n",
       "    &lt;link rel=&quot;stylesheet&quot; href=&quot;https://cdnjs.cloudflare.com/ajax/libs/Leaflet.awesome-markers/2.0.2/leaflet.awesome-markers.css&quot;/&gt;\n",
       "    &lt;link rel=&quot;stylesheet&quot; href=&quot;https://cdn.jsdelivr.net/gh/python-visualization/folium/folium/templates/leaflet.awesome.rotate.min.css&quot;/&gt;\n",
       "    \n",
       "            &lt;meta name=&quot;viewport&quot; content=&quot;width=device-width,\n",
       "                initial-scale=1.0, maximum-scale=1.0, user-scalable=no&quot; /&gt;\n",
       "            &lt;style&gt;\n",
       "                #map_4179193c6e3cc2207ead62c85e51c2d2 {\n",
       "                    position: relative;\n",
       "                    width: 960.0px;\n",
       "                    height: 500.0px;\n",
       "                    left: 0.0%;\n",
       "                    top: 0.0%;\n",
       "                }\n",
       "            &lt;/style&gt;\n",
       "        \n",
       "&lt;/head&gt;\n",
       "&lt;body&gt;\n",
       "    \n",
       "    \n",
       "            &lt;div class=&quot;folium-map&quot; id=&quot;map_4179193c6e3cc2207ead62c85e51c2d2&quot; &gt;&lt;/div&gt;\n",
       "        \n",
       "&lt;/body&gt;\n",
       "&lt;script&gt;\n",
       "    \n",
       "    \n",
       "            var map_4179193c6e3cc2207ead62c85e51c2d2 = L.map(\n",
       "                &quot;map_4179193c6e3cc2207ead62c85e51c2d2&quot;,\n",
       "                {\n",
       "                    center: [15.0, 32.17871],\n",
       "                    crs: L.CRS.EPSG3857,\n",
       "                    zoom: 1,\n",
       "                    zoomControl: true,\n",
       "                    preferCanvas: false,\n",
       "                    clusteredMarker: false,\n",
       "                    includeColorScaleOutliers: true,\n",
       "                    radiusInMeters: false,\n",
       "                }\n",
       "            );\n",
       "\n",
       "            \n",
       "\n",
       "        \n",
       "    \n",
       "            var tile_layer_61e802f8783b865148063cef9a56d245 = L.tileLayer(\n",
       "                &quot;https://{s}.tile.openstreetmap.org/{z}/{x}/{y}.png&quot;,\n",
       "                {&quot;attribution&quot;: &quot;Data by \\u0026copy; \\u003ca href=\\&quot;http://openstreetmap.org\\&quot;\\u003eOpenStreetMap\\u003c/a\\u003e, under \\u003ca href=\\&quot;http://www.openstreetmap.org/copyright\\&quot;\\u003eODbL\\u003c/a\\u003e.&quot;, &quot;detectRetina&quot;: false, &quot;maxNativeZoom&quot;: 17, &quot;maxZoom&quot;: 17, &quot;minZoom&quot;: -1, &quot;noWrap&quot;: false, &quot;opacity&quot;: 1, &quot;subdomains&quot;: &quot;abc&quot;, &quot;tms&quot;: false}\n",
       "            ).addTo(map_4179193c6e3cc2207ead62c85e51c2d2);\n",
       "        \n",
       "    \n",
       "            var circle_marker_17b55c06a5ba2b5f3eabfd59d97a43ed = L.circleMarker(\n",
       "                [-12.5, 18.5],\n",
       "                {&quot;bubblingMouseEvents&quot;: true, &quot;color&quot;: &quot;#3388ff&quot;, &quot;dashArray&quot;: null, &quot;dashOffset&quot;: null, &quot;fill&quot;: true, &quot;fillColor&quot;: &quot;blue&quot;, &quot;fillOpacity&quot;: 0.2, &quot;fillRule&quot;: &quot;evenodd&quot;, &quot;lineCap&quot;: &quot;round&quot;, &quot;lineJoin&quot;: &quot;round&quot;, &quot;opacity&quot;: 1.0, &quot;radius&quot;: 17.956483776972792, &quot;stroke&quot;: true, &quot;weight&quot;: 3}\n",
       "            ).addTo(map_4179193c6e3cc2207ead62c85e51c2d2);\n",
       "        \n",
       "    \n",
       "        var popup_81f30b83e606f2f56629c109c951111a = L.popup({&quot;maxWidth&quot;: &quot;100%&quot;});\n",
       "\n",
       "        \n",
       "            var html_7a7f71525a744546145853c5904b5ecd = $(`&lt;div id=&quot;html_7a7f71525a744546145853c5904b5ecd&quot; style=&quot;width: 100.0%; height: 100.0%;&quot;&gt;Angola&lt;/div&gt;`)[0];\n",
       "            popup_81f30b83e606f2f56629c109c951111a.setContent(html_7a7f71525a744546145853c5904b5ecd);\n",
       "        \n",
       "\n",
       "        circle_marker_17b55c06a5ba2b5f3eabfd59d97a43ed.bindPopup(popup_81f30b83e606f2f56629c109c951111a)\n",
       "        ;\n",
       "\n",
       "        \n",
       "    \n",
       "    \n",
       "            var circle_marker_5570fe296d1993e1d2175fb51e95b8d9 = L.circleMarker(\n",
       "                [41.0, 20.0],\n",
       "                {&quot;bubblingMouseEvents&quot;: true, &quot;color&quot;: &quot;#3388ff&quot;, &quot;dashArray&quot;: null, &quot;dashOffset&quot;: null, &quot;fill&quot;: true, &quot;fillColor&quot;: &quot;black&quot;, &quot;fillOpacity&quot;: 0.2, &quot;fillRule&quot;: &quot;evenodd&quot;, &quot;lineCap&quot;: &quot;round&quot;, &quot;lineJoin&quot;: &quot;round&quot;, &quot;opacity&quot;: 1.0, &quot;radius&quot;: 0.6570083992262493, &quot;stroke&quot;: true, &quot;weight&quot;: 3}\n",
       "            ).addTo(map_4179193c6e3cc2207ead62c85e51c2d2);\n",
       "        \n",
       "    \n",
       "        var popup_9ca1255dadbd675e91256921746f042b = L.popup({&quot;maxWidth&quot;: &quot;100%&quot;});\n",
       "\n",
       "        \n",
       "            var html_6d200bcb1a7957fefbdf3640f2bf7613 = $(`&lt;div id=&quot;html_6d200bcb1a7957fefbdf3640f2bf7613&quot; style=&quot;width: 100.0%; height: 100.0%;&quot;&gt;Albania&lt;/div&gt;`)[0];\n",
       "            popup_9ca1255dadbd675e91256921746f042b.setContent(html_6d200bcb1a7957fefbdf3640f2bf7613);\n",
       "        \n",
       "\n",
       "        circle_marker_5570fe296d1993e1d2175fb51e95b8d9.bindPopup(popup_9ca1255dadbd675e91256921746f042b)\n",
       "        ;\n",
       "\n",
       "        \n",
       "    \n",
       "    \n",
       "            var circle_marker_3c776eb006083cb1c1bdc674f29d9ece = L.circleMarker(\n",
       "                [-34.0, -64.0],\n",
       "                {&quot;bubblingMouseEvents&quot;: true, &quot;color&quot;: &quot;#3388ff&quot;, &quot;dashArray&quot;: null, &quot;dashOffset&quot;: null, &quot;fill&quot;: true, &quot;fillColor&quot;: &quot;green&quot;, &quot;fillOpacity&quot;: 0.2, &quot;fillRule&quot;: &quot;evenodd&quot;, &quot;lineCap&quot;: &quot;round&quot;, &quot;lineJoin&quot;: &quot;round&quot;, &quot;opacity&quot;: 1.0, &quot;radius&quot;: 4.284238901720576, &quot;stroke&quot;: true, &quot;weight&quot;: 3}\n",
       "            ).addTo(map_4179193c6e3cc2207ead62c85e51c2d2);\n",
       "        \n",
       "    \n",
       "        var popup_dc0332cb8bbf94a95f72884cb98e6df2 = L.popup({&quot;maxWidth&quot;: &quot;100%&quot;});\n",
       "\n",
       "        \n",
       "            var html_5023579601e0885432cf464897292853 = $(`&lt;div id=&quot;html_5023579601e0885432cf464897292853&quot; style=&quot;width: 100.0%; height: 100.0%;&quot;&gt;Argentina&lt;/div&gt;`)[0];\n",
       "            popup_dc0332cb8bbf94a95f72884cb98e6df2.setContent(html_5023579601e0885432cf464897292853);\n",
       "        \n",
       "\n",
       "        circle_marker_3c776eb006083cb1c1bdc674f29d9ece.bindPopup(popup_dc0332cb8bbf94a95f72884cb98e6df2)\n",
       "        ;\n",
       "\n",
       "        \n",
       "    \n",
       "    \n",
       "            var circle_marker_f2d7643da5849f5c11d81edf1c90dc8b = L.circleMarker(\n",
       "                [40.25, 45.0],\n",
       "                {&quot;bubblingMouseEvents&quot;: true, &quot;color&quot;: &quot;#3388ff&quot;, &quot;dashArray&quot;: null, &quot;dashOffset&quot;: null, &quot;fill&quot;: true, &quot;fillColor&quot;: &quot;black&quot;, &quot;fillOpacity&quot;: 0.2, &quot;fillRule&quot;: &quot;evenodd&quot;, &quot;lineCap&quot;: &quot;round&quot;, &quot;lineJoin&quot;: &quot;round&quot;, &quot;opacity&quot;: 1.0, &quot;radius&quot;: 1.2660117574103493, &quot;stroke&quot;: true, &quot;weight&quot;: 3}\n",
       "            ).addTo(map_4179193c6e3cc2207ead62c85e51c2d2);\n",
       "        \n",
       "    \n",
       "        var popup_7f30e452a9a5f2e429e084218e4d8b5c = L.popup({&quot;maxWidth&quot;: &quot;100%&quot;});\n",
       "\n",
       "        \n",
       "            var html_0cca0f6960e107465a0ba6101e9141f8 = $(`&lt;div id=&quot;html_0cca0f6960e107465a0ba6101e9141f8&quot; style=&quot;width: 100.0%; height: 100.0%;&quot;&gt;Armenia&lt;/div&gt;`)[0];\n",
       "            popup_7f30e452a9a5f2e429e084218e4d8b5c.setContent(html_0cca0f6960e107465a0ba6101e9141f8);\n",
       "        \n",
       "\n",
       "        circle_marker_f2d7643da5849f5c11d81edf1c90dc8b.bindPopup(popup_7f30e452a9a5f2e429e084218e4d8b5c)\n",
       "        ;\n",
       "\n",
       "        \n",
       "    \n",
       "    \n",
       "            var circle_marker_771c7327f513135b15c3943619272315 = L.circleMarker(\n",
       "                [-25.0, 135.0],\n",
       "                {&quot;bubblingMouseEvents&quot;: true, &quot;color&quot;: &quot;#3388ff&quot;, &quot;dashArray&quot;: null, &quot;dashOffset&quot;: null, &quot;fill&quot;: true, &quot;fillColor&quot;: &quot;red&quot;, &quot;fillOpacity&quot;: 0.2, &quot;fillRule&quot;: &quot;evenodd&quot;, &quot;lineCap&quot;: &quot;round&quot;, &quot;lineJoin&quot;: &quot;round&quot;, &quot;opacity&quot;: 1.0, &quot;radius&quot;: 3.0969023547202914, &quot;stroke&quot;: true, &quot;weight&quot;: 3}\n",
       "            ).addTo(map_4179193c6e3cc2207ead62c85e51c2d2);\n",
       "        \n",
       "    \n",
       "        var popup_a31607099177487d03818785d5791e6b = L.popup({&quot;maxWidth&quot;: &quot;100%&quot;});\n",
       "\n",
       "        \n",
       "            var html_8915e41ad6b5a3e5f283863bc6a29972 = $(`&lt;div id=&quot;html_8915e41ad6b5a3e5f283863bc6a29972&quot; style=&quot;width: 100.0%; height: 100.0%;&quot;&gt;Australia&lt;/div&gt;`)[0];\n",
       "            popup_a31607099177487d03818785d5791e6b.setContent(html_8915e41ad6b5a3e5f283863bc6a29972);\n",
       "        \n",
       "\n",
       "        circle_marker_771c7327f513135b15c3943619272315.bindPopup(popup_a31607099177487d03818785d5791e6b)\n",
       "        ;\n",
       "\n",
       "        \n",
       "    \n",
       "    \n",
       "            var circle_marker_9946af6e35ee7bc09a836eae1679d90e = L.circleMarker(\n",
       "                [47.33333, 13.33333],\n",
       "                {&quot;bubblingMouseEvents&quot;: true, &quot;color&quot;: &quot;#3388ff&quot;, &quot;dashArray&quot;: null, &quot;dashOffset&quot;: null, &quot;fill&quot;: true, &quot;fillColor&quot;: &quot;black&quot;, &quot;fillOpacity&quot;: 0.2, &quot;fillRule&quot;: &quot;evenodd&quot;, &quot;lineCap&quot;: &quot;round&quot;, &quot;lineJoin&quot;: &quot;round&quot;, &quot;opacity&quot;: 1.0, &quot;radius&quot;: 0.9540310731595334, &quot;stroke&quot;: true, &quot;weight&quot;: 3}\n",
       "            ).addTo(map_4179193c6e3cc2207ead62c85e51c2d2);\n",
       "        \n",
       "    \n",
       "        var popup_093457ebbb690a02b5fe4fbe313a5912 = L.popup({&quot;maxWidth&quot;: &quot;100%&quot;});\n",
       "\n",
       "        \n",
       "            var html_6215bde3ba74295baa92faf695bb7810 = $(`&lt;div id=&quot;html_6215bde3ba74295baa92faf695bb7810&quot; style=&quot;width: 100.0%; height: 100.0%;&quot;&gt;Austria&lt;/div&gt;`)[0];\n",
       "            popup_093457ebbb690a02b5fe4fbe313a5912.setContent(html_6215bde3ba74295baa92faf695bb7810);\n",
       "        \n",
       "\n",
       "        circle_marker_9946af6e35ee7bc09a836eae1679d90e.bindPopup(popup_093457ebbb690a02b5fe4fbe313a5912)\n",
       "        ;\n",
       "\n",
       "        \n",
       "    \n",
       "    \n",
       "            var circle_marker_aeeae65ee9ae4882ced18e47b4bd7754 = L.circleMarker(\n",
       "                [40.5, 47.5],\n",
       "                {&quot;bubblingMouseEvents&quot;: true, &quot;color&quot;: &quot;#3388ff&quot;, &quot;dashArray&quot;: null, &quot;dashOffset&quot;: null, &quot;fill&quot;: true, &quot;fillColor&quot;: &quot;black&quot;, &quot;fillOpacity&quot;: 0.2, &quot;fillRule&quot;: &quot;evenodd&quot;, &quot;lineCap&quot;: &quot;round&quot;, &quot;lineJoin&quot;: &quot;round&quot;, &quot;opacity&quot;: 1.0, &quot;radius&quot;: 0.9440866021203946, &quot;stroke&quot;: true, &quot;weight&quot;: 3}\n",
       "            ).addTo(map_4179193c6e3cc2207ead62c85e51c2d2);\n",
       "        \n",
       "    \n",
       "        var popup_dd794a942f9caea58cf0d398780f9675 = L.popup({&quot;maxWidth&quot;: &quot;100%&quot;});\n",
       "\n",
       "        \n",
       "            var html_084944ff47a223f36db044b95bb04026 = $(`&lt;div id=&quot;html_084944ff47a223f36db044b95bb04026&quot; style=&quot;width: 100.0%; height: 100.0%;&quot;&gt;Azerbaijan&lt;/div&gt;`)[0];\n",
       "            popup_dd794a942f9caea58cf0d398780f9675.setContent(html_084944ff47a223f36db044b95bb04026);\n",
       "        \n",
       "\n",
       "        circle_marker_aeeae65ee9ae4882ced18e47b4bd7754.bindPopup(popup_dd794a942f9caea58cf0d398780f9675)\n",
       "        ;\n",
       "\n",
       "        \n",
       "    \n",
       "    \n",
       "            var circle_marker_263fcd5cbc68f5dab9d98a13f249e78d = L.circleMarker(\n",
       "                [-3.5, 30.0],\n",
       "                {&quot;bubblingMouseEvents&quot;: true, &quot;color&quot;: &quot;#3388ff&quot;, &quot;dashArray&quot;: null, &quot;dashOffset&quot;: null, &quot;fill&quot;: true, &quot;fillColor&quot;: &quot;blue&quot;, &quot;fillOpacity&quot;: 0.2, &quot;fillRule&quot;: &quot;evenodd&quot;, &quot;lineCap&quot;: &quot;round&quot;, &quot;lineJoin&quot;: &quot;round&quot;, &quot;opacity&quot;: 1.0, &quot;radius&quot;: 14.985583745574617, &quot;stroke&quot;: true, &quot;weight&quot;: 3}\n",
       "            ).addTo(map_4179193c6e3cc2207ead62c85e51c2d2);\n",
       "        \n",
       "    \n",
       "        var popup_07b8a2e8bf16623ba43e14a84012ae66 = L.popup({&quot;maxWidth&quot;: &quot;100%&quot;});\n",
       "\n",
       "        \n",
       "            var html_a307fd27ee2990e7b5890f61e61993f7 = $(`&lt;div id=&quot;html_a307fd27ee2990e7b5890f61e61993f7&quot; style=&quot;width: 100.0%; height: 100.0%;&quot;&gt;Burundi&lt;/div&gt;`)[0];\n",
       "            popup_07b8a2e8bf16623ba43e14a84012ae66.setContent(html_a307fd27ee2990e7b5890f61e61993f7);\n",
       "        \n",
       "\n",
       "        circle_marker_263fcd5cbc68f5dab9d98a13f249e78d.bindPopup(popup_07b8a2e8bf16623ba43e14a84012ae66)\n",
       "        ;\n",
       "\n",
       "        \n",
       "    \n",
       "    \n",
       "            var circle_marker_09f6dd024afbd3c5c43e122295281fb2 = L.circleMarker(\n",
       "                [50.75, 4.5],\n",
       "                {&quot;bubblingMouseEvents&quot;: true, &quot;color&quot;: &quot;#3388ff&quot;, &quot;dashArray&quot;: null, &quot;dashOffset&quot;: null, &quot;fill&quot;: true, &quot;fillColor&quot;: &quot;black&quot;, &quot;fillOpacity&quot;: 0.2, &quot;fillRule&quot;: &quot;evenodd&quot;, &quot;lineCap&quot;: &quot;round&quot;, &quot;lineJoin&quot;: &quot;round&quot;, &quot;opacity&quot;: 1.0, &quot;radius&quot;: 1.3194559831588262, &quot;stroke&quot;: true, &quot;weight&quot;: 3}\n",
       "            ).addTo(map_4179193c6e3cc2207ead62c85e51c2d2);\n",
       "        \n",
       "    \n",
       "        var popup_7f58972e4b203cfaea92961a62495190 = L.popup({&quot;maxWidth&quot;: &quot;100%&quot;});\n",
       "\n",
       "        \n",
       "            var html_92916e462eb4edabfe4685b9ec5de070 = $(`&lt;div id=&quot;html_92916e462eb4edabfe4685b9ec5de070&quot; style=&quot;width: 100.0%; height: 100.0%;&quot;&gt;Belgium&lt;/div&gt;`)[0];\n",
       "            popup_7f58972e4b203cfaea92961a62495190.setContent(html_92916e462eb4edabfe4685b9ec5de070);\n",
       "        \n",
       "\n",
       "        circle_marker_09f6dd024afbd3c5c43e122295281fb2.bindPopup(popup_7f58972e4b203cfaea92961a62495190)\n",
       "        ;\n",
       "\n",
       "        \n",
       "    \n",
       "    \n",
       "            var circle_marker_bbb42c2c80590ba267d92a3a9f026429 = L.circleMarker(\n",
       "                [9.5, 2.25],\n",
       "                {&quot;bubblingMouseEvents&quot;: true, &quot;color&quot;: &quot;#3388ff&quot;, &quot;dashArray&quot;: null, &quot;dashOffset&quot;: null, &quot;fill&quot;: true, &quot;fillColor&quot;: &quot;blue&quot;, &quot;fillOpacity&quot;: 0.2, &quot;fillRule&quot;: &quot;evenodd&quot;, &quot;lineCap&quot;: &quot;round&quot;, &quot;lineJoin&quot;: &quot;round&quot;, &quot;opacity&quot;: 1.0, &quot;radius&quot;: 12.293294869483931, &quot;stroke&quot;: true, &quot;weight&quot;: 3}\n",
       "            ).addTo(map_4179193c6e3cc2207ead62c85e51c2d2);\n",
       "        \n",
       "    \n",
       "        var popup_786148f6f2864cec467fe29798482c45 = L.popup({&quot;maxWidth&quot;: &quot;100%&quot;});\n",
       "\n",
       "        \n",
       "            var html_d090d6ae226c754734265e56e7b4ae7c = $(`&lt;div id=&quot;html_d090d6ae226c754734265e56e7b4ae7c&quot; style=&quot;width: 100.0%; height: 100.0%;&quot;&gt;Benin&lt;/div&gt;`)[0];\n",
       "            popup_786148f6f2864cec467fe29798482c45.setContent(html_d090d6ae226c754734265e56e7b4ae7c);\n",
       "        \n",
       "\n",
       "        circle_marker_bbb42c2c80590ba267d92a3a9f026429.bindPopup(popup_786148f6f2864cec467fe29798482c45)\n",
       "        ;\n",
       "\n",
       "        \n",
       "    \n",
       "    \n",
       "            var circle_marker_fb3316d9ab1dee91545a9515db8b99c3 = L.circleMarker(\n",
       "                [12.5, -1.66667],\n",
       "                {&quot;bubblingMouseEvents&quot;: true, &quot;color&quot;: &quot;#3388ff&quot;, &quot;dashArray&quot;: null, &quot;dashOffset&quot;: null, &quot;fill&quot;: true, &quot;fillColor&quot;: &quot;blue&quot;, &quot;fillOpacity&quot;: 0.2, &quot;fillRule&quot;: &quot;evenodd&quot;, &quot;lineCap&quot;: &quot;round&quot;, &quot;lineJoin&quot;: &quot;round&quot;, &quot;opacity&quot;: 1.0, &quot;radius&quot;: 14.860883218047224, &quot;stroke&quot;: true, &quot;weight&quot;: 3}\n",
       "            ).addTo(map_4179193c6e3cc2207ead62c85e51c2d2);\n",
       "        \n",
       "    \n",
       "        var popup_b43f27a8f8f9841618602f1878da4510 = L.popup({&quot;maxWidth&quot;: &quot;100%&quot;});\n",
       "\n",
       "        \n",
       "            var html_639125df8e33e611ddf3e85075f957ea = $(`&lt;div id=&quot;html_639125df8e33e611ddf3e85075f957ea&quot; style=&quot;width: 100.0%; height: 100.0%;&quot;&gt;Burkina Faso&lt;/div&gt;`)[0];\n",
       "            popup_b43f27a8f8f9841618602f1878da4510.setContent(html_639125df8e33e611ddf3e85075f957ea);\n",
       "        \n",
       "\n",
       "        circle_marker_fb3316d9ab1dee91545a9515db8b99c3.bindPopup(popup_b43f27a8f8f9841618602f1878da4510)\n",
       "        ;\n",
       "\n",
       "        \n",
       "    \n",
       "    \n",
       "            var circle_marker_2a366514718474c349d5c7acbba55c00 = L.circleMarker(\n",
       "                [24.0, 90.0],\n",
       "                {&quot;bubblingMouseEvents&quot;: true, &quot;color&quot;: &quot;#3388ff&quot;, &quot;dashArray&quot;: null, &quot;dashOffset&quot;: null, &quot;fill&quot;: true, &quot;fillColor&quot;: &quot;red&quot;, &quot;fillOpacity&quot;: 0.2, &quot;fillRule&quot;: &quot;evenodd&quot;, &quot;lineCap&quot;: &quot;round&quot;, &quot;lineJoin&quot;: &quot;round&quot;, &quot;opacity&quot;: 1.0, &quot;radius&quot;: 45.07390171903687, &quot;stroke&quot;: true, &quot;weight&quot;: 3}\n",
       "            ).addTo(map_4179193c6e3cc2207ead62c85e51c2d2);\n",
       "        \n",
       "    \n",
       "        var popup_56c09a7f43e42a2bf8ca254a2d8fb110 = L.popup({&quot;maxWidth&quot;: &quot;100%&quot;});\n",
       "\n",
       "        \n",
       "            var html_7448c05f19a56cbcaa0c7bba88521b7b = $(`&lt;div id=&quot;html_7448c05f19a56cbcaa0c7bba88521b7b&quot; style=&quot;width: 100.0%; height: 100.0%;&quot;&gt;Bangladesh&lt;/div&gt;`)[0];\n",
       "            popup_56c09a7f43e42a2bf8ca254a2d8fb110.setContent(html_7448c05f19a56cbcaa0c7bba88521b7b);\n",
       "        \n",
       "\n",
       "        circle_marker_2a366514718474c349d5c7acbba55c00.bindPopup(popup_56c09a7f43e42a2bf8ca254a2d8fb110)\n",
       "        ;\n",
       "\n",
       "        \n",
       "    \n",
       "    \n",
       "            var circle_marker_75bd51e6c27325ed862ab42991c4272c = L.circleMarker(\n",
       "                [42.66667, 25.25],\n",
       "                {&quot;bubblingMouseEvents&quot;: true, &quot;color&quot;: &quot;#3388ff&quot;, &quot;dashArray&quot;: null, &quot;dashOffset&quot;: null, &quot;fill&quot;: true, &quot;fillColor&quot;: &quot;black&quot;, &quot;fillOpacity&quot;: 0.2, &quot;fillRule&quot;: &quot;evenodd&quot;, &quot;lineCap&quot;: &quot;round&quot;, &quot;lineJoin&quot;: &quot;round&quot;, &quot;opacity&quot;: 1.0, &quot;radius&quot;: 2.119093372019701, &quot;stroke&quot;: true, &quot;weight&quot;: 3}\n",
       "            ).addTo(map_4179193c6e3cc2207ead62c85e51c2d2);\n",
       "        \n",
       "    \n",
       "        var popup_265cf5ae09b80e7e3c306a155c7209bb = L.popup({&quot;maxWidth&quot;: &quot;100%&quot;});\n",
       "\n",
       "        \n",
       "            var html_0af56b825894fcb9ff150743eeacd5af = $(`&lt;div id=&quot;html_0af56b825894fcb9ff150743eeacd5af&quot; style=&quot;width: 100.0%; height: 100.0%;&quot;&gt;Bulgaria&lt;/div&gt;`)[0];\n",
       "            popup_265cf5ae09b80e7e3c306a155c7209bb.setContent(html_0af56b825894fcb9ff150743eeacd5af);\n",
       "        \n",
       "\n",
       "        circle_marker_75bd51e6c27325ed862ab42991c4272c.bindPopup(popup_265cf5ae09b80e7e3c306a155c7209bb)\n",
       "        ;\n",
       "\n",
       "        \n",
       "    \n",
       "    \n",
       "            var circle_marker_9b7a8493ac8b31ab089d958300e69bb9 = L.circleMarker(\n",
       "                [44.25, 17.83333],\n",
       "                {&quot;bubblingMouseEvents&quot;: true, &quot;color&quot;: &quot;#3388ff&quot;, &quot;dashArray&quot;: null, &quot;dashOffset&quot;: null, &quot;fill&quot;: true, &quot;fillColor&quot;: &quot;black&quot;, &quot;fillOpacity&quot;: 0.2, &quot;fillRule&quot;: &quot;evenodd&quot;, &quot;lineCap&quot;: &quot;round&quot;, &quot;lineJoin&quot;: &quot;round&quot;, &quot;opacity&quot;: 1.0, &quot;radius&quot;: 0.217194671049816, &quot;stroke&quot;: true, &quot;weight&quot;: 3}\n",
       "            ).addTo(map_4179193c6e3cc2207ead62c85e51c2d2);\n",
       "        \n",
       "    \n",
       "        var popup_03cc2125ace317f836d2c64e4256ca23 = L.popup({&quot;maxWidth&quot;: &quot;100%&quot;});\n",
       "\n",
       "        \n",
       "            var html_02fe0737cf36001218bcb89cbde0033c = $(`&lt;div id=&quot;html_02fe0737cf36001218bcb89cbde0033c&quot; style=&quot;width: 100.0%; height: 100.0%;&quot;&gt;Bosnia and Herzegovina&lt;/div&gt;`)[0];\n",
       "            popup_03cc2125ace317f836d2c64e4256ca23.setContent(html_02fe0737cf36001218bcb89cbde0033c);\n",
       "        \n",
       "\n",
       "        circle_marker_9b7a8493ac8b31ab089d958300e69bb9.bindPopup(popup_03cc2125ace317f836d2c64e4256ca23)\n",
       "        ;\n",
       "\n",
       "        \n",
       "    \n",
       "    \n",
       "            var circle_marker_f62ae01a9239606a062f0607226c3641 = L.circleMarker(\n",
       "                [53.0, 28.0],\n",
       "                {&quot;bubblingMouseEvents&quot;: true, &quot;color&quot;: &quot;#3388ff&quot;, &quot;dashArray&quot;: null, &quot;dashOffset&quot;: null, &quot;fill&quot;: true, &quot;fillColor&quot;: &quot;black&quot;, &quot;fillOpacity&quot;: 0.2, &quot;fillRule&quot;: &quot;evenodd&quot;, &quot;lineCap&quot;: &quot;round&quot;, &quot;lineJoin&quot;: &quot;round&quot;, &quot;opacity&quot;: 1.0, &quot;stroke&quot;: true, &quot;weight&quot;: 3}\n",
       "            ).addTo(map_4179193c6e3cc2207ead62c85e51c2d2);\n",
       "        \n",
       "    \n",
       "        var popup_2ca35bffaaef19b828731d11319dd45a = L.popup({&quot;maxWidth&quot;: &quot;100%&quot;});\n",
       "\n",
       "        \n",
       "            var html_7bd3041e3353f29eae4aa773c417683c = $(`&lt;div id=&quot;html_7bd3041e3353f29eae4aa773c417683c&quot; style=&quot;width: 100.0%; height: 100.0%;&quot;&gt;Belarus&lt;/div&gt;`)[0];\n",
       "            popup_2ca35bffaaef19b828731d11319dd45a.setContent(html_7bd3041e3353f29eae4aa773c417683c);\n",
       "        \n",
       "\n",
       "        circle_marker_f62ae01a9239606a062f0607226c3641.bindPopup(popup_2ca35bffaaef19b828731d11319dd45a)\n",
       "        ;\n",
       "\n",
       "        \n",
       "    \n",
       "    \n",
       "            var circle_marker_8efa8ba500db8f3b67f5e03a3cd54628 = L.circleMarker(\n",
       "                [17.49952, -88.19756],\n",
       "                {&quot;bubblingMouseEvents&quot;: true, &quot;color&quot;: &quot;#3388ff&quot;, &quot;dashArray&quot;: null, &quot;dashOffset&quot;: null, &quot;fill&quot;: true, &quot;fillColor&quot;: &quot;green&quot;, &quot;fillOpacity&quot;: 0.2, &quot;fillRule&quot;: &quot;evenodd&quot;, &quot;lineCap&quot;: &quot;round&quot;, &quot;lineJoin&quot;: &quot;round&quot;, &quot;opacity&quot;: 1.0, &quot;radius&quot;: 1.1195005649268066, &quot;stroke&quot;: true, &quot;weight&quot;: 3}\n",
       "            ).addTo(map_4179193c6e3cc2207ead62c85e51c2d2);\n",
       "        \n",
       "    \n",
       "        var popup_7151597af2ed0c93385eaf24fa003695 = L.popup({&quot;maxWidth&quot;: &quot;100%&quot;});\n",
       "\n",
       "        \n",
       "            var html_f48281661924d8671044d6788eb757d6 = $(`&lt;div id=&quot;html_f48281661924d8671044d6788eb757d6&quot; style=&quot;width: 100.0%; height: 100.0%;&quot;&gt;Belize&lt;/div&gt;`)[0];\n",
       "            popup_7151597af2ed0c93385eaf24fa003695.setContent(html_f48281661924d8671044d6788eb757d6);\n",
       "        \n",
       "\n",
       "        circle_marker_8efa8ba500db8f3b67f5e03a3cd54628.bindPopup(popup_7151597af2ed0c93385eaf24fa003695)\n",
       "        ;\n",
       "\n",
       "        \n",
       "    \n",
       "    \n",
       "            var circle_marker_975fefe1fd3d56ffda632d3b26c78489 = L.circleMarker(\n",
       "                [-17.0, -65.0],\n",
       "                {&quot;bubblingMouseEvents&quot;: true, &quot;color&quot;: &quot;#3388ff&quot;, &quot;dashArray&quot;: null, &quot;dashOffset&quot;: null, &quot;fill&quot;: true, &quot;fillColor&quot;: &quot;green&quot;, &quot;fillOpacity&quot;: 0.2, &quot;fillRule&quot;: &quot;evenodd&quot;, &quot;lineCap&quot;: &quot;round&quot;, &quot;lineJoin&quot;: &quot;round&quot;, &quot;opacity&quot;: 1.0, &quot;radius&quot;: 5.0521846256177705, &quot;stroke&quot;: true, &quot;weight&quot;: 3}\n",
       "            ).addTo(map_4179193c6e3cc2207ead62c85e51c2d2);\n",
       "        \n",
       "    \n",
       "        var popup_d9312f16afea75c4d73459839ab39b25 = L.popup({&quot;maxWidth&quot;: &quot;100%&quot;});\n",
       "\n",
       "        \n",
       "            var html_10cb96d0ea0020be6a6c7269c0894776 = $(`&lt;div id=&quot;html_10cb96d0ea0020be6a6c7269c0894776&quot; style=&quot;width: 100.0%; height: 100.0%;&quot;&gt;Bolivia&lt;/div&gt;`)[0];\n",
       "            popup_d9312f16afea75c4d73459839ab39b25.setContent(html_10cb96d0ea0020be6a6c7269c0894776);\n",
       "        \n",
       "\n",
       "        circle_marker_975fefe1fd3d56ffda632d3b26c78489.bindPopup(popup_d9312f16afea75c4d73459839ab39b25)\n",
       "        ;\n",
       "\n",
       "        \n",
       "    \n",
       "    \n",
       "            var circle_marker_04ed1e88ea1a6c0dabc5168ba35d62a4 = L.circleMarker(\n",
       "                [-10.0, -55.0],\n",
       "                {&quot;bubblingMouseEvents&quot;: true, &quot;color&quot;: &quot;#3388ff&quot;, &quot;dashArray&quot;: null, &quot;dashOffset&quot;: null, &quot;fill&quot;: true, &quot;fillColor&quot;: &quot;green&quot;, &quot;fillOpacity&quot;: 0.2, &quot;fillRule&quot;: &quot;evenodd&quot;, &quot;lineCap&quot;: &quot;round&quot;, &quot;lineJoin&quot;: &quot;round&quot;, &quot;opacity&quot;: 1.0, &quot;radius&quot;: 15.284499774553087, &quot;stroke&quot;: true, &quot;weight&quot;: 3}\n",
       "            ).addTo(map_4179193c6e3cc2207ead62c85e51c2d2);\n",
       "        \n",
       "    \n",
       "        var popup_c8b13a3edb17345469cd4cdc12fd388a = L.popup({&quot;maxWidth&quot;: &quot;100%&quot;});\n",
       "\n",
       "        \n",
       "            var html_1786d0bfff1c4daad41533cbe74b5566 = $(`&lt;div id=&quot;html_1786d0bfff1c4daad41533cbe74b5566&quot; style=&quot;width: 100.0%; height: 100.0%;&quot;&gt;Brazil&lt;/div&gt;`)[0];\n",
       "            popup_c8b13a3edb17345469cd4cdc12fd388a.setContent(html_1786d0bfff1c4daad41533cbe74b5566);\n",
       "        \n",
       "\n",
       "        circle_marker_04ed1e88ea1a6c0dabc5168ba35d62a4.bindPopup(popup_c8b13a3edb17345469cd4cdc12fd388a)\n",
       "        ;\n",
       "\n",
       "        \n",
       "    \n",
       "    \n",
       "            var circle_marker_084e43e7c9b9f1d4c67d7fae0a79b042 = L.circleMarker(\n",
       "                [27.5, 90.5],\n",
       "                {&quot;bubblingMouseEvents&quot;: true, &quot;color&quot;: &quot;#3388ff&quot;, &quot;dashArray&quot;: null, &quot;dashOffset&quot;: null, &quot;fill&quot;: true, &quot;fillColor&quot;: &quot;red&quot;, &quot;fillOpacity&quot;: 0.2, &quot;fillRule&quot;: &quot;evenodd&quot;, &quot;lineCap&quot;: &quot;round&quot;, &quot;lineJoin&quot;: &quot;round&quot;, &quot;opacity&quot;: 1.0, &quot;radius&quot;: 0.7206403952796807, &quot;stroke&quot;: true, &quot;weight&quot;: 3}\n",
       "            ).addTo(map_4179193c6e3cc2207ead62c85e51c2d2);\n",
       "        \n",
       "    \n",
       "        var popup_5a5e2413bad77613d2ea255384017982 = L.popup({&quot;maxWidth&quot;: &quot;100%&quot;});\n",
       "\n",
       "        \n",
       "            var html_2e014f61542942711511d0f9d2010dee = $(`&lt;div id=&quot;html_2e014f61542942711511d0f9d2010dee&quot; style=&quot;width: 100.0%; height: 100.0%;&quot;&gt;Bhutan&lt;/div&gt;`)[0];\n",
       "            popup_5a5e2413bad77613d2ea255384017982.setContent(html_2e014f61542942711511d0f9d2010dee);\n",
       "        \n",
       "\n",
       "        circle_marker_084e43e7c9b9f1d4c67d7fae0a79b042.bindPopup(popup_5a5e2413bad77613d2ea255384017982)\n",
       "        ;\n",
       "\n",
       "        \n",
       "    \n",
       "    \n",
       "            var circle_marker_2472df165cad267872503d4683c30543 = L.circleMarker(\n",
       "                [-22.0, 24.0],\n",
       "                {&quot;bubblingMouseEvents&quot;: true, &quot;color&quot;: &quot;#3388ff&quot;, &quot;dashArray&quot;: null, &quot;dashOffset&quot;: null, &quot;fill&quot;: true, &quot;fillColor&quot;: &quot;blue&quot;, &quot;fillOpacity&quot;: 0.2, &quot;fillRule&quot;: &quot;evenodd&quot;, &quot;lineCap&quot;: &quot;round&quot;, &quot;lineJoin&quot;: &quot;round&quot;, &quot;opacity&quot;: 1.0, &quot;radius&quot;: 2.9123934088869396, &quot;stroke&quot;: true, &quot;weight&quot;: 3}\n",
       "            ).addTo(map_4179193c6e3cc2207ead62c85e51c2d2);\n",
       "        \n",
       "    \n",
       "        var popup_738b62ed23e9336636dd2d701fabcc9f = L.popup({&quot;maxWidth&quot;: &quot;100%&quot;});\n",
       "\n",
       "        \n",
       "            var html_a0a3108eda4a32280d5ec21d43239ce4 = $(`&lt;div id=&quot;html_a0a3108eda4a32280d5ec21d43239ce4&quot; style=&quot;width: 100.0%; height: 100.0%;&quot;&gt;Botswana&lt;/div&gt;`)[0];\n",
       "            popup_738b62ed23e9336636dd2d701fabcc9f.setContent(html_a0a3108eda4a32280d5ec21d43239ce4);\n",
       "        \n",
       "\n",
       "        circle_marker_2472df165cad267872503d4683c30543.bindPopup(popup_738b62ed23e9336636dd2d701fabcc9f)\n",
       "        ;\n",
       "\n",
       "        \n",
       "    \n",
       "    \n",
       "            var circle_marker_02457b51012f56764077d5e26b9eb690 = L.circleMarker(\n",
       "                [7.0, 21.0],\n",
       "                {&quot;bubblingMouseEvents&quot;: true, &quot;color&quot;: &quot;#3388ff&quot;, &quot;dashArray&quot;: null, &quot;dashOffset&quot;: null, &quot;fill&quot;: true, &quot;fillColor&quot;: &quot;blue&quot;, &quot;fillOpacity&quot;: 0.2, &quot;fillRule&quot;: &quot;evenodd&quot;, &quot;lineCap&quot;: &quot;round&quot;, &quot;lineJoin&quot;: &quot;round&quot;, &quot;opacity&quot;: 1.0, &quot;radius&quot;: 9.366573447847983, &quot;stroke&quot;: true, &quot;weight&quot;: 3}\n",
       "            ).addTo(map_4179193c6e3cc2207ead62c85e51c2d2);\n",
       "        \n",
       "    \n",
       "        var popup_d77bcae58efba5f8da7f1e04fdd87d1f = L.popup({&quot;maxWidth&quot;: &quot;100%&quot;});\n",
       "\n",
       "        \n",
       "            var html_e3c6fe03c5e79edd7def4230bf6b4979 = $(`&lt;div id=&quot;html_e3c6fe03c5e79edd7def4230bf6b4979&quot; style=&quot;width: 100.0%; height: 100.0%;&quot;&gt;Central African Republic&lt;/div&gt;`)[0];\n",
       "            popup_d77bcae58efba5f8da7f1e04fdd87d1f.setContent(html_e3c6fe03c5e79edd7def4230bf6b4979);\n",
       "        \n",
       "\n",
       "        circle_marker_02457b51012f56764077d5e26b9eb690.bindPopup(popup_d77bcae58efba5f8da7f1e04fdd87d1f)\n",
       "        ;\n",
       "\n",
       "        \n",
       "    \n",
       "    \n",
       "            var circle_marker_9ecfb605f2effebb0f3156160ab05f22 = L.circleMarker(\n",
       "                [60.10867, -113.64258],\n",
       "                {&quot;bubblingMouseEvents&quot;: true, &quot;color&quot;: &quot;#3388ff&quot;, &quot;dashArray&quot;: null, &quot;dashOffset&quot;: null, &quot;fill&quot;: true, &quot;fillColor&quot;: &quot;green&quot;, &quot;fillOpacity&quot;: 0.2, &quot;fillRule&quot;: &quot;evenodd&quot;, &quot;lineCap&quot;: &quot;round&quot;, &quot;lineJoin&quot;: &quot;round&quot;, &quot;opacity&quot;: 1.0, &quot;radius&quot;: 1.9224051187434574, &quot;stroke&quot;: true, &quot;weight&quot;: 3}\n",
       "            ).addTo(map_4179193c6e3cc2207ead62c85e51c2d2);\n",
       "        \n",
       "    \n",
       "        var popup_bbda320511fb689dcb6dc1bcac5c8ada = L.popup({&quot;maxWidth&quot;: &quot;100%&quot;});\n",
       "\n",
       "        \n",
       "            var html_2881f1cce2e1b8da027e939d23bb5055 = $(`&lt;div id=&quot;html_2881f1cce2e1b8da027e939d23bb5055&quot; style=&quot;width: 100.0%; height: 100.0%;&quot;&gt;Canada&lt;/div&gt;`)[0];\n",
       "            popup_bbda320511fb689dcb6dc1bcac5c8ada.setContent(html_2881f1cce2e1b8da027e939d23bb5055);\n",
       "        \n",
       "\n",
       "        circle_marker_9ecfb605f2effebb0f3156160ab05f22.bindPopup(popup_bbda320511fb689dcb6dc1bcac5c8ada)\n",
       "        ;\n",
       "\n",
       "        \n",
       "    \n",
       "    \n",
       "            var circle_marker_53a67a989d52bc3e9ae0a3bbac889c11 = L.circleMarker(\n",
       "                [47.00016, 8.01427],\n",
       "                {&quot;bubblingMouseEvents&quot;: true, &quot;color&quot;: &quot;#3388ff&quot;, &quot;dashArray&quot;: null, &quot;dashOffset&quot;: null, &quot;fill&quot;: true, &quot;fillColor&quot;: &quot;black&quot;, &quot;fillOpacity&quot;: 0.2, &quot;fillRule&quot;: &quot;evenodd&quot;, &quot;lineCap&quot;: &quot;round&quot;, &quot;lineJoin&quot;: &quot;round&quot;, &quot;opacity&quot;: 1.0, &quot;radius&quot;: 1.2904780751862297, &quot;stroke&quot;: true, &quot;weight&quot;: 3}\n",
       "            ).addTo(map_4179193c6e3cc2207ead62c85e51c2d2);\n",
       "        \n",
       "    \n",
       "        var popup_6a5f7e55572cb809a3f2c93685e09b4d = L.popup({&quot;maxWidth&quot;: &quot;100%&quot;});\n",
       "\n",
       "        \n",
       "            var html_f040442fb302610f2b50b2ec2f199cab = $(`&lt;div id=&quot;html_f040442fb302610f2b50b2ec2f199cab&quot; style=&quot;width: 100.0%; height: 100.0%;&quot;&gt;Switzerland&lt;/div&gt;`)[0];\n",
       "            popup_6a5f7e55572cb809a3f2c93685e09b4d.setContent(html_f040442fb302610f2b50b2ec2f199cab);\n",
       "        \n",
       "\n",
       "        circle_marker_53a67a989d52bc3e9ae0a3bbac889c11.bindPopup(popup_6a5f7e55572cb809a3f2c93685e09b4d)\n",
       "        ;\n",
       "\n",
       "        \n",
       "    \n",
       "    \n",
       "            var circle_marker_45c85017daba326a31cb48dd65d100d0 = L.circleMarker(\n",
       "                [-33.45694, -70.64827],\n",
       "                {&quot;bubblingMouseEvents&quot;: true, &quot;color&quot;: &quot;#3388ff&quot;, &quot;dashArray&quot;: null, &quot;dashOffset&quot;: null, &quot;fill&quot;: true, &quot;fillColor&quot;: &quot;green&quot;, &quot;fillOpacity&quot;: 0.2, &quot;fillRule&quot;: &quot;evenodd&quot;, &quot;lineCap&quot;: &quot;round&quot;, &quot;lineJoin&quot;: &quot;round&quot;, &quot;opacity&quot;: 1.0, &quot;radius&quot;: 2.123175164028212, &quot;stroke&quot;: true, &quot;weight&quot;: 3}\n",
       "            ).addTo(map_4179193c6e3cc2207ead62c85e51c2d2);\n",
       "        \n",
       "    \n",
       "        var popup_08d29240db6bdeba05d4c2298d8e30bd = L.popup({&quot;maxWidth&quot;: &quot;100%&quot;});\n",
       "\n",
       "        \n",
       "            var html_70c4c0cd388c2cc0bd347399a00710e4 = $(`&lt;div id=&quot;html_70c4c0cd388c2cc0bd347399a00710e4&quot; style=&quot;width: 100.0%; height: 100.0%;&quot;&gt;Chile&lt;/div&gt;`)[0];\n",
       "            popup_08d29240db6bdeba05d4c2298d8e30bd.setContent(html_70c4c0cd388c2cc0bd347399a00710e4);\n",
       "        \n",
       "\n",
       "        circle_marker_45c85017daba326a31cb48dd65d100d0.bindPopup(popup_08d29240db6bdeba05d4c2298d8e30bd)\n",
       "        ;\n",
       "\n",
       "        \n",
       "    \n",
       "    \n",
       "            var circle_marker_a45cd7040d17508e412c7c8197b37084 = L.circleMarker(\n",
       "                [35.0, 105.0],\n",
       "                {&quot;bubblingMouseEvents&quot;: true, &quot;color&quot;: &quot;#3388ff&quot;, &quot;dashArray&quot;: null, &quot;dashOffset&quot;: null, &quot;fill&quot;: true, &quot;fillColor&quot;: &quot;red&quot;, &quot;fillOpacity&quot;: 0.2, &quot;fillRule&quot;: &quot;evenodd&quot;, &quot;lineCap&quot;: &quot;round&quot;, &quot;lineJoin&quot;: &quot;round&quot;, &quot;opacity&quot;: 1.0, &quot;radius&quot;: 52.225656891999506, &quot;stroke&quot;: true, &quot;weight&quot;: 3}\n",
       "            ).addTo(map_4179193c6e3cc2207ead62c85e51c2d2);\n",
       "        \n",
       "    \n",
       "        var popup_5680b392fff6c94ae9bcf0808cd26943 = L.popup({&quot;maxWidth&quot;: &quot;100%&quot;});\n",
       "\n",
       "        \n",
       "            var html_036d7f437493f654de3ab4e0d2d4ad69 = $(`&lt;div id=&quot;html_036d7f437493f654de3ab4e0d2d4ad69&quot; style=&quot;width: 100.0%; height: 100.0%;&quot;&gt;China&lt;/div&gt;`)[0];\n",
       "            popup_5680b392fff6c94ae9bcf0808cd26943.setContent(html_036d7f437493f654de3ab4e0d2d4ad69);\n",
       "        \n",
       "\n",
       "        circle_marker_a45cd7040d17508e412c7c8197b37084.bindPopup(popup_5680b392fff6c94ae9bcf0808cd26943)\n",
       "        ;\n",
       "\n",
       "        \n",
       "    \n",
       "    \n",
       "            var circle_marker_9c05e91963776db218530560e29a57b9 = L.circleMarker(\n",
       "                [8.0, -5.5],\n",
       "                {&quot;bubblingMouseEvents&quot;: true, &quot;color&quot;: &quot;#3388ff&quot;, &quot;dashArray&quot;: null, &quot;dashOffset&quot;: null, &quot;fill&quot;: true, &quot;fillColor&quot;: &quot;blue&quot;, &quot;fillOpacity&quot;: 0.2, &quot;fillRule&quot;: &quot;evenodd&quot;, &quot;lineCap&quot;: &quot;round&quot;, &quot;lineJoin&quot;: &quot;round&quot;, &quot;opacity&quot;: 1.0, &quot;radius&quot;: 15.133268463096499, &quot;stroke&quot;: true, &quot;weight&quot;: 3}\n",
       "            ).addTo(map_4179193c6e3cc2207ead62c85e51c2d2);\n",
       "        \n",
       "    \n",
       "        var popup_95f08411f8228a5de1ad878f9de7357b = L.popup({&quot;maxWidth&quot;: &quot;100%&quot;});\n",
       "\n",
       "        \n",
       "            var html_2a3d50cda370c4a771847625cf39665e = $(`&lt;div id=&quot;html_2a3d50cda370c4a771847625cf39665e&quot; style=&quot;width: 100.0%; height: 100.0%;&quot;&gt;Cote d&#x27;Ivoire&lt;/div&gt;`)[0];\n",
       "            popup_95f08411f8228a5de1ad878f9de7357b.setContent(html_2a3d50cda370c4a771847625cf39665e);\n",
       "        \n",
       "\n",
       "        circle_marker_9c05e91963776db218530560e29a57b9.bindPopup(popup_95f08411f8228a5de1ad878f9de7357b)\n",
       "        ;\n",
       "\n",
       "        \n",
       "    \n",
       "    \n",
       "            var circle_marker_d219381bacbf6a110bad5cfb88d5a84f = L.circleMarker(\n",
       "                [6.0, 12.5],\n",
       "                {&quot;bubblingMouseEvents&quot;: true, &quot;color&quot;: &quot;#3388ff&quot;, &quot;dashArray&quot;: null, &quot;dashOffset&quot;: null, &quot;fill&quot;: true, &quot;fillColor&quot;: &quot;blue&quot;, &quot;fillOpacity&quot;: 0.2, &quot;fillRule&quot;: &quot;evenodd&quot;, &quot;lineCap&quot;: &quot;round&quot;, &quot;lineJoin&quot;: &quot;round&quot;, &quot;opacity&quot;: 1.0, &quot;radius&quot;: 13.37047776795466, &quot;stroke&quot;: true, &quot;weight&quot;: 3}\n",
       "            ).addTo(map_4179193c6e3cc2207ead62c85e51c2d2);\n",
       "        \n",
       "    \n",
       "        var popup_731275934676f7fd201216e020549739 = L.popup({&quot;maxWidth&quot;: &quot;100%&quot;});\n",
       "\n",
       "        \n",
       "            var html_cdafc81050ea713ca14e59f02a573313 = $(`&lt;div id=&quot;html_cdafc81050ea713ca14e59f02a573313&quot; style=&quot;width: 100.0%; height: 100.0%;&quot;&gt;Cameroon&lt;/div&gt;`)[0];\n",
       "            popup_731275934676f7fd201216e020549739.setContent(html_cdafc81050ea713ca14e59f02a573313);\n",
       "        \n",
       "\n",
       "        circle_marker_d219381bacbf6a110bad5cfb88d5a84f.bindPopup(popup_731275934676f7fd201216e020549739)\n",
       "        ;\n",
       "\n",
       "        \n",
       "    \n",
       "    \n",
       "            var circle_marker_5924f45015b9a55b872d0ece3e4150c9 = L.circleMarker(\n",
       "                [-2.5, 23.5],\n",
       "                {&quot;bubblingMouseEvents&quot;: true, &quot;color&quot;: &quot;#3388ff&quot;, &quot;dashArray&quot;: null, &quot;dashOffset&quot;: null, &quot;fill&quot;: true, &quot;fillColor&quot;: &quot;blue&quot;, &quot;fillOpacity&quot;: 0.2, &quot;fillRule&quot;: &quot;evenodd&quot;, &quot;lineCap&quot;: &quot;round&quot;, &quot;lineJoin&quot;: &quot;round&quot;, &quot;opacity&quot;: 1.0, &quot;radius&quot;: 42.45893492268982, &quot;stroke&quot;: true, &quot;weight&quot;: 3}\n",
       "            ).addTo(map_4179193c6e3cc2207ead62c85e51c2d2);\n",
       "        \n",
       "    \n",
       "        var popup_9cde8b73965ea51dfe61517d7396047a = L.popup({&quot;maxWidth&quot;: &quot;100%&quot;});\n",
       "\n",
       "        \n",
       "            var html_8a5d72d2f6654b89c614d0710c1c0836 = $(`&lt;div id=&quot;html_8a5d72d2f6654b89c614d0710c1c0836&quot; style=&quot;width: 100.0%; height: 100.0%;&quot;&gt;Congo, Dem. Rep.&lt;/div&gt;`)[0];\n",
       "            popup_9cde8b73965ea51dfe61517d7396047a.setContent(html_8a5d72d2f6654b89c614d0710c1c0836);\n",
       "        \n",
       "\n",
       "        circle_marker_5924f45015b9a55b872d0ece3e4150c9.bindPopup(popup_9cde8b73965ea51dfe61517d7396047a)\n",
       "        ;\n",
       "\n",
       "        \n",
       "    \n",
       "    \n",
       "            var circle_marker_f8de67428530d2a540e03d65c80729c1 = L.circleMarker(\n",
       "                [-1.0, 15.5],\n",
       "                {&quot;bubblingMouseEvents&quot;: true, &quot;color&quot;: &quot;#3388ff&quot;, &quot;dashArray&quot;: null, &quot;dashOffset&quot;: null, &quot;fill&quot;: true, &quot;fillColor&quot;: &quot;blue&quot;, &quot;fillOpacity&quot;: 0.2, &quot;fillRule&quot;: &quot;evenodd&quot;, &quot;lineCap&quot;: &quot;round&quot;, &quot;lineJoin&quot;: &quot;round&quot;, &quot;opacity&quot;: 1.0, &quot;radius&quot;: 6.681874714978711, &quot;stroke&quot;: true, &quot;weight&quot;: 3}\n",
       "            ).addTo(map_4179193c6e3cc2207ead62c85e51c2d2);\n",
       "        \n",
       "    \n",
       "        var popup_b642fa035de5f99a589e1e517149714e = L.popup({&quot;maxWidth&quot;: &quot;100%&quot;});\n",
       "\n",
       "        \n",
       "            var html_d88b73d5741de3871d0344224890dd2e = $(`&lt;div id=&quot;html_d88b73d5741de3871d0344224890dd2e&quot; style=&quot;width: 100.0%; height: 100.0%;&quot;&gt;Congo, Rep.&lt;/div&gt;`)[0];\n",
       "            popup_b642fa035de5f99a589e1e517149714e.setContent(html_d88b73d5741de3871d0344224890dd2e);\n",
       "        \n",
       "\n",
       "        circle_marker_f8de67428530d2a540e03d65c80729c1.bindPopup(popup_b642fa035de5f99a589e1e517149714e)\n",
       "        ;\n",
       "\n",
       "        \n",
       "    \n",
       "    \n",
       "            var circle_marker_aed7f93268ef17580a19e44b93477d7e = L.circleMarker(\n",
       "                [4.0, -73.25],\n",
       "                {&quot;bubblingMouseEvents&quot;: true, &quot;color&quot;: &quot;#3388ff&quot;, &quot;dashArray&quot;: null, &quot;dashOffset&quot;: null, &quot;fill&quot;: true, &quot;fillColor&quot;: &quot;green&quot;, &quot;fillOpacity&quot;: 0.2, &quot;fillRule&quot;: &quot;evenodd&quot;, &quot;lineCap&quot;: &quot;round&quot;, &quot;lineJoin&quot;: &quot;round&quot;, &quot;opacity&quot;: 1.0, &quot;radius&quot;: 9.002383384413296, &quot;stroke&quot;: true, &quot;weight&quot;: 3}\n",
       "            ).addTo(map_4179193c6e3cc2207ead62c85e51c2d2);\n",
       "        \n",
       "    \n",
       "        var popup_5d66933c3fee4a266afefe2d155045bf = L.popup({&quot;maxWidth&quot;: &quot;100%&quot;});\n",
       "\n",
       "        \n",
       "            var html_17cfa51a0b8ce51e256d38969cf01741 = $(`&lt;div id=&quot;html_17cfa51a0b8ce51e256d38969cf01741&quot; style=&quot;width: 100.0%; height: 100.0%;&quot;&gt;Colombia&lt;/div&gt;`)[0];\n",
       "            popup_5d66933c3fee4a266afefe2d155045bf.setContent(html_17cfa51a0b8ce51e256d38969cf01741);\n",
       "        \n",
       "\n",
       "        circle_marker_aed7f93268ef17580a19e44b93477d7e.bindPopup(popup_5d66933c3fee4a266afefe2d155045bf)\n",
       "        ;\n",
       "\n",
       "        \n",
       "    \n",
       "    \n",
       "            var circle_marker_eeb02aed7bb7f616c0d4c711670c57df = L.circleMarker(\n",
       "                [-12.23333, 44.44553],\n",
       "                {&quot;bubblingMouseEvents&quot;: true, &quot;color&quot;: &quot;#3388ff&quot;, &quot;dashArray&quot;: null, &quot;dashOffset&quot;: null, &quot;fill&quot;: true, &quot;fillColor&quot;: &quot;blue&quot;, &quot;fillOpacity&quot;: 0.2, &quot;fillRule&quot;: &quot;evenodd&quot;, &quot;lineCap&quot;: &quot;round&quot;, &quot;lineJoin&quot;: &quot;round&quot;, &quot;opacity&quot;: 1.0, &quot;radius&quot;: 3.1816440984856076, &quot;stroke&quot;: true, &quot;weight&quot;: 3}\n",
       "            ).addTo(map_4179193c6e3cc2207ead62c85e51c2d2);\n",
       "        \n",
       "    \n",
       "        var popup_abbfda4a392141be90a169556f6eb404 = L.popup({&quot;maxWidth&quot;: &quot;100%&quot;});\n",
       "\n",
       "        \n",
       "            var html_0fd5ee838bf19d9c160cf362f35d8a90 = $(`&lt;div id=&quot;html_0fd5ee838bf19d9c160cf362f35d8a90&quot; style=&quot;width: 100.0%; height: 100.0%;&quot;&gt;Comoros&lt;/div&gt;`)[0];\n",
       "            popup_abbfda4a392141be90a169556f6eb404.setContent(html_0fd5ee838bf19d9c160cf362f35d8a90);\n",
       "        \n",
       "\n",
       "        circle_marker_eeb02aed7bb7f616c0d4c711670c57df.bindPopup(popup_abbfda4a392141be90a169556f6eb404)\n",
       "        ;\n",
       "\n",
       "        \n",
       "    \n",
       "    \n",
       "            var circle_marker_0c1f8f5071f03b332975bb1f20a744d7 = L.circleMarker(\n",
       "                [16.0, -24.0],\n",
       "                {&quot;bubblingMouseEvents&quot;: true, &quot;color&quot;: &quot;#3388ff&quot;, &quot;dashArray&quot;: null, &quot;dashOffset&quot;: null, &quot;fill&quot;: true, &quot;fillColor&quot;: &quot;blue&quot;, &quot;fillOpacity&quot;: 0.2, &quot;fillRule&quot;: &quot;evenodd&quot;, &quot;lineCap&quot;: &quot;round&quot;, &quot;lineJoin&quot;: &quot;round&quot;, &quot;opacity&quot;: 1.0, &quot;radius&quot;: 1.4667952657766725, &quot;stroke&quot;: true, &quot;weight&quot;: 3}\n",
       "            ).addTo(map_4179193c6e3cc2207ead62c85e51c2d2);\n",
       "        \n",
       "    \n",
       "        var popup_89d72efd375bd9ffdfa1cc7f562856b9 = L.popup({&quot;maxWidth&quot;: &quot;100%&quot;});\n",
       "\n",
       "        \n",
       "            var html_4fa545e3a17518baf1315c3a247bc270 = $(`&lt;div id=&quot;html_4fa545e3a17518baf1315c3a247bc270&quot; style=&quot;width: 100.0%; height: 100.0%;&quot;&gt;Cape Verde&lt;/div&gt;`)[0];\n",
       "            popup_89d72efd375bd9ffdfa1cc7f562856b9.setContent(html_4fa545e3a17518baf1315c3a247bc270);\n",
       "        \n",
       "\n",
       "        circle_marker_0c1f8f5071f03b332975bb1f20a744d7.bindPopup(popup_89d72efd375bd9ffdfa1cc7f562856b9)\n",
       "        ;\n",
       "\n",
       "        \n",
       "    \n",
       "    \n",
       "            var circle_marker_0b19b7cc642133e0707e5a21a1a52929 = L.circleMarker(\n",
       "                [10.0, -84.0],\n",
       "                {&quot;bubblingMouseEvents&quot;: true, &quot;color&quot;: &quot;#3388ff&quot;, &quot;dashArray&quot;: null, &quot;dashOffset&quot;: null, &quot;fill&quot;: true, &quot;fillColor&quot;: &quot;green&quot;, &quot;fillOpacity&quot;: 0.2, &quot;fillRule&quot;: &quot;evenodd&quot;, &quot;lineCap&quot;: &quot;round&quot;, &quot;lineJoin&quot;: &quot;round&quot;, &quot;opacity&quot;: 1.0, &quot;radius&quot;: 1.402496325012203, &quot;stroke&quot;: true, &quot;weight&quot;: 3}\n",
       "            ).addTo(map_4179193c6e3cc2207ead62c85e51c2d2);\n",
       "        \n",
       "    \n",
       "        var popup_968037be9b1c5ea510eaa7699468a7c8 = L.popup({&quot;maxWidth&quot;: &quot;100%&quot;});\n",
       "\n",
       "        \n",
       "            var html_d3e56ef52e6d9f385855ca7a6e92641a = $(`&lt;div id=&quot;html_d3e56ef52e6d9f385855ca7a6e92641a&quot; style=&quot;width: 100.0%; height: 100.0%;&quot;&gt;Costa Rica&lt;/div&gt;`)[0];\n",
       "            popup_968037be9b1c5ea510eaa7699468a7c8.setContent(html_d3e56ef52e6d9f385855ca7a6e92641a);\n",
       "        \n",
       "\n",
       "        circle_marker_0b19b7cc642133e0707e5a21a1a52929.bindPopup(popup_968037be9b1c5ea510eaa7699468a7c8)\n",
       "        ;\n",
       "\n",
       "        \n",
       "    \n",
       "    \n",
       "            var circle_marker_387d247163e0f851e9b2c2f4dd4e0473 = L.circleMarker(\n",
       "                [49.75, 15.0],\n",
       "                {&quot;bubblingMouseEvents&quot;: true, &quot;color&quot;: &quot;#3388ff&quot;, &quot;dashArray&quot;: null, &quot;dashOffset&quot;: null, &quot;fill&quot;: true, &quot;fillColor&quot;: &quot;black&quot;, &quot;fillOpacity&quot;: 0.2, &quot;fillRule&quot;: &quot;evenodd&quot;, &quot;lineCap&quot;: &quot;round&quot;, &quot;lineJoin&quot;: &quot;round&quot;, &quot;opacity&quot;: 1.0, &quot;radius&quot;: 0.31720301862166483, &quot;stroke&quot;: true, &quot;weight&quot;: 3}\n",
       "            ).addTo(map_4179193c6e3cc2207ead62c85e51c2d2);\n",
       "        \n",
       "    \n",
       "        var popup_e80309c2e8be4e240ac7087eac92cca9 = L.popup({&quot;maxWidth&quot;: &quot;100%&quot;});\n",
       "\n",
       "        \n",
       "            var html_e904908dcf9bddd4f461bd9d898bd3d4 = $(`&lt;div id=&quot;html_e904908dcf9bddd4f461bd9d898bd3d4&quot; style=&quot;width: 100.0%; height: 100.0%;&quot;&gt;Czech Republic&lt;/div&gt;`)[0];\n",
       "            popup_e80309c2e8be4e240ac7087eac92cca9.setContent(html_e904908dcf9bddd4f461bd9d898bd3d4);\n",
       "        \n",
       "\n",
       "        circle_marker_387d247163e0f851e9b2c2f4dd4e0473.bindPopup(popup_e80309c2e8be4e240ac7087eac92cca9)\n",
       "        ;\n",
       "\n",
       "        \n",
       "    \n",
       "    \n",
       "            var circle_marker_87f3e58da4ecc73b9afbdc14fb07ce94 = L.circleMarker(\n",
       "                [51.5, 10.5],\n",
       "                {&quot;bubblingMouseEvents&quot;: true, &quot;color&quot;: &quot;#3388ff&quot;, &quot;dashArray&quot;: null, &quot;dashOffset&quot;: null, &quot;fill&quot;: true, &quot;fillColor&quot;: &quot;black&quot;, &quot;fillOpacity&quot;: 0.2, &quot;fillRule&quot;: &quot;evenodd&quot;, &quot;lineCap&quot;: &quot;round&quot;, &quot;lineJoin&quot;: &quot;round&quot;, &quot;opacity&quot;: 1.0, &quot;radius&quot;: 2.957623648166546, &quot;stroke&quot;: true, &quot;weight&quot;: 3}\n",
       "            ).addTo(map_4179193c6e3cc2207ead62c85e51c2d2);\n",
       "        \n",
       "    \n",
       "        var popup_2762ca56dd989a6b76e592fc5ce42fc4 = L.popup({&quot;maxWidth&quot;: &quot;100%&quot;});\n",
       "\n",
       "        \n",
       "            var html_c249abaaa3f72108402a77c02213a648 = $(`&lt;div id=&quot;html_c249abaaa3f72108402a77c02213a648&quot; style=&quot;width: 100.0%; height: 100.0%;&quot;&gt;Germany&lt;/div&gt;`)[0];\n",
       "            popup_2762ca56dd989a6b76e592fc5ce42fc4.setContent(html_c249abaaa3f72108402a77c02213a648);\n",
       "        \n",
       "\n",
       "        circle_marker_87f3e58da4ecc73b9afbdc14fb07ce94.bindPopup(popup_2762ca56dd989a6b76e592fc5ce42fc4)\n",
       "        ;\n",
       "\n",
       "        \n",
       "    \n",
       "    \n",
       "            var circle_marker_bd0abc431c4cbfbde38a47e16f6ed5c5 = L.circleMarker(\n",
       "                [11.58901, 43.14503],\n",
       "                {&quot;bubblingMouseEvents&quot;: true, &quot;color&quot;: &quot;#3388ff&quot;, &quot;dashArray&quot;: null, &quot;dashOffset&quot;: null, &quot;fill&quot;: true, &quot;fillColor&quot;: &quot;blue&quot;, &quot;fillOpacity&quot;: 0.2, &quot;fillRule&quot;: &quot;evenodd&quot;, &quot;lineCap&quot;: &quot;round&quot;, &quot;lineJoin&quot;: &quot;round&quot;, &quot;opacity&quot;: 1.0, &quot;radius&quot;: 2.244091994176071, &quot;stroke&quot;: true, &quot;weight&quot;: 3}\n",
       "            ).addTo(map_4179193c6e3cc2207ead62c85e51c2d2);\n",
       "        \n",
       "    \n",
       "        var popup_e610eecd0e701bf50fffbf888f7537e3 = L.popup({&quot;maxWidth&quot;: &quot;100%&quot;});\n",
       "\n",
       "        \n",
       "            var html_7da5de780bcf2bffc83e5c8656ec2720 = $(`&lt;div id=&quot;html_7da5de780bcf2bffc83e5c8656ec2720&quot; style=&quot;width: 100.0%; height: 100.0%;&quot;&gt;Djibouti&lt;/div&gt;`)[0];\n",
       "            popup_e610eecd0e701bf50fffbf888f7537e3.setContent(html_7da5de780bcf2bffc83e5c8656ec2720);\n",
       "        \n",
       "\n",
       "        circle_marker_bd0abc431c4cbfbde38a47e16f6ed5c5.bindPopup(popup_e610eecd0e701bf50fffbf888f7537e3)\n",
       "        ;\n",
       "\n",
       "        \n",
       "    \n",
       "    \n",
       "            var circle_marker_2a33ea0cf4b200814f2b360f1a4dbb07 = L.circleMarker(\n",
       "                [56.0, 10.0],\n",
       "                {&quot;bubblingMouseEvents&quot;: true, &quot;color&quot;: &quot;#3388ff&quot;, &quot;dashArray&quot;: null, &quot;dashOffset&quot;: null, &quot;fill&quot;: true, &quot;fillColor&quot;: &quot;black&quot;, &quot;fillOpacity&quot;: 0.2, &quot;fillRule&quot;: &quot;evenodd&quot;, &quot;lineCap&quot;: &quot;round&quot;, &quot;lineJoin&quot;: &quot;round&quot;, &quot;opacity&quot;: 1.0, &quot;radius&quot;: 1.0884180738164053, &quot;stroke&quot;: true, &quot;weight&quot;: 3}\n",
       "            ).addTo(map_4179193c6e3cc2207ead62c85e51c2d2);\n",
       "        \n",
       "    \n",
       "        var popup_a8f95e8c8b6f106663ea7ec12b796d77 = L.popup({&quot;maxWidth&quot;: &quot;100%&quot;});\n",
       "\n",
       "        \n",
       "            var html_7c1325138f335d9fe0bee5ed8a7dc69f = $(`&lt;div id=&quot;html_7c1325138f335d9fe0bee5ed8a7dc69f&quot; style=&quot;width: 100.0%; height: 100.0%;&quot;&gt;Denmark&lt;/div&gt;`)[0];\n",
       "            popup_a8f95e8c8b6f106663ea7ec12b796d77.setContent(html_7c1325138f335d9fe0bee5ed8a7dc69f);\n",
       "        \n",
       "\n",
       "        circle_marker_2a33ea0cf4b200814f2b360f1a4dbb07.bindPopup(popup_a8f95e8c8b6f106663ea7ec12b796d77)\n",
       "        ;\n",
       "\n",
       "        \n",
       "    \n",
       "    \n",
       "            var circle_marker_4ff0e1fa47f25de08bbe9e406c4ef166 = L.circleMarker(\n",
       "                [19.0, -70.66667],\n",
       "                {&quot;bubblingMouseEvents&quot;: true, &quot;color&quot;: &quot;#3388ff&quot;, &quot;dashArray&quot;: null, &quot;dashOffset&quot;: null, &quot;fill&quot;: true, &quot;fillColor&quot;: &quot;green&quot;, &quot;fillOpacity&quot;: 0.2, &quot;fillRule&quot;: &quot;evenodd&quot;, &quot;lineCap&quot;: &quot;round&quot;, &quot;lineJoin&quot;: &quot;round&quot;, &quot;opacity&quot;: 1.0, &quot;radius&quot;: 2.6350734064183507, &quot;stroke&quot;: true, &quot;weight&quot;: 3}\n",
       "            ).addTo(map_4179193c6e3cc2207ead62c85e51c2d2);\n",
       "        \n",
       "    \n",
       "        var popup_c150bee9908b9bd3d55e2cbcbd4a8196 = L.popup({&quot;maxWidth&quot;: &quot;100%&quot;});\n",
       "\n",
       "        \n",
       "            var html_7c5000e77ed73e441644304d546514b8 = $(`&lt;div id=&quot;html_7c5000e77ed73e441644304d546514b8&quot; style=&quot;width: 100.0%; height: 100.0%;&quot;&gt;Dominican Republic&lt;/div&gt;`)[0];\n",
       "            popup_c150bee9908b9bd3d55e2cbcbd4a8196.setContent(html_7c5000e77ed73e441644304d546514b8);\n",
       "        \n",
       "\n",
       "        circle_marker_4ff0e1fa47f25de08bbe9e406c4ef166.bindPopup(popup_c150bee9908b9bd3d55e2cbcbd4a8196)\n",
       "        ;\n",
       "\n",
       "        \n",
       "    \n",
       "    \n",
       "            var circle_marker_1d96af04178517162d6c872e56be5001 = L.circleMarker(\n",
       "                [28.0, 3.0],\n",
       "                {&quot;bubblingMouseEvents&quot;: true, &quot;color&quot;: &quot;#3388ff&quot;, &quot;dashArray&quot;: null, &quot;dashOffset&quot;: null, &quot;fill&quot;: true, &quot;fillColor&quot;: &quot;blue&quot;, &quot;fillOpacity&quot;: 0.2, &quot;fillRule&quot;: &quot;evenodd&quot;, &quot;lineCap&quot;: &quot;round&quot;, &quot;lineJoin&quot;: &quot;round&quot;, &quot;opacity&quot;: 1.0, &quot;radius&quot;: 8.547725420605834, &quot;stroke&quot;: true, &quot;weight&quot;: 3}\n",
       "            ).addTo(map_4179193c6e3cc2207ead62c85e51c2d2);\n",
       "        \n",
       "    \n",
       "        var popup_c42cdd1cf723b0f461eb29c70711f74d = L.popup({&quot;maxWidth&quot;: &quot;100%&quot;});\n",
       "\n",
       "        \n",
       "            var html_7153a339edbecf6f48806c71b2688c47 = $(`&lt;div id=&quot;html_7153a339edbecf6f48806c71b2688c47&quot; style=&quot;width: 100.0%; height: 100.0%;&quot;&gt;Algeria&lt;/div&gt;`)[0];\n",
       "            popup_c42cdd1cf723b0f461eb29c70711f74d.setContent(html_7153a339edbecf6f48806c71b2688c47);\n",
       "        \n",
       "\n",
       "        circle_marker_1d96af04178517162d6c872e56be5001.bindPopup(popup_c42cdd1cf723b0f461eb29c70711f74d)\n",
       "        ;\n",
       "\n",
       "        \n",
       "    \n",
       "    \n",
       "            var circle_marker_571542e0c16416c424be68680bfa0a80 = L.circleMarker(\n",
       "                [-1.25, -78.25],\n",
       "                {&quot;bubblingMouseEvents&quot;: true, &quot;color&quot;: &quot;#3388ff&quot;, &quot;dashArray&quot;: null, &quot;dashOffset&quot;: null, &quot;fill&quot;: true, &quot;fillColor&quot;: &quot;green&quot;, &quot;fillOpacity&quot;: 0.2, &quot;fillRule&quot;: &quot;evenodd&quot;, &quot;lineCap&quot;: &quot;round&quot;, &quot;lineJoin&quot;: &quot;round&quot;, &quot;opacity&quot;: 1.0, &quot;radius&quot;: 4.34440267014846, &quot;stroke&quot;: true, &quot;weight&quot;: 3}\n",
       "            ).addTo(map_4179193c6e3cc2207ead62c85e51c2d2);\n",
       "        \n",
       "    \n",
       "        var popup_9589048adb4ed1d0b24fa9c0a1579cf7 = L.popup({&quot;maxWidth&quot;: &quot;100%&quot;});\n",
       "\n",
       "        \n",
       "            var html_f1b448dbc5dded047baa6dd34c862c75 = $(`&lt;div id=&quot;html_f1b448dbc5dded047baa6dd34c862c75&quot; style=&quot;width: 100.0%; height: 100.0%;&quot;&gt;Ecuador&lt;/div&gt;`)[0];\n",
       "            popup_9589048adb4ed1d0b24fa9c0a1579cf7.setContent(html_f1b448dbc5dded047baa6dd34c862c75);\n",
       "        \n",
       "\n",
       "        circle_marker_571542e0c16416c424be68680bfa0a80.bindPopup(popup_9589048adb4ed1d0b24fa9c0a1579cf7)\n",
       "        ;\n",
       "\n",
       "        \n",
       "    \n",
       "    \n",
       "            var circle_marker_27829150621bf85b5a7cd31b06ed171d = L.circleMarker(\n",
       "                [27.0, 30.0],\n",
       "                {&quot;bubblingMouseEvents&quot;: true, &quot;color&quot;: &quot;#3388ff&quot;, &quot;dashArray&quot;: null, &quot;dashOffset&quot;: null, &quot;fill&quot;: true, &quot;fillColor&quot;: &quot;blue&quot;, &quot;fillOpacity&quot;: 0.2, &quot;fillRule&quot;: &quot;evenodd&quot;, &quot;lineCap&quot;: &quot;round&quot;, &quot;lineJoin&quot;: &quot;round&quot;, &quot;opacity&quot;: 1.0, &quot;radius&quot;: 6.652627784125568, &quot;stroke&quot;: true, &quot;weight&quot;: 3}\n",
       "            ).addTo(map_4179193c6e3cc2207ead62c85e51c2d2);\n",
       "        \n",
       "    \n",
       "        var popup_6f4f7d112146d7041a30baf16ccc0428 = L.popup({&quot;maxWidth&quot;: &quot;100%&quot;});\n",
       "\n",
       "        \n",
       "            var html_6b5f5e5844e8e62aa83990e798aa3cd3 = $(`&lt;div id=&quot;html_6b5f5e5844e8e62aa83990e798aa3cd3&quot; style=&quot;width: 100.0%; height: 100.0%;&quot;&gt;Egypt&lt;/div&gt;`)[0];\n",
       "            popup_6f4f7d112146d7041a30baf16ccc0428.setContent(html_6b5f5e5844e8e62aa83990e798aa3cd3);\n",
       "        \n",
       "\n",
       "        circle_marker_27829150621bf85b5a7cd31b06ed171d.bindPopup(popup_6f4f7d112146d7041a30baf16ccc0428)\n",
       "        ;\n",
       "\n",
       "        \n",
       "    \n",
       "    \n",
       "            var circle_marker_98f3dc13ef95194d0cc9e77a1fe10713 = L.circleMarker(\n",
       "                [40.0, -4.0],\n",
       "                {&quot;bubblingMouseEvents&quot;: true, &quot;color&quot;: &quot;#3388ff&quot;, &quot;dashArray&quot;: null, &quot;dashOffset&quot;: null, &quot;fill&quot;: true, &quot;fillColor&quot;: &quot;black&quot;, &quot;fillOpacity&quot;: 0.2, &quot;fillRule&quot;: &quot;evenodd&quot;, &quot;lineCap&quot;: &quot;round&quot;, &quot;lineJoin&quot;: &quot;round&quot;, &quot;opacity&quot;: 1.0, &quot;radius&quot;: 5.912389201233562, &quot;stroke&quot;: true, &quot;weight&quot;: 3}\n",
       "            ).addTo(map_4179193c6e3cc2207ead62c85e51c2d2);\n",
       "        \n",
       "    \n",
       "        var popup_c08f53e05e21b62546497af65eebbe2e = L.popup({&quot;maxWidth&quot;: &quot;100%&quot;});\n",
       "\n",
       "        \n",
       "            var html_5a933f6e4d5e58fb08d7469528e548bf = $(`&lt;div id=&quot;html_5a933f6e4d5e58fb08d7469528e548bf&quot; style=&quot;width: 100.0%; height: 100.0%;&quot;&gt;Spain&lt;/div&gt;`)[0];\n",
       "            popup_c08f53e05e21b62546497af65eebbe2e.setContent(html_5a933f6e4d5e58fb08d7469528e548bf);\n",
       "        \n",
       "\n",
       "        circle_marker_98f3dc13ef95194d0cc9e77a1fe10713.bindPopup(popup_c08f53e05e21b62546497af65eebbe2e)\n",
       "        ;\n",
       "\n",
       "        \n",
       "    \n",
       "    \n",
       "            var circle_marker_217efc38f03607089cb994b7ecb80fd8 = L.circleMarker(\n",
       "                [59.0, 26.0],\n",
       "                {&quot;bubblingMouseEvents&quot;: true, &quot;color&quot;: &quot;#3388ff&quot;, &quot;dashArray&quot;: null, &quot;dashOffset&quot;: null, &quot;fill&quot;: true, &quot;fillColor&quot;: &quot;black&quot;, &quot;fillOpacity&quot;: 0.2, &quot;fillRule&quot;: &quot;evenodd&quot;, &quot;lineCap&quot;: &quot;round&quot;, &quot;lineJoin&quot;: &quot;round&quot;, &quot;opacity&quot;: 1.0, &quot;radius&quot;: 0.6446344362605358, &quot;stroke&quot;: true, &quot;weight&quot;: 3}\n",
       "            ).addTo(map_4179193c6e3cc2207ead62c85e51c2d2);\n",
       "        \n",
       "    \n",
       "        var popup_57ff52944f363b001f98edc83761cc4c = L.popup({&quot;maxWidth&quot;: &quot;100%&quot;});\n",
       "\n",
       "        \n",
       "            var html_0f39d9ba7897547044dddbd3ae15933f = $(`&lt;div id=&quot;html_0f39d9ba7897547044dddbd3ae15933f&quot; style=&quot;width: 100.0%; height: 100.0%;&quot;&gt;Estonia&lt;/div&gt;`)[0];\n",
       "            popup_57ff52944f363b001f98edc83761cc4c.setContent(html_0f39d9ba7897547044dddbd3ae15933f);\n",
       "        \n",
       "\n",
       "        circle_marker_217efc38f03607089cb994b7ecb80fd8.bindPopup(popup_57ff52944f363b001f98edc83761cc4c)\n",
       "        ;\n",
       "\n",
       "        \n",
       "    \n",
       "    \n",
       "            var circle_marker_f4a24644e7411806085bd0af28f2a582 = L.circleMarker(\n",
       "                [9.0, 39.5],\n",
       "                {&quot;bubblingMouseEvents&quot;: true, &quot;color&quot;: &quot;#3388ff&quot;, &quot;dashArray&quot;: null, &quot;dashOffset&quot;: null, &quot;fill&quot;: true, &quot;fillColor&quot;: &quot;blue&quot;, &quot;fillOpacity&quot;: 0.2, &quot;fillRule&quot;: &quot;evenodd&quot;, &quot;lineCap&quot;: &quot;round&quot;, &quot;lineJoin&quot;: &quot;round&quot;, &quot;opacity&quot;: 1.0, &quot;radius&quot;: 32.036203795508186, &quot;stroke&quot;: true, &quot;weight&quot;: 3}\n",
       "            ).addTo(map_4179193c6e3cc2207ead62c85e51c2d2);\n",
       "        \n",
       "    \n",
       "        var popup_fb19270851b940e574efedaaa4db6d37 = L.popup({&quot;maxWidth&quot;: &quot;100%&quot;});\n",
       "\n",
       "        \n",
       "            var html_6478ca74de8d584e82d5ea1777ff5a7e = $(`&lt;div id=&quot;html_6478ca74de8d584e82d5ea1777ff5a7e&quot; style=&quot;width: 100.0%; height: 100.0%;&quot;&gt;Ethiopia&lt;/div&gt;`)[0];\n",
       "            popup_fb19270851b940e574efedaaa4db6d37.setContent(html_6478ca74de8d584e82d5ea1777ff5a7e);\n",
       "        \n",
       "\n",
       "        circle_marker_f4a24644e7411806085bd0af28f2a582.bindPopup(popup_fb19270851b940e574efedaaa4db6d37)\n",
       "        ;\n",
       "\n",
       "        \n",
       "    \n",
       "    \n",
       "            var circle_marker_c95dec8264ff981435522f595bd11f6c = L.circleMarker(\n",
       "                [64.0, 26.0],\n",
       "                {&quot;bubblingMouseEvents&quot;: true, &quot;color&quot;: &quot;#3388ff&quot;, &quot;dashArray&quot;: null, &quot;dashOffset&quot;: null, &quot;fill&quot;: true, &quot;fillColor&quot;: &quot;black&quot;, &quot;fillOpacity&quot;: 0.2, &quot;fillRule&quot;: &quot;evenodd&quot;, &quot;lineCap&quot;: &quot;round&quot;, &quot;lineJoin&quot;: &quot;round&quot;, &quot;opacity&quot;: 1.0, &quot;stroke&quot;: true, &quot;weight&quot;: 3}\n",
       "            ).addTo(map_4179193c6e3cc2207ead62c85e51c2d2);\n",
       "        \n",
       "    \n",
       "        var popup_93d006129d02ccee9804bd1947454164 = L.popup({&quot;maxWidth&quot;: &quot;100%&quot;});\n",
       "\n",
       "        \n",
       "            var html_b0252b7242ef48dfac9633ccfbd8b662 = $(`&lt;div id=&quot;html_b0252b7242ef48dfac9633ccfbd8b662&quot; style=&quot;width: 100.0%; height: 100.0%;&quot;&gt;Finland&lt;/div&gt;`)[0];\n",
       "            popup_93d006129d02ccee9804bd1947454164.setContent(html_b0252b7242ef48dfac9633ccfbd8b662);\n",
       "        \n",
       "\n",
       "        circle_marker_c95dec8264ff981435522f595bd11f6c.bindPopup(popup_93d006129d02ccee9804bd1947454164)\n",
       "        ;\n",
       "\n",
       "        \n",
       "    \n",
       "    \n",
       "            var circle_marker_162e5ebae96b933af02f218e878e06b1 = L.circleMarker(\n",
       "                [-18.0, 178.0],\n",
       "                {&quot;bubblingMouseEvents&quot;: true, &quot;color&quot;: &quot;#3388ff&quot;, &quot;dashArray&quot;: null, &quot;dashOffset&quot;: null, &quot;fill&quot;: true, &quot;fillColor&quot;: &quot;red&quot;, &quot;fillOpacity&quot;: 0.2, &quot;fillRule&quot;: &quot;evenodd&quot;, &quot;lineCap&quot;: &quot;round&quot;, &quot;lineJoin&quot;: &quot;round&quot;, &quot;opacity&quot;: 1.0, &quot;radius&quot;: 1.2685737233520922, &quot;stroke&quot;: true, &quot;weight&quot;: 3}\n",
       "            ).addTo(map_4179193c6e3cc2207ead62c85e51c2d2);\n",
       "        \n",
       "    \n",
       "        var popup_9366f90c70f773a5a13279f7a24e8232 = L.popup({&quot;maxWidth&quot;: &quot;100%&quot;});\n",
       "\n",
       "        \n",
       "            var html_f87baf1cf08514e208be687666ec4de6 = $(`&lt;div id=&quot;html_f87baf1cf08514e208be687666ec4de6&quot; style=&quot;width: 100.0%; height: 100.0%;&quot;&gt;Fiji&lt;/div&gt;`)[0];\n",
       "            popup_9366f90c70f773a5a13279f7a24e8232.setContent(html_f87baf1cf08514e208be687666ec4de6);\n",
       "        \n",
       "\n",
       "        circle_marker_162e5ebae96b933af02f218e878e06b1.bindPopup(popup_9366f90c70f773a5a13279f7a24e8232)\n",
       "        ;\n",
       "\n",
       "        \n",
       "    \n",
       "    \n",
       "            var circle_marker_6a7a57a54894473cc7f8567c1091ceef = L.circleMarker(\n",
       "                [46.0, 2.0],\n",
       "                {&quot;bubblingMouseEvents&quot;: true, &quot;color&quot;: &quot;#3388ff&quot;, &quot;dashArray&quot;: null, &quot;dashOffset&quot;: null, &quot;fill&quot;: true, &quot;fillColor&quot;: &quot;black&quot;, &quot;fillOpacity&quot;: 0.2, &quot;fillRule&quot;: &quot;evenodd&quot;, &quot;lineCap&quot;: &quot;round&quot;, &quot;lineJoin&quot;: &quot;round&quot;, &quot;opacity&quot;: 1.0, &quot;radius&quot;: 2.57001824901904, &quot;stroke&quot;: true, &quot;weight&quot;: 3}\n",
       "            ).addTo(map_4179193c6e3cc2207ead62c85e51c2d2);\n",
       "        \n",
       "    \n",
       "        var popup_a1daa4118b66a54338ec4b4b43bf6e55 = L.popup({&quot;maxWidth&quot;: &quot;100%&quot;});\n",
       "\n",
       "        \n",
       "            var html_7056ef5e6cea5e448f59a0d304c5f2ad = $(`&lt;div id=&quot;html_7056ef5e6cea5e448f59a0d304c5f2ad&quot; style=&quot;width: 100.0%; height: 100.0%;&quot;&gt;France&lt;/div&gt;`)[0];\n",
       "            popup_a1daa4118b66a54338ec4b4b43bf6e55.setContent(html_7056ef5e6cea5e448f59a0d304c5f2ad);\n",
       "        \n",
       "\n",
       "        circle_marker_6a7a57a54894473cc7f8567c1091ceef.bindPopup(popup_a1daa4118b66a54338ec4b4b43bf6e55)\n",
       "        ;\n",
       "\n",
       "        \n",
       "    \n",
       "    \n",
       "            var circle_marker_b0c36aad1e28f4509a13abf78ec4a8ef = L.circleMarker(\n",
       "                [6.924, 158.162],\n",
       "                {&quot;bubblingMouseEvents&quot;: true, &quot;color&quot;: &quot;#3388ff&quot;, &quot;dashArray&quot;: null, &quot;dashOffset&quot;: null, &quot;fill&quot;: true, &quot;fillColor&quot;: &quot;red&quot;, &quot;fillOpacity&quot;: 0.2, &quot;fillRule&quot;: &quot;evenodd&quot;, &quot;lineCap&quot;: &quot;round&quot;, &quot;lineJoin&quot;: &quot;round&quot;, &quot;opacity&quot;: 1.0, &quot;radius&quot;: 1.0101672302782327, &quot;stroke&quot;: true, &quot;weight&quot;: 3}\n",
       "            ).addTo(map_4179193c6e3cc2207ead62c85e51c2d2);\n",
       "        \n",
       "    \n",
       "        var popup_0e1f2d9cf70839a7b0af0103421549cb = L.popup({&quot;maxWidth&quot;: &quot;100%&quot;});\n",
       "\n",
       "        \n",
       "            var html_6a815322dd82b1fb3c9554f9baaa1350 = $(`&lt;div id=&quot;html_6a815322dd82b1fb3c9554f9baaa1350&quot; style=&quot;width: 100.0%; height: 100.0%;&quot;&gt;Micronesia, Fed. Sts.&lt;/div&gt;`)[0];\n",
       "            popup_0e1f2d9cf70839a7b0af0103421549cb.setContent(html_6a815322dd82b1fb3c9554f9baaa1350);\n",
       "        \n",
       "\n",
       "        circle_marker_b0c36aad1e28f4509a13abf78ec4a8ef.bindPopup(popup_0e1f2d9cf70839a7b0af0103421549cb)\n",
       "        ;\n",
       "\n",
       "        \n",
       "    \n",
       "    \n",
       "            var circle_marker_f18b5475b39ce7b87fa2cd61a16c8f31 = L.circleMarker(\n",
       "                [-1.0, 11.75],\n",
       "                {&quot;bubblingMouseEvents&quot;: true, &quot;color&quot;: &quot;#3388ff&quot;, &quot;dashArray&quot;: null, &quot;dashOffset&quot;: null, &quot;fill&quot;: true, &quot;fillColor&quot;: &quot;blue&quot;, &quot;fillOpacity&quot;: 0.2, &quot;fillRule&quot;: &quot;evenodd&quot;, &quot;lineCap&quot;: &quot;round&quot;, &quot;lineJoin&quot;: &quot;round&quot;, &quot;opacity&quot;: 1.0, &quot;radius&quot;: 1.7743739978493467, &quot;stroke&quot;: true, &quot;weight&quot;: 3}\n",
       "            ).addTo(map_4179193c6e3cc2207ead62c85e51c2d2);\n",
       "        \n",
       "    \n",
       "        var popup_ff7f04c8ba952ae81c7e4474778785ba = L.popup({&quot;maxWidth&quot;: &quot;100%&quot;});\n",
       "\n",
       "        \n",
       "            var html_9d93a359cc0ef744d2c2f9971c46a218 = $(`&lt;div id=&quot;html_9d93a359cc0ef744d2c2f9971c46a218&quot; style=&quot;width: 100.0%; height: 100.0%;&quot;&gt;Gabon&lt;/div&gt;`)[0];\n",
       "            popup_ff7f04c8ba952ae81c7e4474778785ba.setContent(html_9d93a359cc0ef744d2c2f9971c46a218);\n",
       "        \n",
       "\n",
       "        circle_marker_f18b5475b39ce7b87fa2cd61a16c8f31.bindPopup(popup_ff7f04c8ba952ae81c7e4474778785ba)\n",
       "        ;\n",
       "\n",
       "        \n",
       "    \n",
       "    \n",
       "            var circle_marker_4d20a9f5cf011d14a4d2359145f96530 = L.circleMarker(\n",
       "                [54.75844, -2.69531],\n",
       "                {&quot;bubblingMouseEvents&quot;: true, &quot;color&quot;: &quot;#3388ff&quot;, &quot;dashArray&quot;: null, &quot;dashOffset&quot;: null, &quot;fill&quot;: true, &quot;fillColor&quot;: &quot;black&quot;, &quot;fillOpacity&quot;: 0.2, &quot;fillRule&quot;: &quot;evenodd&quot;, &quot;lineCap&quot;: &quot;round&quot;, &quot;lineJoin&quot;: &quot;round&quot;, &quot;opacity&quot;: 1.0, &quot;radius&quot;: 4.516844160364442, &quot;stroke&quot;: true, &quot;weight&quot;: 3}\n",
       "            ).addTo(map_4179193c6e3cc2207ead62c85e51c2d2);\n",
       "        \n",
       "    \n",
       "        var popup_ef1d809e251f507f9d32f68fff097885 = L.popup({&quot;maxWidth&quot;: &quot;100%&quot;});\n",
       "\n",
       "        \n",
       "            var html_ab081909bf5cbf7ab9c678171d8e975e = $(`&lt;div id=&quot;html_ab081909bf5cbf7ab9c678171d8e975e&quot; style=&quot;width: 100.0%; height: 100.0%;&quot;&gt;United Kingdom&lt;/div&gt;`)[0];\n",
       "            popup_ef1d809e251f507f9d32f68fff097885.setContent(html_ab081909bf5cbf7ab9c678171d8e975e);\n",
       "        \n",
       "\n",
       "        circle_marker_4d20a9f5cf011d14a4d2359145f96530.bindPopup(popup_ef1d809e251f507f9d32f68fff097885)\n",
       "        ;\n",
       "\n",
       "        \n",
       "    \n",
       "    \n",
       "            var circle_marker_4cb4a9a8eb70568a160440a53d11c7ee = L.circleMarker(\n",
       "                [41.99998, 43.4999],\n",
       "                {&quot;bubblingMouseEvents&quot;: true, &quot;color&quot;: &quot;#3388ff&quot;, &quot;dashArray&quot;: null, &quot;dashOffset&quot;: null, &quot;fill&quot;: true, &quot;fillColor&quot;: &quot;black&quot;, &quot;fillOpacity&quot;: 0.2, &quot;fillRule&quot;: &quot;evenodd&quot;, &quot;lineCap&quot;: &quot;round&quot;, &quot;lineJoin&quot;: &quot;round&quot;, &quot;opacity&quot;: 1.0, &quot;radius&quot;: 4.2953024311538215, &quot;stroke&quot;: true, &quot;weight&quot;: 3}\n",
       "            ).addTo(map_4179193c6e3cc2207ead62c85e51c2d2);\n",
       "        \n",
       "    \n",
       "        var popup_c775d3c90a45b01fe8ab2cdd849d2f18 = L.popup({&quot;maxWidth&quot;: &quot;100%&quot;});\n",
       "\n",
       "        \n",
       "            var html_cb25e657284e8123f2586a7c37468c4d = $(`&lt;div id=&quot;html_cb25e657284e8123f2586a7c37468c4d&quot; style=&quot;width: 100.0%; height: 100.0%;&quot;&gt;Georgia&lt;/div&gt;`)[0];\n",
       "            popup_c775d3c90a45b01fe8ab2cdd849d2f18.setContent(html_cb25e657284e8123f2586a7c37468c4d);\n",
       "        \n",
       "\n",
       "        circle_marker_4cb4a9a8eb70568a160440a53d11c7ee.bindPopup(popup_c775d3c90a45b01fe8ab2cdd849d2f18)\n",
       "        ;\n",
       "\n",
       "        \n",
       "    \n",
       "    \n",
       "            var circle_marker_372da381bbfedce081930125582408f7 = L.circleMarker(\n",
       "                [8.1, -1.2],\n",
       "                {&quot;bubblingMouseEvents&quot;: true, &quot;color&quot;: &quot;#3388ff&quot;, &quot;dashArray&quot;: null, &quot;dashOffset&quot;: null, &quot;fill&quot;: true, &quot;fillColor&quot;: &quot;blue&quot;, &quot;fillOpacity&quot;: 0.2, &quot;fillRule&quot;: &quot;evenodd&quot;, &quot;lineCap&quot;: &quot;round&quot;, &quot;lineJoin&quot;: &quot;round&quot;, &quot;opacity&quot;: 1.0, &quot;radius&quot;: 15.016869987417403, &quot;stroke&quot;: true, &quot;weight&quot;: 3}\n",
       "            ).addTo(map_4179193c6e3cc2207ead62c85e51c2d2);\n",
       "        \n",
       "    \n",
       "        var popup_74cbdbfb0f93a467016de4f01bb6927d = L.popup({&quot;maxWidth&quot;: &quot;100%&quot;});\n",
       "\n",
       "        \n",
       "            var html_22d1c2fdf36ff3ba106f8c4f4f7fc562 = $(`&lt;div id=&quot;html_22d1c2fdf36ff3ba106f8c4f4f7fc562&quot; style=&quot;width: 100.0%; height: 100.0%;&quot;&gt;Ghana&lt;/div&gt;`)[0];\n",
       "            popup_74cbdbfb0f93a467016de4f01bb6927d.setContent(html_22d1c2fdf36ff3ba106f8c4f4f7fc562);\n",
       "        \n",
       "\n",
       "        circle_marker_372da381bbfedce081930125582408f7.bindPopup(popup_74cbdbfb0f93a467016de4f01bb6927d)\n",
       "        ;\n",
       "\n",
       "        \n",
       "    \n",
       "    \n",
       "            var circle_marker_75926a9f752bfbeb4bc507eaea9e1775 = L.circleMarker(\n",
       "                [10.83333, -10.66667],\n",
       "                {&quot;bubblingMouseEvents&quot;: true, &quot;color&quot;: &quot;#3388ff&quot;, &quot;dashArray&quot;: null, &quot;dashOffset&quot;: null, &quot;fill&quot;: true, &quot;fillColor&quot;: &quot;blue&quot;, &quot;fillOpacity&quot;: 0.2, &quot;fillRule&quot;: &quot;evenodd&quot;, &quot;lineCap&quot;: &quot;round&quot;, &quot;lineJoin&quot;: &quot;round&quot;, &quot;opacity&quot;: 1.0, &quot;radius&quot;: 11.514913134644747, &quot;stroke&quot;: true, &quot;weight&quot;: 3}\n",
       "            ).addTo(map_4179193c6e3cc2207ead62c85e51c2d2);\n",
       "        \n",
       "    \n",
       "        var popup_02d4820c70581d33b8d0300b8f931032 = L.popup({&quot;maxWidth&quot;: &quot;100%&quot;});\n",
       "\n",
       "        \n",
       "            var html_ffbdbf5001a895f1bdaeb8c7fea1eb5b = $(`&lt;div id=&quot;html_ffbdbf5001a895f1bdaeb8c7fea1eb5b&quot; style=&quot;width: 100.0%; height: 100.0%;&quot;&gt;Guinea&lt;/div&gt;`)[0];\n",
       "            popup_02d4820c70581d33b8d0300b8f931032.setContent(html_ffbdbf5001a895f1bdaeb8c7fea1eb5b);\n",
       "        \n",
       "\n",
       "        circle_marker_75926a9f752bfbeb4bc507eaea9e1775.bindPopup(popup_02d4820c70581d33b8d0300b8f931032)\n",
       "        ;\n",
       "\n",
       "        \n",
       "    \n",
       "    \n",
       "            var circle_marker_a021aaeae797787ca4b3a2d882c7a1ec = L.circleMarker(\n",
       "                [13.5, -15.5],\n",
       "                {&quot;bubblingMouseEvents&quot;: true, &quot;color&quot;: &quot;#3388ff&quot;, &quot;dashArray&quot;: null, &quot;dashOffset&quot;: null, &quot;fill&quot;: true, &quot;fillColor&quot;: &quot;blue&quot;, &quot;fillOpacity&quot;: 0.2, &quot;fillRule&quot;: &quot;evenodd&quot;, &quot;lineCap&quot;: &quot;round&quot;, &quot;lineJoin&quot;: &quot;round&quot;, &quot;opacity&quot;: 1.0, &quot;radius&quot;: 4.381298115773378, &quot;stroke&quot;: true, &quot;weight&quot;: 3}\n",
       "            ).addTo(map_4179193c6e3cc2207ead62c85e51c2d2);\n",
       "        \n",
       "    \n",
       "        var popup_a141e70acfc03b3dfb6274032766dd30 = L.popup({&quot;maxWidth&quot;: &quot;100%&quot;});\n",
       "\n",
       "        \n",
       "            var html_b9ce83bc236d1c1e89c066adc52dcae1 = $(`&lt;div id=&quot;html_b9ce83bc236d1c1e89c066adc52dcae1&quot; style=&quot;width: 100.0%; height: 100.0%;&quot;&gt;Gambia&lt;/div&gt;`)[0];\n",
       "            popup_a141e70acfc03b3dfb6274032766dd30.setContent(html_b9ce83bc236d1c1e89c066adc52dcae1);\n",
       "        \n",
       "\n",
       "        circle_marker_a021aaeae797787ca4b3a2d882c7a1ec.bindPopup(popup_a141e70acfc03b3dfb6274032766dd30)\n",
       "        ;\n",
       "\n",
       "        \n",
       "    \n",
       "    \n",
       "            var circle_marker_31db4dea02fcc8adc157d34d017b6b99 = L.circleMarker(\n",
       "                [12.0, -15.0],\n",
       "                {&quot;bubblingMouseEvents&quot;: true, &quot;color&quot;: &quot;#3388ff&quot;, &quot;dashArray&quot;: null, &quot;dashOffset&quot;: null, &quot;fill&quot;: true, &quot;fillColor&quot;: &quot;blue&quot;, &quot;fillOpacity&quot;: 0.2, &quot;fillRule&quot;: &quot;evenodd&quot;, &quot;lineCap&quot;: &quot;round&quot;, &quot;lineJoin&quot;: &quot;round&quot;, &quot;opacity&quot;: 1.0, &quot;radius&quot;: 4.868250000644995, &quot;stroke&quot;: true, &quot;weight&quot;: 3}\n",
       "            ).addTo(map_4179193c6e3cc2207ead62c85e51c2d2);\n",
       "        \n",
       "    \n",
       "        var popup_033a70465696d5467e00283a2e839471 = L.popup({&quot;maxWidth&quot;: &quot;100%&quot;});\n",
       "\n",
       "        \n",
       "            var html_96505a6009d51d75b6010bf75ba8b070 = $(`&lt;div id=&quot;html_96505a6009d51d75b6010bf75ba8b070&quot; style=&quot;width: 100.0%; height: 100.0%;&quot;&gt;Guinea-Bissau&lt;/div&gt;`)[0];\n",
       "            popup_033a70465696d5467e00283a2e839471.setContent(html_96505a6009d51d75b6010bf75ba8b070);\n",
       "        \n",
       "\n",
       "        circle_marker_31db4dea02fcc8adc157d34d017b6b99.bindPopup(popup_033a70465696d5467e00283a2e839471)\n",
       "        ;\n",
       "\n",
       "        \n",
       "    \n",
       "    \n",
       "            var circle_marker_14e2c5bdd2f2afb102719448eb150348 = L.circleMarker(\n",
       "                [39.0, 22.0],\n",
       "                {&quot;bubblingMouseEvents&quot;: true, &quot;color&quot;: &quot;#3388ff&quot;, &quot;dashArray&quot;: null, &quot;dashOffset&quot;: null, &quot;fill&quot;: true, &quot;fillColor&quot;: &quot;black&quot;, &quot;fillOpacity&quot;: 0.2, &quot;fillRule&quot;: &quot;evenodd&quot;, &quot;lineCap&quot;: &quot;round&quot;, &quot;lineJoin&quot;: &quot;round&quot;, &quot;opacity&quot;: 1.0, &quot;radius&quot;: 2.178977304449507, &quot;stroke&quot;: true, &quot;weight&quot;: 3}\n",
       "            ).addTo(map_4179193c6e3cc2207ead62c85e51c2d2);\n",
       "        \n",
       "    \n",
       "        var popup_8d6d6991c7944379e08b1130e9dda46e = L.popup({&quot;maxWidth&quot;: &quot;100%&quot;});\n",
       "\n",
       "        \n",
       "            var html_95a087e029b0395fe07317a9dcd59e6f = $(`&lt;div id=&quot;html_95a087e029b0395fe07317a9dcd59e6f&quot; style=&quot;width: 100.0%; height: 100.0%;&quot;&gt;Greece&lt;/div&gt;`)[0];\n",
       "            popup_8d6d6991c7944379e08b1130e9dda46e.setContent(html_95a087e029b0395fe07317a9dcd59e6f);\n",
       "        \n",
       "\n",
       "        circle_marker_14e2c5bdd2f2afb102719448eb150348.bindPopup(popup_8d6d6991c7944379e08b1130e9dda46e)\n",
       "        ;\n",
       "\n",
       "        \n",
       "    \n",
       "    \n",
       "            var circle_marker_78b5d5dfc8f4c5a3b71990faa33fe4cd = L.circleMarker(\n",
       "                [14.64072, -90.51327],\n",
       "                {&quot;bubblingMouseEvents&quot;: true, &quot;color&quot;: &quot;#3388ff&quot;, &quot;dashArray&quot;: null, &quot;dashOffset&quot;: null, &quot;fill&quot;: true, &quot;fillColor&quot;: &quot;green&quot;, &quot;fillOpacity&quot;: 0.2, &quot;fillRule&quot;: &quot;evenodd&quot;, &quot;lineCap&quot;: &quot;round&quot;, &quot;lineJoin&quot;: &quot;round&quot;, &quot;opacity&quot;: 1.0, &quot;radius&quot;: 7.987553755377376, &quot;stroke&quot;: true, &quot;weight&quot;: 3}\n",
       "            ).addTo(map_4179193c6e3cc2207ead62c85e51c2d2);\n",
       "        \n",
       "    \n",
       "        var popup_a1755cae87b1fcf50353d8991e4624d2 = L.popup({&quot;maxWidth&quot;: &quot;100%&quot;});\n",
       "\n",
       "        \n",
       "            var html_96111581ce26febb0ac0bd1f61894845 = $(`&lt;div id=&quot;html_96111581ce26febb0ac0bd1f61894845&quot; style=&quot;width: 100.0%; height: 100.0%;&quot;&gt;Guatemala&lt;/div&gt;`)[0];\n",
       "            popup_a1755cae87b1fcf50353d8991e4624d2.setContent(html_96111581ce26febb0ac0bd1f61894845);\n",
       "        \n",
       "\n",
       "        circle_marker_78b5d5dfc8f4c5a3b71990faa33fe4cd.bindPopup(popup_a1755cae87b1fcf50353d8991e4624d2)\n",
       "        ;\n",
       "\n",
       "        \n",
       "    \n",
       "    \n",
       "            var circle_marker_e46da75e08b6947451d1681ee9e7580c = L.circleMarker(\n",
       "                [5.0, -59.0],\n",
       "                {&quot;bubblingMouseEvents&quot;: true, &quot;color&quot;: &quot;#3388ff&quot;, &quot;dashArray&quot;: null, &quot;dashOffset&quot;: null, &quot;fill&quot;: true, &quot;fillColor&quot;: &quot;green&quot;, &quot;fillOpacity&quot;: 0.2, &quot;fillRule&quot;: &quot;evenodd&quot;, &quot;lineCap&quot;: &quot;round&quot;, &quot;lineJoin&quot;: &quot;round&quot;, &quot;opacity&quot;: 1.0, &quot;radius&quot;: 1.4406180819073164, &quot;stroke&quot;: true, &quot;weight&quot;: 3}\n",
       "            ).addTo(map_4179193c6e3cc2207ead62c85e51c2d2);\n",
       "        \n",
       "    \n",
       "        var popup_abe5d001c849aeb11ccd849e824fbbd3 = L.popup({&quot;maxWidth&quot;: &quot;100%&quot;});\n",
       "\n",
       "        \n",
       "            var html_fabd5420ad3e3523d79c605d2e9e99ca = $(`&lt;div id=&quot;html_fabd5420ad3e3523d79c605d2e9e99ca&quot; style=&quot;width: 100.0%; height: 100.0%;&quot;&gt;Guyana&lt;/div&gt;`)[0];\n",
       "            popup_abe5d001c849aeb11ccd849e824fbbd3.setContent(html_fabd5420ad3e3523d79c605d2e9e99ca);\n",
       "        \n",
       "\n",
       "        circle_marker_e46da75e08b6947451d1681ee9e7580c.bindPopup(popup_abe5d001c849aeb11ccd849e824fbbd3)\n",
       "        ;\n",
       "\n",
       "        \n",
       "    \n",
       "    \n",
       "            var circle_marker_92b24b31bc88f721cc844698af16270f = L.circleMarker(\n",
       "                [15.0, -86.5],\n",
       "                {&quot;bubblingMouseEvents&quot;: true, &quot;color&quot;: &quot;#3388ff&quot;, &quot;dashArray&quot;: null, &quot;dashOffset&quot;: null, &quot;fill&quot;: true, &quot;fillColor&quot;: &quot;green&quot;, &quot;fillOpacity&quot;: 0.2, &quot;fillRule&quot;: &quot;evenodd&quot;, &quot;lineCap&quot;: &quot;round&quot;, &quot;lineJoin&quot;: &quot;round&quot;, &quot;opacity&quot;: 1.0, &quot;radius&quot;: 6.605402401670616, &quot;stroke&quot;: true, &quot;weight&quot;: 3}\n",
       "            ).addTo(map_4179193c6e3cc2207ead62c85e51c2d2);\n",
       "        \n",
       "    \n",
       "        var popup_b234b9a5d81727cbfd11aa3043520e42 = L.popup({&quot;maxWidth&quot;: &quot;100%&quot;});\n",
       "\n",
       "        \n",
       "            var html_a61c089eb809d28c29b7da2fd8d00216 = $(`&lt;div id=&quot;html_a61c089eb809d28c29b7da2fd8d00216&quot; style=&quot;width: 100.0%; height: 100.0%;&quot;&gt;Honduras&lt;/div&gt;`)[0];\n",
       "            popup_b234b9a5d81727cbfd11aa3043520e42.setContent(html_a61c089eb809d28c29b7da2fd8d00216);\n",
       "        \n",
       "\n",
       "        circle_marker_92b24b31bc88f721cc844698af16270f.bindPopup(popup_b234b9a5d81727cbfd11aa3043520e42)\n",
       "        ;\n",
       "\n",
       "        \n",
       "    \n",
       "    \n",
       "            var circle_marker_36bff674e643048a82b864cd631ca909 = L.circleMarker(\n",
       "                [45.16667, 15.5],\n",
       "                {&quot;bubblingMouseEvents&quot;: true, &quot;color&quot;: &quot;#3388ff&quot;, &quot;dashArray&quot;: null, &quot;dashOffset&quot;: null, &quot;fill&quot;: true, &quot;fillColor&quot;: &quot;black&quot;, &quot;fillOpacity&quot;: 0.2, &quot;fillRule&quot;: &quot;evenodd&quot;, &quot;lineCap&quot;: &quot;round&quot;, &quot;lineJoin&quot;: &quot;round&quot;, &quot;opacity&quot;: 1.0, &quot;stroke&quot;: true, &quot;weight&quot;: 3}\n",
       "            ).addTo(map_4179193c6e3cc2207ead62c85e51c2d2);\n",
       "        \n",
       "    \n",
       "        var popup_882ce202e8a2bb5e1718fd72dd132f35 = L.popup({&quot;maxWidth&quot;: &quot;100%&quot;});\n",
       "\n",
       "        \n",
       "            var html_181b7ca7c0bb67cdecb331f7543c29d4 = $(`&lt;div id=&quot;html_181b7ca7c0bb67cdecb331f7543c29d4&quot; style=&quot;width: 100.0%; height: 100.0%;&quot;&gt;Croatia&lt;/div&gt;`)[0];\n",
       "            popup_882ce202e8a2bb5e1718fd72dd132f35.setContent(html_181b7ca7c0bb67cdecb331f7543c29d4);\n",
       "        \n",
       "\n",
       "        circle_marker_36bff674e643048a82b864cd631ca909.bindPopup(popup_882ce202e8a2bb5e1718fd72dd132f35)\n",
       "        ;\n",
       "\n",
       "        \n",
       "    \n",
       "    \n",
       "            var circle_marker_4a482e756bdae93f1174cd17b627df61 = L.circleMarker(\n",
       "                [19.0, -72.41667],\n",
       "                {&quot;bubblingMouseEvents&quot;: true, &quot;color&quot;: &quot;#3388ff&quot;, &quot;dashArray&quot;: null, &quot;dashOffset&quot;: null, &quot;fill&quot;: true, &quot;fillColor&quot;: &quot;green&quot;, &quot;fillOpacity&quot;: 0.2, &quot;fillRule&quot;: &quot;evenodd&quot;, &quot;lineCap&quot;: &quot;round&quot;, &quot;lineJoin&quot;: &quot;round&quot;, &quot;opacity&quot;: 1.0, &quot;radius&quot;: 13.979752671774591, &quot;stroke&quot;: true, &quot;weight&quot;: 3}\n",
       "            ).addTo(map_4179193c6e3cc2207ead62c85e51c2d2);\n",
       "        \n",
       "    \n",
       "        var popup_be17c1731fa65ee2e3e96f5c31972624 = L.popup({&quot;maxWidth&quot;: &quot;100%&quot;});\n",
       "\n",
       "        \n",
       "            var html_859cb7c7770a79f829f6f253d3ee4ce5 = $(`&lt;div id=&quot;html_859cb7c7770a79f829f6f253d3ee4ce5&quot; style=&quot;width: 100.0%; height: 100.0%;&quot;&gt;Haiti&lt;/div&gt;`)[0];\n",
       "            popup_be17c1731fa65ee2e3e96f5c31972624.setContent(html_859cb7c7770a79f829f6f253d3ee4ce5);\n",
       "        \n",
       "\n",
       "        circle_marker_4a482e756bdae93f1174cd17b627df61.bindPopup(popup_be17c1731fa65ee2e3e96f5c31972624)\n",
       "        ;\n",
       "\n",
       "        \n",
       "    \n",
       "    \n",
       "            var circle_marker_a7f845f6e438020fa39c7d0d22f25c4b = L.circleMarker(\n",
       "                [47.0, 20.0],\n",
       "                {&quot;bubblingMouseEvents&quot;: true, &quot;color&quot;: &quot;#3388ff&quot;, &quot;dashArray&quot;: null, &quot;dashOffset&quot;: null, &quot;fill&quot;: true, &quot;fillColor&quot;: &quot;black&quot;, &quot;fillOpacity&quot;: 0.2, &quot;fillRule&quot;: &quot;evenodd&quot;, &quot;lineCap&quot;: &quot;round&quot;, &quot;lineJoin&quot;: &quot;round&quot;, &quot;opacity&quot;: 1.0, &quot;radius&quot;: 0.39750349369739346, &quot;stroke&quot;: true, &quot;weight&quot;: 3}\n",
       "            ).addTo(map_4179193c6e3cc2207ead62c85e51c2d2);\n",
       "        \n",
       "    \n",
       "        var popup_c5a70b561b87e9b3fc8c5a600cd15d89 = L.popup({&quot;maxWidth&quot;: &quot;100%&quot;});\n",
       "\n",
       "        \n",
       "            var html_98bb541df0fb1a46be4cf757b1b1e7ea = $(`&lt;div id=&quot;html_98bb541df0fb1a46be4cf757b1b1e7ea&quot; style=&quot;width: 100.0%; height: 100.0%;&quot;&gt;Hungary&lt;/div&gt;`)[0];\n",
       "            popup_c5a70b561b87e9b3fc8c5a600cd15d89.setContent(html_98bb541df0fb1a46be4cf757b1b1e7ea);\n",
       "        \n",
       "\n",
       "        circle_marker_a7f845f6e438020fa39c7d0d22f25c4b.bindPopup(popup_c5a70b561b87e9b3fc8c5a600cd15d89)\n",
       "        ;\n",
       "\n",
       "        \n",
       "    \n",
       "    \n",
       "            var circle_marker_6502750e09dac3cbe54f5295976f07e2 = L.circleMarker(\n",
       "                [-5.0, 120.0],\n",
       "                {&quot;bubblingMouseEvents&quot;: true, &quot;color&quot;: &quot;#3388ff&quot;, &quot;dashArray&quot;: null, &quot;dashOffset&quot;: null, &quot;fill&quot;: true, &quot;fillColor&quot;: &quot;red&quot;, &quot;fillOpacity&quot;: 0.2, &quot;fillRule&quot;: &quot;evenodd&quot;, &quot;lineCap&quot;: &quot;round&quot;, &quot;lineJoin&quot;: &quot;round&quot;, &quot;opacity&quot;: 1.0, &quot;radius&quot;: 35.313556272281424, &quot;stroke&quot;: true, &quot;weight&quot;: 3}\n",
       "            ).addTo(map_4179193c6e3cc2207ead62c85e51c2d2);\n",
       "        \n",
       "    \n",
       "        var popup_7bbe55bd2f5e346315a5f0458e12042a = L.popup({&quot;maxWidth&quot;: &quot;100%&quot;});\n",
       "\n",
       "        \n",
       "            var html_d49448abeb3792df5ce8757381be20b3 = $(`&lt;div id=&quot;html_d49448abeb3792df5ce8757381be20b3&quot; style=&quot;width: 100.0%; height: 100.0%;&quot;&gt;Indonesia&lt;/div&gt;`)[0];\n",
       "            popup_7bbe55bd2f5e346315a5f0458e12042a.setContent(html_d49448abeb3792df5ce8757381be20b3);\n",
       "        \n",
       "\n",
       "        circle_marker_6502750e09dac3cbe54f5295976f07e2.bindPopup(popup_7bbe55bd2f5e346315a5f0458e12042a)\n",
       "        ;\n",
       "\n",
       "        \n",
       "    \n",
       "    \n",
       "            var circle_marker_222b58295a05e5bd8afa6c0c75f99b15 = L.circleMarker(\n",
       "                [22.0, 79.0],\n",
       "                {&quot;bubblingMouseEvents&quot;: true, &quot;color&quot;: &quot;#3388ff&quot;, &quot;dashArray&quot;: null, &quot;dashOffset&quot;: null, &quot;fill&quot;: true, &quot;fillColor&quot;: &quot;red&quot;, &quot;fillOpacity&quot;: 0.2, &quot;fillRule&quot;: &quot;evenodd&quot;, &quot;lineCap&quot;: &quot;round&quot;, &quot;lineJoin&quot;: &quot;round&quot;, &quot;opacity&quot;: 1.0, &quot;radius&quot;: 96.35271911284168, &quot;stroke&quot;: true, &quot;weight&quot;: 3}\n",
       "            ).addTo(map_4179193c6e3cc2207ead62c85e51c2d2);\n",
       "        \n",
       "    \n",
       "        var popup_d6c98b57e60b7f076ddba33887edb933 = L.popup({&quot;maxWidth&quot;: &quot;100%&quot;});\n",
       "\n",
       "        \n",
       "            var html_ec4663756e8a178d468efd524cddecd7 = $(`&lt;div id=&quot;html_ec4663756e8a178d468efd524cddecd7&quot; style=&quot;width: 100.0%; height: 100.0%;&quot;&gt;India&lt;/div&gt;`)[0];\n",
       "            popup_d6c98b57e60b7f076ddba33887edb933.setContent(html_ec4663756e8a178d468efd524cddecd7);\n",
       "        \n",
       "\n",
       "        circle_marker_222b58295a05e5bd8afa6c0c75f99b15.bindPopup(popup_d6c98b57e60b7f076ddba33887edb933)\n",
       "        ;\n",
       "\n",
       "        \n",
       "    \n",
       "    \n",
       "            var circle_marker_8e28ba0e6d8111c5ddad98d3c45e6f3d = L.circleMarker(\n",
       "                [53.0, -8.0],\n",
       "                {&quot;bubblingMouseEvents&quot;: true, &quot;color&quot;: &quot;#3388ff&quot;, &quot;dashArray&quot;: null, &quot;dashOffset&quot;: null, &quot;fill&quot;: true, &quot;fillColor&quot;: &quot;black&quot;, &quot;fillOpacity&quot;: 0.2, &quot;fillRule&quot;: &quot;evenodd&quot;, &quot;lineCap&quot;: &quot;round&quot;, &quot;lineJoin&quot;: &quot;round&quot;, &quot;opacity&quot;: 1.0, &quot;radius&quot;: 0.7224270824013612, &quot;stroke&quot;: true, &quot;weight&quot;: 3}\n",
       "            ).addTo(map_4179193c6e3cc2207ead62c85e51c2d2);\n",
       "        \n",
       "    \n",
       "        var popup_d0515a0a1de7aa4379f73c5ee6d1b74e = L.popup({&quot;maxWidth&quot;: &quot;100%&quot;});\n",
       "\n",
       "        \n",
       "            var html_bbc90bcfd5cc62398ae8733690a30360 = $(`&lt;div id=&quot;html_bbc90bcfd5cc62398ae8733690a30360&quot; style=&quot;width: 100.0%; height: 100.0%;&quot;&gt;Ireland&lt;/div&gt;`)[0];\n",
       "            popup_d0515a0a1de7aa4379f73c5ee6d1b74e.setContent(html_bbc90bcfd5cc62398ae8733690a30360);\n",
       "        \n",
       "\n",
       "        circle_marker_8e28ba0e6d8111c5ddad98d3c45e6f3d.bindPopup(popup_d0515a0a1de7aa4379f73c5ee6d1b74e)\n",
       "        ;\n",
       "\n",
       "        \n",
       "    \n",
       "    \n",
       "            var circle_marker_7f3ace6e4dd2235d654c149298f6155c = L.circleMarker(\n",
       "                [32.0, 53.0],\n",
       "                {&quot;bubblingMouseEvents&quot;: true, &quot;color&quot;: &quot;#3388ff&quot;, &quot;dashArray&quot;: null, &quot;dashOffset&quot;: null, &quot;fill&quot;: true, &quot;fillColor&quot;: &quot;red&quot;, &quot;fillOpacity&quot;: 0.2, &quot;fillRule&quot;: &quot;evenodd&quot;, &quot;lineCap&quot;: &quot;round&quot;, &quot;lineJoin&quot;: &quot;round&quot;, &quot;opacity&quot;: 1.0, &quot;radius&quot;: 5.834814195302852, &quot;stroke&quot;: true, &quot;weight&quot;: 3}\n",
       "            ).addTo(map_4179193c6e3cc2207ead62c85e51c2d2);\n",
       "        \n",
       "    \n",
       "        var popup_761a4c05fa67dc493bab6104f4055896 = L.popup({&quot;maxWidth&quot;: &quot;100%&quot;});\n",
       "\n",
       "        \n",
       "            var html_04a35861a909c68050d3bed59b10851a = $(`&lt;div id=&quot;html_04a35861a909c68050d3bed59b10851a&quot; style=&quot;width: 100.0%; height: 100.0%;&quot;&gt;Iran&lt;/div&gt;`)[0];\n",
       "            popup_761a4c05fa67dc493bab6104f4055896.setContent(html_04a35861a909c68050d3bed59b10851a);\n",
       "        \n",
       "\n",
       "        circle_marker_7f3ace6e4dd2235d654c149298f6155c.bindPopup(popup_761a4c05fa67dc493bab6104f4055896)\n",
       "        ;\n",
       "\n",
       "        \n",
       "    \n",
       "    \n",
       "            var circle_marker_4b2c1d01e5d192f8df3fa5e195246226 = L.circleMarker(\n",
       "                [33.0, 44.0],\n",
       "                {&quot;bubblingMouseEvents&quot;: true, &quot;color&quot;: &quot;#3388ff&quot;, &quot;dashArray&quot;: null, &quot;dashOffset&quot;: null, &quot;fill&quot;: true, &quot;fillColor&quot;: &quot;red&quot;, &quot;fillOpacity&quot;: 0.2, &quot;fillRule&quot;: &quot;evenodd&quot;, &quot;lineCap&quot;: &quot;round&quot;, &quot;lineJoin&quot;: &quot;round&quot;, &quot;opacity&quot;: 1.0, &quot;radius&quot;: 6.084127448138132, &quot;stroke&quot;: true, &quot;weight&quot;: 3}\n",
       "            ).addTo(map_4179193c6e3cc2207ead62c85e51c2d2);\n",
       "        \n",
       "    \n",
       "        var popup_5914d0818b312405171488ded87155b4 = L.popup({&quot;maxWidth&quot;: &quot;100%&quot;});\n",
       "\n",
       "        \n",
       "            var html_7dea71239486c88a59b89ce195ab8320 = $(`&lt;div id=&quot;html_7dea71239486c88a59b89ce195ab8320&quot; style=&quot;width: 100.0%; height: 100.0%;&quot;&gt;Iraq&lt;/div&gt;`)[0];\n",
       "            popup_5914d0818b312405171488ded87155b4.setContent(html_7dea71239486c88a59b89ce195ab8320);\n",
       "        \n",
       "\n",
       "        circle_marker_4b2c1d01e5d192f8df3fa5e195246226.bindPopup(popup_5914d0818b312405171488ded87155b4)\n",
       "        ;\n",
       "\n",
       "        \n",
       "    \n",
       "    \n",
       "            var circle_marker_27117142009da8497cb513cbae08d806 = L.circleMarker(\n",
       "                [31.5, 34.75],\n",
       "                {&quot;bubblingMouseEvents&quot;: true, &quot;color&quot;: &quot;#3388ff&quot;, &quot;dashArray&quot;: null, &quot;dashOffset&quot;: null, &quot;fill&quot;: true, &quot;fillColor&quot;: &quot;red&quot;, &quot;fillOpacity&quot;: 0.2, &quot;fillRule&quot;: &quot;evenodd&quot;, &quot;lineCap&quot;: &quot;round&quot;, &quot;lineJoin&quot;: &quot;round&quot;, &quot;opacity&quot;: 1.0, &quot;radius&quot;: 0.9549814945354589, &quot;stroke&quot;: true, &quot;weight&quot;: 3}\n",
       "            ).addTo(map_4179193c6e3cc2207ead62c85e51c2d2);\n",
       "        \n",
       "    \n",
       "        var popup_ebf0f35f1130b3be0776d6fb710a92c8 = L.popup({&quot;maxWidth&quot;: &quot;100%&quot;});\n",
       "\n",
       "        \n",
       "            var html_9c77e5cb929ef09c361a8e38ddc63a80 = $(`&lt;div id=&quot;html_9c77e5cb929ef09c361a8e38ddc63a80&quot; style=&quot;width: 100.0%; height: 100.0%;&quot;&gt;Israel&lt;/div&gt;`)[0];\n",
       "            popup_ebf0f35f1130b3be0776d6fb710a92c8.setContent(html_9c77e5cb929ef09c361a8e38ddc63a80);\n",
       "        \n",
       "\n",
       "        circle_marker_27117142009da8497cb513cbae08d806.bindPopup(popup_ebf0f35f1130b3be0776d6fb710a92c8)\n",
       "        ;\n",
       "\n",
       "        \n",
       "    \n",
       "    \n",
       "            var circle_marker_879cb9cf16bcba9f48b3c5d89487ec88 = L.circleMarker(\n",
       "                [42.83333, 12.83333],\n",
       "                {&quot;bubblingMouseEvents&quot;: true, &quot;color&quot;: &quot;#3388ff&quot;, &quot;dashArray&quot;: null, &quot;dashOffset&quot;: null, &quot;fill&quot;: true, &quot;fillColor&quot;: &quot;black&quot;, &quot;fillOpacity&quot;: 0.2, &quot;fillRule&quot;: &quot;evenodd&quot;, &quot;lineCap&quot;: &quot;round&quot;, &quot;lineJoin&quot;: &quot;round&quot;, &quot;opacity&quot;: 1.0, &quot;radius&quot;: 5.049074400874107, &quot;stroke&quot;: true, &quot;weight&quot;: 3}\n",
       "            ).addTo(map_4179193c6e3cc2207ead62c85e51c2d2);\n",
       "        \n",
       "    \n",
       "        var popup_2ead9884e08e58fcf0f73d17ab46ca8a = L.popup({&quot;maxWidth&quot;: &quot;100%&quot;});\n",
       "\n",
       "        \n",
       "            var html_6735929c41a5183e7db4e228338a5522 = $(`&lt;div id=&quot;html_6735929c41a5183e7db4e228338a5522&quot; style=&quot;width: 100.0%; height: 100.0%;&quot;&gt;Italy&lt;/div&gt;`)[0];\n",
       "            popup_2ead9884e08e58fcf0f73d17ab46ca8a.setContent(html_6735929c41a5183e7db4e228338a5522);\n",
       "        \n",
       "\n",
       "        circle_marker_879cb9cf16bcba9f48b3c5d89487ec88.bindPopup(popup_2ead9884e08e58fcf0f73d17ab46ca8a)\n",
       "        ;\n",
       "\n",
       "        \n",
       "    \n",
       "    \n",
       "            var circle_marker_be903babe07b35cf844e24ce11882f8e = L.circleMarker(\n",
       "                [18.16667, -77.25],\n",
       "                {&quot;bubblingMouseEvents&quot;: true, &quot;color&quot;: &quot;#3388ff&quot;, &quot;dashArray&quot;: null, &quot;dashOffset&quot;: null, &quot;fill&quot;: true, &quot;fillColor&quot;: &quot;green&quot;, &quot;fillOpacity&quot;: 0.2, &quot;fillRule&quot;: &quot;evenodd&quot;, &quot;lineCap&quot;: &quot;round&quot;, &quot;lineJoin&quot;: &quot;round&quot;, &quot;opacity&quot;: 1.0, &quot;radius&quot;: 0.4633573332008104, &quot;stroke&quot;: true, &quot;weight&quot;: 3}\n",
       "            ).addTo(map_4179193c6e3cc2207ead62c85e51c2d2);\n",
       "        \n",
       "    \n",
       "        var popup_a7c74575be1be3e6dfb99ff51fbb7000 = L.popup({&quot;maxWidth&quot;: &quot;100%&quot;});\n",
       "\n",
       "        \n",
       "            var html_8d385e941287c3a71516cec6a8d5048e = $(`&lt;div id=&quot;html_8d385e941287c3a71516cec6a8d5048e&quot; style=&quot;width: 100.0%; height: 100.0%;&quot;&gt;Jamaica&lt;/div&gt;`)[0];\n",
       "            popup_a7c74575be1be3e6dfb99ff51fbb7000.setContent(html_8d385e941287c3a71516cec6a8d5048e);\n",
       "        \n",
       "\n",
       "        circle_marker_be903babe07b35cf844e24ce11882f8e.bindPopup(popup_a7c74575be1be3e6dfb99ff51fbb7000)\n",
       "        ;\n",
       "\n",
       "        \n",
       "    \n",
       "    \n",
       "            var circle_marker_0c942544dbe6a70456783787b531a184 = L.circleMarker(\n",
       "                [31.0, 36.0],\n",
       "                {&quot;bubblingMouseEvents&quot;: true, &quot;color&quot;: &quot;#3388ff&quot;, &quot;dashArray&quot;: null, &quot;dashOffset&quot;: null, &quot;fill&quot;: true, &quot;fillColor&quot;: &quot;red&quot;, &quot;fillOpacity&quot;: 0.2, &quot;fillRule&quot;: &quot;evenodd&quot;, &quot;lineCap&quot;: &quot;round&quot;, &quot;lineJoin&quot;: &quot;round&quot;, &quot;opacity&quot;: 1.0, &quot;radius&quot;: 0.4300072242232263, &quot;stroke&quot;: true, &quot;weight&quot;: 3}\n",
       "            ).addTo(map_4179193c6e3cc2207ead62c85e51c2d2);\n",
       "        \n",
       "    \n",
       "        var popup_45b93b80572e34a92d814f1558ff5f4b = L.popup({&quot;maxWidth&quot;: &quot;100%&quot;});\n",
       "\n",
       "        \n",
       "            var html_2867cc82bf17faa393705d833286b42c = $(`&lt;div id=&quot;html_2867cc82bf17faa393705d833286b42c&quot; style=&quot;width: 100.0%; height: 100.0%;&quot;&gt;Jordan&lt;/div&gt;`)[0];\n",
       "            popup_45b93b80572e34a92d814f1558ff5f4b.setContent(html_2867cc82bf17faa393705d833286b42c);\n",
       "        \n",
       "\n",
       "        circle_marker_0c942544dbe6a70456783787b531a184.bindPopup(popup_45b93b80572e34a92d814f1558ff5f4b)\n",
       "        ;\n",
       "\n",
       "        \n",
       "    \n",
       "    \n",
       "            var circle_marker_8ce2f027a30d688605d2efc720874a5f = L.circleMarker(\n",
       "                [35.68536, 139.75309],\n",
       "                {&quot;bubblingMouseEvents&quot;: true, &quot;color&quot;: &quot;#3388ff&quot;, &quot;dashArray&quot;: null, &quot;dashOffset&quot;: null, &quot;fill&quot;: true, &quot;fillColor&quot;: &quot;red&quot;, &quot;fillOpacity&quot;: 0.2, &quot;fillRule&quot;: &quot;evenodd&quot;, &quot;lineCap&quot;: &quot;round&quot;, &quot;lineJoin&quot;: &quot;round&quot;, &quot;opacity&quot;: 1.0, &quot;radius&quot;: 3.784269826192565, &quot;stroke&quot;: true, &quot;weight&quot;: 3}\n",
       "            ).addTo(map_4179193c6e3cc2207ead62c85e51c2d2);\n",
       "        \n",
       "    \n",
       "        var popup_95be87af3ab878cae8fce90b076db5b2 = L.popup({&quot;maxWidth&quot;: &quot;100%&quot;});\n",
       "\n",
       "        \n",
       "            var html_c89d20da2810bc81ce3a7dcdfc758b64 = $(`&lt;div id=&quot;html_c89d20da2810bc81ce3a7dcdfc758b64&quot; style=&quot;width: 100.0%; height: 100.0%;&quot;&gt;Japan&lt;/div&gt;`)[0];\n",
       "            popup_95be87af3ab878cae8fce90b076db5b2.setContent(html_c89d20da2810bc81ce3a7dcdfc758b64);\n",
       "        \n",
       "\n",
       "        circle_marker_8ce2f027a30d688605d2efc720874a5f.bindPopup(popup_95be87af3ab878cae8fce90b076db5b2)\n",
       "        ;\n",
       "\n",
       "        \n",
       "    \n",
       "    \n",
       "            var circle_marker_9bd5c859e2500d4c6ea6e52a7610168d = L.circleMarker(\n",
       "                [48.0, 68.0],\n",
       "                {&quot;bubblingMouseEvents&quot;: true, &quot;color&quot;: &quot;#3388ff&quot;, &quot;dashArray&quot;: null, &quot;dashOffset&quot;: null, &quot;fill&quot;: true, &quot;fillColor&quot;: &quot;red&quot;, &quot;fillOpacity&quot;: 0.2, &quot;fillRule&quot;: &quot;evenodd&quot;, &quot;lineCap&quot;: &quot;round&quot;, &quot;lineJoin&quot;: &quot;round&quot;, &quot;opacity&quot;: 1.0, &quot;radius&quot;: 0.5571211448310092, &quot;stroke&quot;: true, &quot;weight&quot;: 3}\n",
       "            ).addTo(map_4179193c6e3cc2207ead62c85e51c2d2);\n",
       "        \n",
       "    \n",
       "        var popup_197e18ee30163699eb5b9d4cd2893728 = L.popup({&quot;maxWidth&quot;: &quot;100%&quot;});\n",
       "\n",
       "        \n",
       "            var html_bf316f2d982221bcd7553b0386321953 = $(`&lt;div id=&quot;html_bf316f2d982221bcd7553b0386321953&quot; style=&quot;width: 100.0%; height: 100.0%;&quot;&gt;Kazakhstan&lt;/div&gt;`)[0];\n",
       "            popup_197e18ee30163699eb5b9d4cd2893728.setContent(html_bf316f2d982221bcd7553b0386321953);\n",
       "        \n",
       "\n",
       "        circle_marker_9bd5c859e2500d4c6ea6e52a7610168d.bindPopup(popup_197e18ee30163699eb5b9d4cd2893728)\n",
       "        ;\n",
       "\n",
       "        \n",
       "    \n",
       "    \n",
       "            var circle_marker_b909f47fad663b2c04dc5d1e506fcf77 = L.circleMarker(\n",
       "                [1.0, 38.0],\n",
       "                {&quot;bubblingMouseEvents&quot;: true, &quot;color&quot;: &quot;#3388ff&quot;, &quot;dashArray&quot;: null, &quot;dashOffset&quot;: null, &quot;fill&quot;: true, &quot;fillColor&quot;: &quot;blue&quot;, &quot;fillOpacity&quot;: 0.2, &quot;fillRule&quot;: &quot;evenodd&quot;, &quot;lineCap&quot;: &quot;round&quot;, &quot;lineJoin&quot;: &quot;round&quot;, &quot;opacity&quot;: 1.0, &quot;radius&quot;: 24.088125640567295, &quot;stroke&quot;: true, &quot;weight&quot;: 3}\n",
       "            ).addTo(map_4179193c6e3cc2207ead62c85e51c2d2);\n",
       "        \n",
       "    \n",
       "        var popup_47e3b1d907d784d8f4193032ad9fd507 = L.popup({&quot;maxWidth&quot;: &quot;100%&quot;});\n",
       "\n",
       "        \n",
       "            var html_a361d86a41d26e18abc14bc5896082be = $(`&lt;div id=&quot;html_a361d86a41d26e18abc14bc5896082be&quot; style=&quot;width: 100.0%; height: 100.0%;&quot;&gt;Kenya&lt;/div&gt;`)[0];\n",
       "            popup_47e3b1d907d784d8f4193032ad9fd507.setContent(html_a361d86a41d26e18abc14bc5896082be);\n",
       "        \n",
       "\n",
       "        circle_marker_b909f47fad663b2c04dc5d1e506fcf77.bindPopup(popup_47e3b1d907d784d8f4193032ad9fd507)\n",
       "        ;\n",
       "\n",
       "        \n",
       "    \n",
       "    \n",
       "            var circle_marker_564f1c49a731cae94efbb2046cfdbf69 = L.circleMarker(\n",
       "                [41.5, 75.0],\n",
       "                {&quot;bubblingMouseEvents&quot;: true, &quot;color&quot;: &quot;#3388ff&quot;, &quot;dashArray&quot;: null, &quot;dashOffset&quot;: null, &quot;fill&quot;: true, &quot;fillColor&quot;: &quot;red&quot;, &quot;fillOpacity&quot;: 0.2, &quot;fillRule&quot;: &quot;evenodd&quot;, &quot;lineCap&quot;: &quot;round&quot;, &quot;lineJoin&quot;: &quot;round&quot;, &quot;opacity&quot;: 1.0, &quot;radius&quot;: 2.9697977196085015, &quot;stroke&quot;: true, &quot;weight&quot;: 3}\n",
       "            ).addTo(map_4179193c6e3cc2207ead62c85e51c2d2);\n",
       "        \n",
       "    \n",
       "        var popup_de616e1fc89409e4ca8e64600b7dbb0c = L.popup({&quot;maxWidth&quot;: &quot;100%&quot;});\n",
       "\n",
       "        \n",
       "            var html_fd86f3558c98c99ec1ad1fa7c5f41315 = $(`&lt;div id=&quot;html_fd86f3558c98c99ec1ad1fa7c5f41315&quot; style=&quot;width: 100.0%; height: 100.0%;&quot;&gt;Kyrgyz Republic&lt;/div&gt;`)[0];\n",
       "            popup_de616e1fc89409e4ca8e64600b7dbb0c.setContent(html_fd86f3558c98c99ec1ad1fa7c5f41315);\n",
       "        \n",
       "\n",
       "        circle_marker_564f1c49a731cae94efbb2046cfdbf69.bindPopup(popup_de616e1fc89409e4ca8e64600b7dbb0c)\n",
       "        ;\n",
       "\n",
       "        \n",
       "    \n",
       "    \n",
       "            var circle_marker_b4503950ef280b0308a2f7df089c9d02 = L.circleMarker(\n",
       "                [13.0, 105.0],\n",
       "                {&quot;bubblingMouseEvents&quot;: true, &quot;color&quot;: &quot;#3388ff&quot;, &quot;dashArray&quot;: null, &quot;dashOffset&quot;: null, &quot;fill&quot;: true, &quot;fillColor&quot;: &quot;red&quot;, &quot;fillOpacity&quot;: 0.2, &quot;fillRule&quot;: &quot;evenodd&quot;, &quot;lineCap&quot;: &quot;round&quot;, &quot;lineJoin&quot;: &quot;round&quot;, &quot;opacity&quot;: 1.0, &quot;radius&quot;: 6.766458594858778, &quot;stroke&quot;: true, &quot;weight&quot;: 3}\n",
       "            ).addTo(map_4179193c6e3cc2207ead62c85e51c2d2);\n",
       "        \n",
       "    \n",
       "        var popup_09e2046b9ca005ddae7f743819ccac4a = L.popup({&quot;maxWidth&quot;: &quot;100%&quot;});\n",
       "\n",
       "        \n",
       "            var html_8624a219fdda6abe0f2f90e4905f2419 = $(`&lt;div id=&quot;html_8624a219fdda6abe0f2f90e4905f2419&quot; style=&quot;width: 100.0%; height: 100.0%;&quot;&gt;Cambodia&lt;/div&gt;`)[0];\n",
       "            popup_09e2046b9ca005ddae7f743819ccac4a.setContent(html_8624a219fdda6abe0f2f90e4905f2419);\n",
       "        \n",
       "\n",
       "        circle_marker_b4503950ef280b0308a2f7df089c9d02.bindPopup(popup_09e2046b9ca005ddae7f743819ccac4a)\n",
       "        ;\n",
       "\n",
       "        \n",
       "    \n",
       "    \n",
       "            var circle_marker_8639197247580fc1261267e28b6c4f7e = L.circleMarker(\n",
       "                [18.0, 105.0],\n",
       "                {&quot;bubblingMouseEvents&quot;: true, &quot;color&quot;: &quot;#3388ff&quot;, &quot;dashArray&quot;: null, &quot;dashOffset&quot;: null, &quot;fill&quot;: true, &quot;fillColor&quot;: &quot;red&quot;, &quot;fillOpacity&quot;: 0.2, &quot;fillRule&quot;: &quot;evenodd&quot;, &quot;lineCap&quot;: &quot;round&quot;, &quot;lineJoin&quot;: &quot;round&quot;, &quot;opacity&quot;: 1.0, &quot;radius&quot;: 7.758371982276796, &quot;stroke&quot;: true, &quot;weight&quot;: 3}\n",
       "            ).addTo(map_4179193c6e3cc2207ead62c85e51c2d2);\n",
       "        \n",
       "    \n",
       "        var popup_c299f46b67dbf1fbeff8f3946104b6ad = L.popup({&quot;maxWidth&quot;: &quot;100%&quot;});\n",
       "\n",
       "        \n",
       "            var html_6219fe38e50f39efcc857d5641fcbd6d = $(`&lt;div id=&quot;html_6219fe38e50f39efcc857d5641fcbd6d&quot; style=&quot;width: 100.0%; height: 100.0%;&quot;&gt;Lao&lt;/div&gt;`)[0];\n",
       "            popup_c299f46b67dbf1fbeff8f3946104b6ad.setContent(html_6219fe38e50f39efcc857d5641fcbd6d);\n",
       "        \n",
       "\n",
       "        circle_marker_8639197247580fc1261267e28b6c4f7e.bindPopup(popup_c299f46b67dbf1fbeff8f3946104b6ad)\n",
       "        ;\n",
       "\n",
       "        \n",
       "    \n",
       "    \n",
       "            var circle_marker_54b67121983d8066d1aeb8bbb4131efb = L.circleMarker(\n",
       "                [6.5, -9.5],\n",
       "                {&quot;bubblingMouseEvents&quot;: true, &quot;color&quot;: &quot;#3388ff&quot;, &quot;dashArray&quot;: null, &quot;dashOffset&quot;: null, &quot;fill&quot;: true, &quot;fillColor&quot;: &quot;blue&quot;, &quot;fillOpacity&quot;: 0.2, &quot;fillRule&quot;: &quot;evenodd&quot;, &quot;lineCap&quot;: &quot;round&quot;, &quot;lineJoin&quot;: &quot;round&quot;, &quot;opacity&quot;: 1.0, &quot;radius&quot;: 10.185772240421114, &quot;stroke&quot;: true, &quot;weight&quot;: 3}\n",
       "            ).addTo(map_4179193c6e3cc2207ead62c85e51c2d2);\n",
       "        \n",
       "    \n",
       "        var popup_6654c9a49de67868a980a1aa42bb2db9 = L.popup({&quot;maxWidth&quot;: &quot;100%&quot;});\n",
       "\n",
       "        \n",
       "            var html_a103ab1ce3432d45e57ddc8ec7024e7d = $(`&lt;div id=&quot;html_a103ab1ce3432d45e57ddc8ec7024e7d&quot; style=&quot;width: 100.0%; height: 100.0%;&quot;&gt;Liberia&lt;/div&gt;`)[0];\n",
       "            popup_6654c9a49de67868a980a1aa42bb2db9.setContent(html_a103ab1ce3432d45e57ddc8ec7024e7d);\n",
       "        \n",
       "\n",
       "        circle_marker_54b67121983d8066d1aeb8bbb4131efb.bindPopup(popup_6654c9a49de67868a980a1aa42bb2db9)\n",
       "        ;\n",
       "\n",
       "        \n",
       "    \n",
       "    \n",
       "            var circle_marker_f36e50c593e7fabed75edfb84fda9f98 = L.circleMarker(\n",
       "                [13.88333, -60.96667],\n",
       "                {&quot;bubblingMouseEvents&quot;: true, &quot;color&quot;: &quot;#3388ff&quot;, &quot;dashArray&quot;: null, &quot;dashOffset&quot;: null, &quot;fill&quot;: true, &quot;fillColor&quot;: &quot;green&quot;, &quot;fillOpacity&quot;: 0.2, &quot;fillRule&quot;: &quot;evenodd&quot;, &quot;lineCap&quot;: &quot;round&quot;, &quot;lineJoin&quot;: &quot;round&quot;, &quot;opacity&quot;: 1.0, &quot;radius&quot;: 1.0777350206264305, &quot;stroke&quot;: true, &quot;weight&quot;: 3}\n",
       "            ).addTo(map_4179193c6e3cc2207ead62c85e51c2d2);\n",
       "        \n",
       "    \n",
       "        var popup_cea69b11269c670d99881bc072a5c5d1 = L.popup({&quot;maxWidth&quot;: &quot;100%&quot;});\n",
       "\n",
       "        \n",
       "            var html_03b9d1b9643ee75d4dfd9a563c37857e = $(`&lt;div id=&quot;html_03b9d1b9643ee75d4dfd9a563c37857e&quot; style=&quot;width: 100.0%; height: 100.0%;&quot;&gt;St. Lucia&lt;/div&gt;`)[0];\n",
       "            popup_cea69b11269c670d99881bc072a5c5d1.setContent(html_03b9d1b9643ee75d4dfd9a563c37857e);\n",
       "        \n",
       "\n",
       "        circle_marker_f36e50c593e7fabed75edfb84fda9f98.bindPopup(popup_cea69b11269c670d99881bc072a5c5d1)\n",
       "        ;\n",
       "\n",
       "        \n",
       "    \n",
       "    \n",
       "            var circle_marker_a3293ea081719a086dc7753ee5d8c34d = L.circleMarker(\n",
       "                [7.75, 80.75],\n",
       "                {&quot;bubblingMouseEvents&quot;: true, &quot;color&quot;: &quot;#3388ff&quot;, &quot;dashArray&quot;: null, &quot;dashOffset&quot;: null, &quot;fill&quot;: true, &quot;fillColor&quot;: &quot;red&quot;, &quot;fillOpacity&quot;: 0.2, &quot;fillRule&quot;: &quot;evenodd&quot;, &quot;lineCap&quot;: &quot;round&quot;, &quot;lineJoin&quot;: &quot;round&quot;, &quot;opacity&quot;: 1.0, &quot;radius&quot;: 5.148541404016821, &quot;stroke&quot;: true, &quot;weight&quot;: 3}\n",
       "            ).addTo(map_4179193c6e3cc2207ead62c85e51c2d2);\n",
       "        \n",
       "    \n",
       "        var popup_020977baf1972b492d85a8c713536db9 = L.popup({&quot;maxWidth&quot;: &quot;100%&quot;});\n",
       "\n",
       "        \n",
       "            var html_796badf0a992f6c2b54d3b186c9e3161 = $(`&lt;div id=&quot;html_796badf0a992f6c2b54d3b186c9e3161&quot; style=&quot;width: 100.0%; height: 100.0%;&quot;&gt;Sri Lanka&lt;/div&gt;`)[0];\n",
       "            popup_020977baf1972b492d85a8c713536db9.setContent(html_796badf0a992f6c2b54d3b186c9e3161);\n",
       "        \n",
       "\n",
       "        circle_marker_a3293ea081719a086dc7753ee5d8c34d.bindPopup(popup_020977baf1972b492d85a8c713536db9)\n",
       "        ;\n",
       "\n",
       "        \n",
       "    \n",
       "    \n",
       "            var circle_marker_0afdb446ed46e6dee476d74586ddbc1f = L.circleMarker(\n",
       "                [-29.5, 28.25],\n",
       "                {&quot;bubblingMouseEvents&quot;: true, &quot;color&quot;: &quot;#3388ff&quot;, &quot;dashArray&quot;: null, &quot;dashOffset&quot;: null, &quot;fill&quot;: true, &quot;fillColor&quot;: &quot;blue&quot;, &quot;fillOpacity&quot;: 0.2, &quot;fillRule&quot;: &quot;evenodd&quot;, &quot;lineCap&quot;: &quot;round&quot;, &quot;lineJoin&quot;: &quot;round&quot;, &quot;opacity&quot;: 1.0, &quot;radius&quot;: 5.97591567065859, &quot;stroke&quot;: true, &quot;weight&quot;: 3}\n",
       "            ).addTo(map_4179193c6e3cc2207ead62c85e51c2d2);\n",
       "        \n",
       "    \n",
       "        var popup_23481ff28ddd53a2d242fa134e6c9835 = L.popup({&quot;maxWidth&quot;: &quot;100%&quot;});\n",
       "\n",
       "        \n",
       "            var html_a084bc215b3d478f2e05e7638fc832c9 = $(`&lt;div id=&quot;html_a084bc215b3d478f2e05e7638fc832c9&quot; style=&quot;width: 100.0%; height: 100.0%;&quot;&gt;Lesotho&lt;/div&gt;`)[0];\n",
       "            popup_23481ff28ddd53a2d242fa134e6c9835.setContent(html_a084bc215b3d478f2e05e7638fc832c9);\n",
       "        \n",
       "\n",
       "        circle_marker_0afdb446ed46e6dee476d74586ddbc1f.bindPopup(popup_23481ff28ddd53a2d242fa134e6c9835)\n",
       "        ;\n",
       "\n",
       "        \n",
       "    \n",
       "    \n",
       "            var circle_marker_5e86963d8ddebd5a477fa4b4cb7a7f80 = L.circleMarker(\n",
       "                [55.41667, 24.0],\n",
       "                {&quot;bubblingMouseEvents&quot;: true, &quot;color&quot;: &quot;#3388ff&quot;, &quot;dashArray&quot;: null, &quot;dashOffset&quot;: null, &quot;fill&quot;: true, &quot;fillColor&quot;: &quot;black&quot;, &quot;fillOpacity&quot;: 0.2, &quot;fillRule&quot;: &quot;evenodd&quot;, &quot;lineCap&quot;: &quot;round&quot;, &quot;lineJoin&quot;: &quot;round&quot;, &quot;opacity&quot;: 1.0, &quot;radius&quot;: 0.9084678711420302, &quot;stroke&quot;: true, &quot;weight&quot;: 3}\n",
       "            ).addTo(map_4179193c6e3cc2207ead62c85e51c2d2);\n",
       "        \n",
       "    \n",
       "        var popup_b0e4060048b170d96e29c811d4c71b36 = L.popup({&quot;maxWidth&quot;: &quot;100%&quot;});\n",
       "\n",
       "        \n",
       "            var html_c8eceba676c60d04836a70edfadb1276 = $(`&lt;div id=&quot;html_c8eceba676c60d04836a70edfadb1276&quot; style=&quot;width: 100.0%; height: 100.0%;&quot;&gt;Lithuania&lt;/div&gt;`)[0];\n",
       "            popup_b0e4060048b170d96e29c811d4c71b36.setContent(html_c8eceba676c60d04836a70edfadb1276);\n",
       "        \n",
       "\n",
       "        circle_marker_5e86963d8ddebd5a477fa4b4cb7a7f80.bindPopup(popup_b0e4060048b170d96e29c811d4c71b36)\n",
       "        ;\n",
       "\n",
       "        \n",
       "    \n",
       "    \n",
       "            var circle_marker_52c300449880231a54d781a2babedec8 = L.circleMarker(\n",
       "                [57.0, 25.0],\n",
       "                {&quot;bubblingMouseEvents&quot;: true, &quot;color&quot;: &quot;#3388ff&quot;, &quot;dashArray&quot;: null, &quot;dashOffset&quot;: null, &quot;fill&quot;: true, &quot;fillColor&quot;: &quot;black&quot;, &quot;fillOpacity&quot;: 0.2, &quot;fillRule&quot;: &quot;evenodd&quot;, &quot;lineCap&quot;: &quot;round&quot;, &quot;lineJoin&quot;: &quot;round&quot;, &quot;opacity&quot;: 1.0, &quot;radius&quot;: 0.8495129039372447, &quot;stroke&quot;: true, &quot;weight&quot;: 3}\n",
       "            ).addTo(map_4179193c6e3cc2207ead62c85e51c2d2);\n",
       "        \n",
       "    \n",
       "        var popup_69918a435a3ce57bf469df7df39b35d4 = L.popup({&quot;maxWidth&quot;: &quot;100%&quot;});\n",
       "\n",
       "        \n",
       "            var html_3a452b6cc56367b8d92dd112d9e7a498 = $(`&lt;div id=&quot;html_3a452b6cc56367b8d92dd112d9e7a498&quot; style=&quot;width: 100.0%; height: 100.0%;&quot;&gt;Latvia&lt;/div&gt;`)[0];\n",
       "            popup_69918a435a3ce57bf469df7df39b35d4.setContent(html_3a452b6cc56367b8d92dd112d9e7a498);\n",
       "        \n",
       "\n",
       "        circle_marker_52c300449880231a54d781a2babedec8.bindPopup(popup_69918a435a3ce57bf469df7df39b35d4)\n",
       "        ;\n",
       "\n",
       "        \n",
       "    \n",
       "    \n",
       "            var circle_marker_2d9d94b57e97e1cc63d1358189dc5865 = L.circleMarker(\n",
       "                [32.0, -6.0],\n",
       "                {&quot;bubblingMouseEvents&quot;: true, &quot;color&quot;: &quot;#3388ff&quot;, &quot;dashArray&quot;: null, &quot;dashOffset&quot;: null, &quot;fill&quot;: true, &quot;fillColor&quot;: &quot;blue&quot;, &quot;fillOpacity&quot;: 0.2, &quot;fillRule&quot;: &quot;evenodd&quot;, &quot;lineCap&quot;: &quot;round&quot;, &quot;lineJoin&quot;: &quot;round&quot;, &quot;opacity&quot;: 1.0, &quot;radius&quot;: 5.143803409376387, &quot;stroke&quot;: true, &quot;weight&quot;: 3}\n",
       "            ).addTo(map_4179193c6e3cc2207ead62c85e51c2d2);\n",
       "        \n",
       "    \n",
       "        var popup_d582264b9fe706256a409ccedb358d76 = L.popup({&quot;maxWidth&quot;: &quot;100%&quot;});\n",
       "\n",
       "        \n",
       "            var html_faa207fd794af34fe69f0c30ffe7c4b4 = $(`&lt;div id=&quot;html_faa207fd794af34fe69f0c30ffe7c4b4&quot; style=&quot;width: 100.0%; height: 100.0%;&quot;&gt;Morocco&lt;/div&gt;`)[0];\n",
       "            popup_d582264b9fe706256a409ccedb358d76.setContent(html_faa207fd794af34fe69f0c30ffe7c4b4);\n",
       "        \n",
       "\n",
       "        circle_marker_2d9d94b57e97e1cc63d1358189dc5865.bindPopup(popup_d582264b9fe706256a409ccedb358d76)\n",
       "        ;\n",
       "\n",
       "        \n",
       "    \n",
       "    \n",
       "            var circle_marker_ba5458c905769ac21932f9ba140f6595 = L.circleMarker(\n",
       "                [47.25, 28.58333],\n",
       "                {&quot;bubblingMouseEvents&quot;: true, &quot;color&quot;: &quot;#3388ff&quot;, &quot;dashArray&quot;: null, &quot;dashOffset&quot;: null, &quot;fill&quot;: true, &quot;fillColor&quot;: &quot;black&quot;, &quot;fillOpacity&quot;: 0.2, &quot;fillRule&quot;: &quot;evenodd&quot;, &quot;lineCap&quot;: &quot;round&quot;, &quot;lineJoin&quot;: &quot;round&quot;, &quot;opacity&quot;: 1.0, &quot;radius&quot;: 0.5469439011777409, &quot;stroke&quot;: true, &quot;weight&quot;: 3}\n",
       "            ).addTo(map_4179193c6e3cc2207ead62c85e51c2d2);\n",
       "        \n",
       "    \n",
       "        var popup_cadaaf81eb2fca688ff5c3ae6fb2aab6 = L.popup({&quot;maxWidth&quot;: &quot;100%&quot;});\n",
       "\n",
       "        \n",
       "            var html_d4ef483005ba9f068f3212baaabb144e = $(`&lt;div id=&quot;html_d4ef483005ba9f068f3212baaabb144e&quot; style=&quot;width: 100.0%; height: 100.0%;&quot;&gt;Moldova&lt;/div&gt;`)[0];\n",
       "            popup_cadaaf81eb2fca688ff5c3ae6fb2aab6.setContent(html_d4ef483005ba9f068f3212baaabb144e);\n",
       "        \n",
       "\n",
       "        circle_marker_ba5458c905769ac21932f9ba140f6595.bindPopup(popup_cadaaf81eb2fca688ff5c3ae6fb2aab6)\n",
       "        ;\n",
       "\n",
       "        \n",
       "    \n",
       "    \n",
       "            var circle_marker_e887c8560e263a69bb07b018f564df53 = L.circleMarker(\n",
       "                [-20.0, 47.0],\n",
       "                {&quot;bubblingMouseEvents&quot;: true, &quot;color&quot;: &quot;#3388ff&quot;, &quot;dashArray&quot;: null, &quot;dashOffset&quot;: null, &quot;fill&quot;: true, &quot;fillColor&quot;: &quot;blue&quot;, &quot;fillOpacity&quot;: 0.2, &quot;fillRule&quot;: &quot;evenodd&quot;, &quot;lineCap&quot;: &quot;round&quot;, &quot;lineJoin&quot;: &quot;round&quot;, &quot;opacity&quot;: 1.0, &quot;radius&quot;: 24.295318258386423, &quot;stroke&quot;: true, &quot;weight&quot;: 3}\n",
       "            ).addTo(map_4179193c6e3cc2207ead62c85e51c2d2);\n",
       "        \n",
       "    \n",
       "        var popup_313740349f5c7a73a13c636084f16b09 = L.popup({&quot;maxWidth&quot;: &quot;100%&quot;});\n",
       "\n",
       "        \n",
       "            var html_51978369447d7eea42c4f6b3b6d46217 = $(`&lt;div id=&quot;html_51978369447d7eea42c4f6b3b6d46217&quot; style=&quot;width: 100.0%; height: 100.0%;&quot;&gt;Madagascar&lt;/div&gt;`)[0];\n",
       "            popup_313740349f5c7a73a13c636084f16b09.setContent(html_51978369447d7eea42c4f6b3b6d46217);\n",
       "        \n",
       "\n",
       "        circle_marker_e887c8560e263a69bb07b018f564df53.bindPopup(popup_313740349f5c7a73a13c636084f16b09)\n",
       "        ;\n",
       "\n",
       "        \n",
       "    \n",
       "    \n",
       "            var circle_marker_4fee8ee720a7a31b9a7da53f2dc12598 = L.circleMarker(\n",
       "                [3.2, 73.0],\n",
       "                {&quot;bubblingMouseEvents&quot;: true, &quot;color&quot;: &quot;#3388ff&quot;, &quot;dashArray&quot;: null, &quot;dashOffset&quot;: null, &quot;fill&quot;: true, &quot;fillColor&quot;: &quot;red&quot;, &quot;fillOpacity&quot;: 0.2, &quot;fillRule&quot;: &quot;evenodd&quot;, &quot;lineCap&quot;: &quot;round&quot;, &quot;lineJoin&quot;: &quot;round&quot;, &quot;opacity&quot;: 1.0, &quot;radius&quot;: 0.4150917264789626, &quot;stroke&quot;: true, &quot;weight&quot;: 3}\n",
       "            ).addTo(map_4179193c6e3cc2207ead62c85e51c2d2);\n",
       "        \n",
       "    \n",
       "        var popup_5312efc04613316659ebf250e00dbfd4 = L.popup({&quot;maxWidth&quot;: &quot;100%&quot;});\n",
       "\n",
       "        \n",
       "            var html_59dc72c82c292f21176816ef4a8abac3 = $(`&lt;div id=&quot;html_59dc72c82c292f21176816ef4a8abac3&quot; style=&quot;width: 100.0%; height: 100.0%;&quot;&gt;Maldives&lt;/div&gt;`)[0];\n",
       "            popup_5312efc04613316659ebf250e00dbfd4.setContent(html_59dc72c82c292f21176816ef4a8abac3);\n",
       "        \n",
       "\n",
       "        circle_marker_4fee8ee720a7a31b9a7da53f2dc12598.bindPopup(popup_5312efc04613316659ebf250e00dbfd4)\n",
       "        ;\n",
       "\n",
       "        \n",
       "    \n",
       "    \n",
       "            var circle_marker_71ae0eafb9db32295bc788212daf3c95 = L.circleMarker(\n",
       "                [19.42847, -99.12766],\n",
       "                {&quot;bubblingMouseEvents&quot;: true, &quot;color&quot;: &quot;#3388ff&quot;, &quot;dashArray&quot;: null, &quot;dashOffset&quot;: null, &quot;fill&quot;: true, &quot;fillColor&quot;: &quot;green&quot;, &quot;fillOpacity&quot;: 0.2, &quot;fillRule&quot;: &quot;evenodd&quot;, &quot;lineCap&quot;: &quot;round&quot;, &quot;lineJoin&quot;: &quot;round&quot;, &quot;opacity&quot;: 1.0, &quot;radius&quot;: 6.116077917408222, &quot;stroke&quot;: true, &quot;weight&quot;: 3}\n",
       "            ).addTo(map_4179193c6e3cc2207ead62c85e51c2d2);\n",
       "        \n",
       "    \n",
       "        var popup_9b6011bd4b02659363d5becc9eb79354 = L.popup({&quot;maxWidth&quot;: &quot;100%&quot;});\n",
       "\n",
       "        \n",
       "            var html_bd62826f17bb9f4f6c01537fdf60affd = $(`&lt;div id=&quot;html_bd62826f17bb9f4f6c01537fdf60affd&quot; style=&quot;width: 100.0%; height: 100.0%;&quot;&gt;Mexico&lt;/div&gt;`)[0];\n",
       "            popup_9b6011bd4b02659363d5becc9eb79354.setContent(html_bd62826f17bb9f4f6c01537fdf60affd);\n",
       "        \n",
       "\n",
       "        circle_marker_71ae0eafb9db32295bc788212daf3c95.bindPopup(popup_9b6011bd4b02659363d5becc9eb79354)\n",
       "        ;\n",
       "\n",
       "        \n",
       "    \n",
       "    \n",
       "            var circle_marker_d83dec2d1dd143fd1b7bfa8280a26cf5 = L.circleMarker(\n",
       "                [41.66667, 21.75],\n",
       "                {&quot;bubblingMouseEvents&quot;: true, &quot;color&quot;: &quot;#3388ff&quot;, &quot;dashArray&quot;: null, &quot;dashOffset&quot;: null, &quot;fill&quot;: true, &quot;fillColor&quot;: &quot;black&quot;, &quot;fillOpacity&quot;: 0.2, &quot;fillRule&quot;: &quot;evenodd&quot;, &quot;lineCap&quot;: &quot;round&quot;, &quot;lineJoin&quot;: &quot;round&quot;, &quot;opacity&quot;: 1.0, &quot;radius&quot;: 0.42959989759002715, &quot;stroke&quot;: true, &quot;weight&quot;: 3}\n",
       "            ).addTo(map_4179193c6e3cc2207ead62c85e51c2d2);\n",
       "        \n",
       "    \n",
       "        var popup_d0fd7ca3f86dbf0315c7866934435bd4 = L.popup({&quot;maxWidth&quot;: &quot;100%&quot;});\n",
       "\n",
       "        \n",
       "            var html_39b5dfeab24dc09a543c0fbb068de0c6 = $(`&lt;div id=&quot;html_39b5dfeab24dc09a543c0fbb068de0c6&quot; style=&quot;width: 100.0%; height: 100.0%;&quot;&gt;North Macedonia&lt;/div&gt;`)[0];\n",
       "            popup_d0fd7ca3f86dbf0315c7866934435bd4.setContent(html_39b5dfeab24dc09a543c0fbb068de0c6);\n",
       "        \n",
       "\n",
       "        circle_marker_d83dec2d1dd143fd1b7bfa8280a26cf5.bindPopup(popup_d0fd7ca3f86dbf0315c7866934435bd4)\n",
       "        ;\n",
       "\n",
       "        \n",
       "    \n",
       "    \n",
       "            var circle_marker_867e1b809fda1003c215d24f8ac598a2 = L.circleMarker(\n",
       "                [18.0, -2.0],\n",
       "                {&quot;bubblingMouseEvents&quot;: true, &quot;color&quot;: &quot;#3388ff&quot;, &quot;dashArray&quot;: null, &quot;dashOffset&quot;: null, &quot;fill&quot;: true, &quot;fillColor&quot;: &quot;blue&quot;, &quot;fillOpacity&quot;: 0.2, &quot;fillRule&quot;: &quot;evenodd&quot;, &quot;lineCap&quot;: &quot;round&quot;, &quot;lineJoin&quot;: &quot;round&quot;, &quot;opacity&quot;: 1.0, &quot;radius&quot;: 15.570484664876235, &quot;stroke&quot;: true, &quot;weight&quot;: 3}\n",
       "            ).addTo(map_4179193c6e3cc2207ead62c85e51c2d2);\n",
       "        \n",
       "    \n",
       "        var popup_3d59a75f4918268b8d88765b76599275 = L.popup({&quot;maxWidth&quot;: &quot;100%&quot;});\n",
       "\n",
       "        \n",
       "            var html_198a3edfcbef101b1bb809d936711ddf = $(`&lt;div id=&quot;html_198a3edfcbef101b1bb809d936711ddf&quot; style=&quot;width: 100.0%; height: 100.0%;&quot;&gt;Mali&lt;/div&gt;`)[0];\n",
       "            popup_3d59a75f4918268b8d88765b76599275.setContent(html_198a3edfcbef101b1bb809d936711ddf);\n",
       "        \n",
       "\n",
       "        circle_marker_867e1b809fda1003c215d24f8ac598a2.bindPopup(popup_3d59a75f4918268b8d88765b76599275)\n",
       "        ;\n",
       "\n",
       "        \n",
       "    \n",
       "    \n",
       "            var circle_marker_f5e37a97907562e32a77fa74aef0388a = L.circleMarker(\n",
       "                [42.75, 19.25],\n",
       "                {&quot;bubblingMouseEvents&quot;: true, &quot;color&quot;: &quot;#3388ff&quot;, &quot;dashArray&quot;: null, &quot;dashOffset&quot;: null, &quot;fill&quot;: true, &quot;fillColor&quot;: &quot;black&quot;, &quot;fillOpacity&quot;: 0.2, &quot;fillRule&quot;: &quot;evenodd&quot;, &quot;lineCap&quot;: &quot;round&quot;, &quot;lineJoin&quot;: &quot;round&quot;, &quot;opacity&quot;: 1.0, &quot;radius&quot;: 0.2042802635564556, &quot;stroke&quot;: true, &quot;weight&quot;: 3}\n",
       "            ).addTo(map_4179193c6e3cc2207ead62c85e51c2d2);\n",
       "        \n",
       "    \n",
       "        var popup_98751381556dd0914baa37f29109c38e = L.popup({&quot;maxWidth&quot;: &quot;100%&quot;});\n",
       "\n",
       "        \n",
       "            var html_dbe029d60814cc7221fae279912e20e3 = $(`&lt;div id=&quot;html_dbe029d60814cc7221fae279912e20e3&quot; style=&quot;width: 100.0%; height: 100.0%;&quot;&gt;Montenegro&lt;/div&gt;`)[0];\n",
       "            popup_98751381556dd0914baa37f29109c38e.setContent(html_dbe029d60814cc7221fae279912e20e3);\n",
       "        \n",
       "\n",
       "        circle_marker_f5e37a97907562e32a77fa74aef0388a.bindPopup(popup_98751381556dd0914baa37f29109c38e)\n",
       "        ;\n",
       "\n",
       "        \n",
       "    \n",
       "    \n",
       "            var circle_marker_34bc903d2ebe958aab4a51901d2dcdf6 = L.circleMarker(\n",
       "                [-18.25, 35.0],\n",
       "                {&quot;bubblingMouseEvents&quot;: true, &quot;color&quot;: &quot;#3388ff&quot;, &quot;dashArray&quot;: null, &quot;dashOffset&quot;: null, &quot;fill&quot;: true, &quot;fillColor&quot;: &quot;blue&quot;, &quot;fillOpacity&quot;: 0.2, &quot;fillRule&quot;: &quot;evenodd&quot;, &quot;lineCap&quot;: &quot;round&quot;, &quot;lineJoin&quot;: &quot;round&quot;, &quot;opacity&quot;: 1.0, &quot;radius&quot;: 21.32458555367499, &quot;stroke&quot;: true, &quot;weight&quot;: 3}\n",
       "            ).addTo(map_4179193c6e3cc2207ead62c85e51c2d2);\n",
       "        \n",
       "    \n",
       "        var popup_7dbcb78ea9be6ebbfb042645bbc3cfd7 = L.popup({&quot;maxWidth&quot;: &quot;100%&quot;});\n",
       "\n",
       "        \n",
       "            var html_5a67953bbc9cd8b5a704d60ddb8b77cc = $(`&lt;div id=&quot;html_5a67953bbc9cd8b5a704d60ddb8b77cc&quot; style=&quot;width: 100.0%; height: 100.0%;&quot;&gt;Mozambique&lt;/div&gt;`)[0];\n",
       "            popup_7dbcb78ea9be6ebbfb042645bbc3cfd7.setContent(html_5a67953bbc9cd8b5a704d60ddb8b77cc);\n",
       "        \n",
       "\n",
       "        circle_marker_34bc903d2ebe958aab4a51901d2dcdf6.bindPopup(popup_7dbcb78ea9be6ebbfb042645bbc3cfd7)\n",
       "        ;\n",
       "\n",
       "        \n",
       "    \n",
       "    \n",
       "            var circle_marker_85369292aa5bd0cdfc2559f5309bcb9b = L.circleMarker(\n",
       "                [20.25, -10.5],\n",
       "                {&quot;bubblingMouseEvents&quot;: true, &quot;color&quot;: &quot;#3388ff&quot;, &quot;dashArray&quot;: null, &quot;dashOffset&quot;: null, &quot;fill&quot;: true, &quot;fillColor&quot;: &quot;blue&quot;, &quot;fillOpacity&quot;: 0.2, &quot;fillRule&quot;: &quot;evenodd&quot;, &quot;lineCap&quot;: &quot;round&quot;, &quot;lineJoin&quot;: &quot;round&quot;, &quot;opacity&quot;: 1.0, &quot;radius&quot;: 5.104874523724298, &quot;stroke&quot;: true, &quot;weight&quot;: 3}\n",
       "            ).addTo(map_4179193c6e3cc2207ead62c85e51c2d2);\n",
       "        \n",
       "    \n",
       "        var popup_8aa99f0a68e58712ca8a28b31d73b3d4 = L.popup({&quot;maxWidth&quot;: &quot;100%&quot;});\n",
       "\n",
       "        \n",
       "            var html_85691c3a5dfc73fb5592c97338d477e8 = $(`&lt;div id=&quot;html_85691c3a5dfc73fb5592c97338d477e8&quot; style=&quot;width: 100.0%; height: 100.0%;&quot;&gt;Mauritania&lt;/div&gt;`)[0];\n",
       "            popup_8aa99f0a68e58712ca8a28b31d73b3d4.setContent(html_85691c3a5dfc73fb5592c97338d477e8);\n",
       "        \n",
       "\n",
       "        circle_marker_85369292aa5bd0cdfc2559f5309bcb9b.bindPopup(popup_8aa99f0a68e58712ca8a28b31d73b3d4)\n",
       "        ;\n",
       "\n",
       "        \n",
       "    \n",
       "    \n",
       "            var circle_marker_a1253c46a435cd2d44c619ac9548d68e = L.circleMarker(\n",
       "                [-13.5, 34.0],\n",
       "                {&quot;bubblingMouseEvents&quot;: true, &quot;color&quot;: &quot;#3388ff&quot;, &quot;dashArray&quot;: null, &quot;dashOffset&quot;: null, &quot;fill&quot;: true, &quot;fillColor&quot;: &quot;blue&quot;, &quot;fillOpacity&quot;: 0.2, &quot;fillRule&quot;: &quot;evenodd&quot;, &quot;lineCap&quot;: &quot;round&quot;, &quot;lineJoin&quot;: &quot;round&quot;, &quot;opacity&quot;: 1.0, &quot;radius&quot;: 18.27467628792681, &quot;stroke&quot;: true, &quot;weight&quot;: 3}\n",
       "            ).addTo(map_4179193c6e3cc2207ead62c85e51c2d2);\n",
       "        \n",
       "    \n",
       "        var popup_15adfa7978d64f7b4762e079c05dfc04 = L.popup({&quot;maxWidth&quot;: &quot;100%&quot;});\n",
       "\n",
       "        \n",
       "            var html_09f82c7739f094124c318123023ed6dc = $(`&lt;div id=&quot;html_09f82c7739f094124c318123023ed6dc&quot; style=&quot;width: 100.0%; height: 100.0%;&quot;&gt;Malawi&lt;/div&gt;`)[0];\n",
       "            popup_15adfa7978d64f7b4762e079c05dfc04.setContent(html_09f82c7739f094124c318123023ed6dc);\n",
       "        \n",
       "\n",
       "        circle_marker_a1253c46a435cd2d44c619ac9548d68e.bindPopup(popup_15adfa7978d64f7b4762e079c05dfc04)\n",
       "        ;\n",
       "\n",
       "        \n",
       "    \n",
       "    \n",
       "            var circle_marker_77765c354cafc39ad4406db6aff4e1ef = L.circleMarker(\n",
       "                [2.5, 112.5],\n",
       "                {&quot;bubblingMouseEvents&quot;: true, &quot;color&quot;: &quot;#3388ff&quot;, &quot;dashArray&quot;: null, &quot;dashOffset&quot;: null, &quot;fill&quot;: true, &quot;fillColor&quot;: &quot;red&quot;, &quot;fillOpacity&quot;: 0.2, &quot;fillRule&quot;: &quot;evenodd&quot;, &quot;lineCap&quot;: &quot;round&quot;, &quot;lineJoin&quot;: &quot;round&quot;, &quot;opacity&quot;: 1.0, &quot;stroke&quot;: true, &quot;weight&quot;: 3}\n",
       "            ).addTo(map_4179193c6e3cc2207ead62c85e51c2d2);\n",
       "        \n",
       "    \n",
       "        var popup_edd6117973be827fb339e911cf4b36d8 = L.popup({&quot;maxWidth&quot;: &quot;100%&quot;});\n",
       "\n",
       "        \n",
       "            var html_12ec6b7756571efd66d2f88aba0db0de = $(`&lt;div id=&quot;html_12ec6b7756571efd66d2f88aba0db0de&quot; style=&quot;width: 100.0%; height: 100.0%;&quot;&gt;Malaysia&lt;/div&gt;`)[0];\n",
       "            popup_edd6117973be827fb339e911cf4b36d8.setContent(html_12ec6b7756571efd66d2f88aba0db0de);\n",
       "        \n",
       "\n",
       "        circle_marker_77765c354cafc39ad4406db6aff4e1ef.bindPopup(popup_edd6117973be827fb339e911cf4b36d8)\n",
       "        ;\n",
       "\n",
       "        \n",
       "    \n",
       "    \n",
       "            var circle_marker_5142be5f0a715ec9aadd7df69c2dc34d = L.circleMarker(\n",
       "                [-22.0, 17.0],\n",
       "                {&quot;bubblingMouseEvents&quot;: true, &quot;color&quot;: &quot;#3388ff&quot;, &quot;dashArray&quot;: null, &quot;dashOffset&quot;: null, &quot;fill&quot;: true, &quot;fillColor&quot;: &quot;blue&quot;, &quot;fillOpacity&quot;: 0.2, &quot;fillRule&quot;: &quot;evenodd&quot;, &quot;lineCap&quot;: &quot;round&quot;, &quot;lineJoin&quot;: &quot;round&quot;, &quot;opacity&quot;: 1.0, &quot;radius&quot;: 3.9845687128006193, &quot;stroke&quot;: true, &quot;weight&quot;: 3}\n",
       "            ).addTo(map_4179193c6e3cc2207ead62c85e51c2d2);\n",
       "        \n",
       "    \n",
       "        var popup_856391dfa61507e8435a34538b0939fc = L.popup({&quot;maxWidth&quot;: &quot;100%&quot;});\n",
       "\n",
       "        \n",
       "            var html_cc436997748e7040f4f0acfbd1eeb92b = $(`&lt;div id=&quot;html_cc436997748e7040f4f0acfbd1eeb92b&quot; style=&quot;width: 100.0%; height: 100.0%;&quot;&gt;Namibia&lt;/div&gt;`)[0];\n",
       "            popup_856391dfa61507e8435a34538b0939fc.setContent(html_cc436997748e7040f4f0acfbd1eeb92b);\n",
       "        \n",
       "\n",
       "        circle_marker_5142be5f0a715ec9aadd7df69c2dc34d.bindPopup(popup_856391dfa61507e8435a34538b0939fc)\n",
       "        ;\n",
       "\n",
       "        \n",
       "    \n",
       "    \n",
       "            var circle_marker_e245f77e9b1fb578790189f1c2e87394 = L.circleMarker(\n",
       "                [18.0, 9.0],\n",
       "                {&quot;bubblingMouseEvents&quot;: true, &quot;color&quot;: &quot;#3388ff&quot;, &quot;dashArray&quot;: null, &quot;dashOffset&quot;: null, &quot;fill&quot;: true, &quot;fillColor&quot;: &quot;blue&quot;, &quot;fillOpacity&quot;: 0.2, &quot;fillRule&quot;: &quot;evenodd&quot;, &quot;lineCap&quot;: &quot;round&quot;, &quot;lineJoin&quot;: &quot;round&quot;, &quot;opacity&quot;: 1.0, &quot;radius&quot;: 14.624343601209656, &quot;stroke&quot;: true, &quot;weight&quot;: 3}\n",
       "            ).addTo(map_4179193c6e3cc2207ead62c85e51c2d2);\n",
       "        \n",
       "    \n",
       "        var popup_05b76fea6b262598a454d6c457f5930c = L.popup({&quot;maxWidth&quot;: &quot;100%&quot;});\n",
       "\n",
       "        \n",
       "            var html_22a6343a71091939f1d5958937186120 = $(`&lt;div id=&quot;html_22a6343a71091939f1d5958937186120&quot; style=&quot;width: 100.0%; height: 100.0%;&quot;&gt;Niger&lt;/div&gt;`)[0];\n",
       "            popup_05b76fea6b262598a454d6c457f5930c.setContent(html_22a6343a71091939f1d5958937186120);\n",
       "        \n",
       "\n",
       "        circle_marker_e245f77e9b1fb578790189f1c2e87394.bindPopup(popup_05b76fea6b262598a454d6c457f5930c)\n",
       "        ;\n",
       "\n",
       "        \n",
       "    \n",
       "    \n",
       "            var circle_marker_8bd4275e79e6b2c30a88d458fb50e013 = L.circleMarker(\n",
       "                [10.0, 8.0],\n",
       "                {&quot;bubblingMouseEvents&quot;: true, &quot;color&quot;: &quot;#3388ff&quot;, &quot;dashArray&quot;: null, &quot;dashOffset&quot;: null, &quot;fill&quot;: true, &quot;fillColor&quot;: &quot;blue&quot;, &quot;fillOpacity&quot;: 0.2, &quot;fillRule&quot;: &quot;evenodd&quot;, &quot;lineCap&quot;: &quot;round&quot;, &quot;lineJoin&quot;: &quot;round&quot;, &quot;opacity&quot;: 1.0, &quot;radius&quot;: 55.94290002503713, &quot;stroke&quot;: true, &quot;weight&quot;: 3}\n",
       "            ).addTo(map_4179193c6e3cc2207ead62c85e51c2d2);\n",
       "        \n",
       "    \n",
       "        var popup_daac9b335364e2972147d3e4200ce8b9 = L.popup({&quot;maxWidth&quot;: &quot;100%&quot;});\n",
       "\n",
       "        \n",
       "            var html_b97f90c64d34f05d51ef22c69a9b2976 = $(`&lt;div id=&quot;html_b97f90c64d34f05d51ef22c69a9b2976&quot; style=&quot;width: 100.0%; height: 100.0%;&quot;&gt;Nigeria&lt;/div&gt;`)[0];\n",
       "            popup_daac9b335364e2972147d3e4200ce8b9.setContent(html_b97f90c64d34f05d51ef22c69a9b2976);\n",
       "        \n",
       "\n",
       "        circle_marker_8bd4275e79e6b2c30a88d458fb50e013.bindPopup(popup_daac9b335364e2972147d3e4200ce8b9)\n",
       "        ;\n",
       "\n",
       "        \n",
       "    \n",
       "    \n",
       "            var circle_marker_cdbb501529518bbbb9efa3fd897050fc = L.circleMarker(\n",
       "                [13.0, -85.0],\n",
       "                {&quot;bubblingMouseEvents&quot;: true, &quot;color&quot;: &quot;#3388ff&quot;, &quot;dashArray&quot;: null, &quot;dashOffset&quot;: null, &quot;fill&quot;: true, &quot;fillColor&quot;: &quot;green&quot;, &quot;fillOpacity&quot;: 0.2, &quot;fillRule&quot;: &quot;evenodd&quot;, &quot;lineCap&quot;: &quot;round&quot;, &quot;lineJoin&quot;: &quot;round&quot;, &quot;opacity&quot;: 1.0, &quot;radius&quot;: 3.9789367881465885, &quot;stroke&quot;: true, &quot;weight&quot;: 3}\n",
       "            ).addTo(map_4179193c6e3cc2207ead62c85e51c2d2);\n",
       "        \n",
       "    \n",
       "        var popup_108d3ad6a9f2db7c84cbc26de225fbf3 = L.popup({&quot;maxWidth&quot;: &quot;100%&quot;});\n",
       "\n",
       "        \n",
       "            var html_7e79e6986cbb1d51908d62c73c667596 = $(`&lt;div id=&quot;html_7e79e6986cbb1d51908d62c73c667596&quot; style=&quot;width: 100.0%; height: 100.0%;&quot;&gt;Nicaragua&lt;/div&gt;`)[0];\n",
       "            popup_108d3ad6a9f2db7c84cbc26de225fbf3.setContent(html_7e79e6986cbb1d51908d62c73c667596);\n",
       "        \n",
       "\n",
       "        circle_marker_cdbb501529518bbbb9efa3fd897050fc.bindPopup(popup_108d3ad6a9f2db7c84cbc26de225fbf3)\n",
       "        ;\n",
       "\n",
       "        \n",
       "    \n",
       "    \n",
       "            var circle_marker_134507e5f4dcc6385dad41085a11da4e = L.circleMarker(\n",
       "                [52.25, 5.75],\n",
       "                {&quot;bubblingMouseEvents&quot;: true, &quot;color&quot;: &quot;#3388ff&quot;, &quot;dashArray&quot;: null, &quot;dashOffset&quot;: null, &quot;fill&quot;: true, &quot;fillColor&quot;: &quot;black&quot;, &quot;fillOpacity&quot;: 0.2, &quot;fillRule&quot;: &quot;evenodd&quot;, &quot;lineCap&quot;: &quot;round&quot;, &quot;lineJoin&quot;: &quot;round&quot;, &quot;opacity&quot;: 1.0, &quot;radius&quot;: 1.363308998513233, &quot;stroke&quot;: true, &quot;weight&quot;: 3}\n",
       "            ).addTo(map_4179193c6e3cc2207ead62c85e51c2d2);\n",
       "        \n",
       "    \n",
       "        var popup_15983ad2798cf4dff465038deb0f037d = L.popup({&quot;maxWidth&quot;: &quot;100%&quot;});\n",
       "\n",
       "        \n",
       "            var html_5a59b30e8921b6b01bc5dae69449f25d = $(`&lt;div id=&quot;html_5a59b30e8921b6b01bc5dae69449f25d&quot; style=&quot;width: 100.0%; height: 100.0%;&quot;&gt;Netherlands&lt;/div&gt;`)[0];\n",
       "            popup_15983ad2798cf4dff465038deb0f037d.setContent(html_5a59b30e8921b6b01bc5dae69449f25d);\n",
       "        \n",
       "\n",
       "        circle_marker_134507e5f4dcc6385dad41085a11da4e.bindPopup(popup_15983ad2798cf4dff465038deb0f037d)\n",
       "        ;\n",
       "\n",
       "        \n",
       "    \n",
       "    \n",
       "            var circle_marker_cbf5ad4aebf6af36cbf50c9c0325b3a5 = L.circleMarker(\n",
       "                [62.0, 10.0],\n",
       "                {&quot;bubblingMouseEvents&quot;: true, &quot;color&quot;: &quot;#3388ff&quot;, &quot;dashArray&quot;: null, &quot;dashOffset&quot;: null, &quot;fill&quot;: true, &quot;fillColor&quot;: &quot;black&quot;, &quot;fillOpacity&quot;: 0.2, &quot;fillRule&quot;: &quot;evenodd&quot;, &quot;lineCap&quot;: &quot;round&quot;, &quot;lineJoin&quot;: &quot;round&quot;, &quot;opacity&quot;: 1.0, &quot;radius&quot;: 1.0207778467534643, &quot;stroke&quot;: true, &quot;weight&quot;: 3}\n",
       "            ).addTo(map_4179193c6e3cc2207ead62c85e51c2d2);\n",
       "        \n",
       "    \n",
       "        var popup_3a5dc71cbac215693b1fa4457ad1619c = L.popup({&quot;maxWidth&quot;: &quot;100%&quot;});\n",
       "\n",
       "        \n",
       "            var html_3fb3a7e951b3008b47e05abc72cf2a94 = $(`&lt;div id=&quot;html_3fb3a7e951b3008b47e05abc72cf2a94&quot; style=&quot;width: 100.0%; height: 100.0%;&quot;&gt;Norway&lt;/div&gt;`)[0];\n",
       "            popup_3a5dc71cbac215693b1fa4457ad1619c.setContent(html_3fb3a7e951b3008b47e05abc72cf2a94);\n",
       "        \n",
       "\n",
       "        circle_marker_cbf5ad4aebf6af36cbf50c9c0325b3a5.bindPopup(popup_3a5dc71cbac215693b1fa4457ad1619c)\n",
       "        ;\n",
       "\n",
       "        \n",
       "    \n",
       "    \n",
       "            var circle_marker_ee26c58133087759f9332d974b09b44f = L.circleMarker(\n",
       "                [28.0, 84.0],\n",
       "                {&quot;bubblingMouseEvents&quot;: true, &quot;color&quot;: &quot;#3388ff&quot;, &quot;dashArray&quot;: null, &quot;dashOffset&quot;: null, &quot;fill&quot;: true, &quot;fillColor&quot;: &quot;red&quot;, &quot;fillOpacity&quot;: 0.2, &quot;fillRule&quot;: &quot;evenodd&quot;, &quot;lineCap&quot;: &quot;round&quot;, &quot;lineJoin&quot;: &quot;round&quot;, &quot;opacity&quot;: 1.0, &quot;radius&quot;: 14.287409177153314, &quot;stroke&quot;: true, &quot;weight&quot;: 3}\n",
       "            ).addTo(map_4179193c6e3cc2207ead62c85e51c2d2);\n",
       "        \n",
       "    \n",
       "        var popup_3905c52502d0c87703c57dba4763cbcf = L.popup({&quot;maxWidth&quot;: &quot;100%&quot;});\n",
       "\n",
       "        \n",
       "            var html_5e3c615b6db3608624a2f62e8f824919 = $(`&lt;div id=&quot;html_5e3c615b6db3608624a2f62e8f824919&quot; style=&quot;width: 100.0%; height: 100.0%;&quot;&gt;Nepal&lt;/div&gt;`)[0];\n",
       "            popup_3905c52502d0c87703c57dba4763cbcf.setContent(html_5e3c615b6db3608624a2f62e8f824919);\n",
       "        \n",
       "\n",
       "        circle_marker_ee26c58133087759f9332d974b09b44f.bindPopup(popup_3905c52502d0c87703c57dba4763cbcf)\n",
       "        ;\n",
       "\n",
       "        \n",
       "    \n",
       "    \n",
       "            var circle_marker_0f1cd67a28ea3a7ebf3f9d656846db2e = L.circleMarker(\n",
       "                [30.0, 70.0],\n",
       "                {&quot;bubblingMouseEvents&quot;: true, &quot;color&quot;: &quot;#3388ff&quot;, &quot;dashArray&quot;: null, &quot;dashOffset&quot;: null, &quot;fill&quot;: true, &quot;fillColor&quot;: &quot;red&quot;, &quot;fillOpacity&quot;: 0.2, &quot;fillRule&quot;: &quot;evenodd&quot;, &quot;lineCap&quot;: &quot;round&quot;, &quot;lineJoin&quot;: &quot;round&quot;, &quot;opacity&quot;: 1.0, &quot;radius&quot;: 26.974340020303398, &quot;stroke&quot;: true, &quot;weight&quot;: 3}\n",
       "            ).addTo(map_4179193c6e3cc2207ead62c85e51c2d2);\n",
       "        \n",
       "    \n",
       "        var popup_f8e4010e5105e4aa35275ba14fc15192 = L.popup({&quot;maxWidth&quot;: &quot;100%&quot;});\n",
       "\n",
       "        \n",
       "            var html_8eb90cbd69a6b1af9653ecd880d84f06 = $(`&lt;div id=&quot;html_8eb90cbd69a6b1af9653ecd880d84f06&quot; style=&quot;width: 100.0%; height: 100.0%;&quot;&gt;Pakistan&lt;/div&gt;`)[0];\n",
       "            popup_f8e4010e5105e4aa35275ba14fc15192.setContent(html_8eb90cbd69a6b1af9653ecd880d84f06);\n",
       "        \n",
       "\n",
       "        circle_marker_0f1cd67a28ea3a7ebf3f9d656846db2e.bindPopup(popup_f8e4010e5105e4aa35275ba14fc15192)\n",
       "        ;\n",
       "\n",
       "        \n",
       "    \n",
       "    \n",
       "            var circle_marker_9059c225df74c54b67fcba956c6af79c = L.circleMarker(\n",
       "                [8.9936, -79.51973],\n",
       "                {&quot;bubblingMouseEvents&quot;: true, &quot;color&quot;: &quot;#3388ff&quot;, &quot;dashArray&quot;: null, &quot;dashOffset&quot;: null, &quot;fill&quot;: true, &quot;fillColor&quot;: &quot;green&quot;, &quot;fillOpacity&quot;: 0.2, &quot;fillRule&quot;: &quot;evenodd&quot;, &quot;lineCap&quot;: &quot;round&quot;, &quot;lineJoin&quot;: &quot;round&quot;, &quot;opacity&quot;: 1.0, &quot;radius&quot;: 2.15090943062721, &quot;stroke&quot;: true, &quot;weight&quot;: 3}\n",
       "            ).addTo(map_4179193c6e3cc2207ead62c85e51c2d2);\n",
       "        \n",
       "    \n",
       "        var popup_a4e3e7d808f058d7606b4c6329dc5436 = L.popup({&quot;maxWidth&quot;: &quot;100%&quot;});\n",
       "\n",
       "        \n",
       "            var html_d8a2540133e4b89d25764530fd11146f = $(`&lt;div id=&quot;html_d8a2540133e4b89d25764530fd11146f&quot; style=&quot;width: 100.0%; height: 100.0%;&quot;&gt;Panama&lt;/div&gt;`)[0];\n",
       "            popup_a4e3e7d808f058d7606b4c6329dc5436.setContent(html_d8a2540133e4b89d25764530fd11146f);\n",
       "        \n",
       "\n",
       "        circle_marker_9059c225df74c54b67fcba956c6af79c.bindPopup(popup_a4e3e7d808f058d7606b4c6329dc5436)\n",
       "        ;\n",
       "\n",
       "        \n",
       "    \n",
       "    \n",
       "            var circle_marker_65bd2296a6ec53b8a90e12256c03a3a7 = L.circleMarker(\n",
       "                [-10.0, -75.25],\n",
       "                {&quot;bubblingMouseEvents&quot;: true, &quot;color&quot;: &quot;#3388ff&quot;, &quot;dashArray&quot;: null, &quot;dashOffset&quot;: null, &quot;fill&quot;: true, &quot;fillColor&quot;: &quot;green&quot;, &quot;fillOpacity&quot;: 0.2, &quot;fillRule&quot;: &quot;evenodd&quot;, &quot;lineCap&quot;: &quot;round&quot;, &quot;lineJoin&quot;: &quot;round&quot;, &quot;opacity&quot;: 1.0, &quot;radius&quot;: 5.167496139520397, &quot;stroke&quot;: true, &quot;weight&quot;: 3}\n",
       "            ).addTo(map_4179193c6e3cc2207ead62c85e51c2d2);\n",
       "        \n",
       "    \n",
       "        var popup_5cd1f370689b36de418708ce102d2b37 = L.popup({&quot;maxWidth&quot;: &quot;100%&quot;});\n",
       "\n",
       "        \n",
       "            var html_846aacec3a241f96ca6583b3742c94f6 = $(`&lt;div id=&quot;html_846aacec3a241f96ca6583b3742c94f6&quot; style=&quot;width: 100.0%; height: 100.0%;&quot;&gt;Peru&lt;/div&gt;`)[0];\n",
       "            popup_5cd1f370689b36de418708ce102d2b37.setContent(html_846aacec3a241f96ca6583b3742c94f6);\n",
       "        \n",
       "\n",
       "        circle_marker_65bd2296a6ec53b8a90e12256c03a3a7.bindPopup(popup_5cd1f370689b36de418708ce102d2b37)\n",
       "        ;\n",
       "\n",
       "        \n",
       "    \n",
       "    \n",
       "            var circle_marker_808f3e497e22430bc7d9e774e4274141 = L.circleMarker(\n",
       "                [13.0, 122.0],\n",
       "                {&quot;bubblingMouseEvents&quot;: true, &quot;color&quot;: &quot;#3388ff&quot;, &quot;dashArray&quot;: null, &quot;dashOffset&quot;: null, &quot;fill&quot;: true, &quot;fillColor&quot;: &quot;red&quot;, &quot;fillOpacity&quot;: 0.2, &quot;fillRule&quot;: &quot;evenodd&quot;, &quot;lineCap&quot;: &quot;round&quot;, &quot;lineJoin&quot;: &quot;round&quot;, &quot;opacity&quot;: 1.0, &quot;radius&quot;: 23.813948433342183, &quot;stroke&quot;: true, &quot;weight&quot;: 3}\n",
       "            ).addTo(map_4179193c6e3cc2207ead62c85e51c2d2);\n",
       "        \n",
       "    \n",
       "        var popup_b72f2d5cd689d75fc8ed39fd0f011e2a = L.popup({&quot;maxWidth&quot;: &quot;100%&quot;});\n",
       "\n",
       "        \n",
       "            var html_378d6b42375e70433376cfe1f76344c7 = $(`&lt;div id=&quot;html_378d6b42375e70433376cfe1f76344c7&quot; style=&quot;width: 100.0%; height: 100.0%;&quot;&gt;Philippines&lt;/div&gt;`)[0];\n",
       "            popup_b72f2d5cd689d75fc8ed39fd0f011e2a.setContent(html_378d6b42375e70433376cfe1f76344c7);\n",
       "        \n",
       "\n",
       "        circle_marker_808f3e497e22430bc7d9e774e4274141.bindPopup(popup_b72f2d5cd689d75fc8ed39fd0f011e2a)\n",
       "        ;\n",
       "\n",
       "        \n",
       "    \n",
       "    \n",
       "            var circle_marker_00a2ebad9fe531052ff7eb3fa3f84f67 = L.circleMarker(\n",
       "                [-6.0, 147.0],\n",
       "                {&quot;bubblingMouseEvents&quot;: true, &quot;color&quot;: &quot;#3388ff&quot;, &quot;dashArray&quot;: null, &quot;dashOffset&quot;: null, &quot;fill&quot;: true, &quot;fillColor&quot;: &quot;red&quot;, &quot;fillOpacity&quot;: 0.2, &quot;fillRule&quot;: &quot;evenodd&quot;, &quot;lineCap&quot;: &quot;round&quot;, &quot;lineJoin&quot;: &quot;round&quot;, &quot;opacity&quot;: 1.0, &quot;radius&quot;: 9.125985821420215, &quot;stroke&quot;: true, &quot;weight&quot;: 3}\n",
       "            ).addTo(map_4179193c6e3cc2207ead62c85e51c2d2);\n",
       "        \n",
       "    \n",
       "        var popup_3f3bd5b04b8efeb5ae9ade82935a901b = L.popup({&quot;maxWidth&quot;: &quot;100%&quot;});\n",
       "\n",
       "        \n",
       "            var html_2ae4d79dabeb6abe958ec10c82178de3 = $(`&lt;div id=&quot;html_2ae4d79dabeb6abe958ec10c82178de3&quot; style=&quot;width: 100.0%; height: 100.0%;&quot;&gt;Papua New Guinea&lt;/div&gt;`)[0];\n",
       "            popup_3f3bd5b04b8efeb5ae9ade82935a901b.setContent(html_2ae4d79dabeb6abe958ec10c82178de3);\n",
       "        \n",
       "\n",
       "        circle_marker_00a2ebad9fe531052ff7eb3fa3f84f67.bindPopup(popup_3f3bd5b04b8efeb5ae9ade82935a901b)\n",
       "        ;\n",
       "\n",
       "        \n",
       "    \n",
       "    \n",
       "            var circle_marker_56b01e7c01923afac8214ce1f071b5e8 = L.circleMarker(\n",
       "                [52.0, 20.0],\n",
       "                {&quot;bubblingMouseEvents&quot;: true, &quot;color&quot;: &quot;#3388ff&quot;, &quot;dashArray&quot;: null, &quot;dashOffset&quot;: null, &quot;fill&quot;: true, &quot;fillColor&quot;: &quot;black&quot;, &quot;fillOpacity&quot;: 0.2, &quot;fillRule&quot;: &quot;evenodd&quot;, &quot;lineCap&quot;: &quot;round&quot;, &quot;lineJoin&quot;: &quot;round&quot;, &quot;opacity&quot;: 1.0, &quot;stroke&quot;: true, &quot;weight&quot;: 3}\n",
       "            ).addTo(map_4179193c6e3cc2207ead62c85e51c2d2);\n",
       "        \n",
       "    \n",
       "        var popup_7adc1add3fc02e0ff6123069babe4187 = L.popup({&quot;maxWidth&quot;: &quot;100%&quot;});\n",
       "\n",
       "        \n",
       "            var html_1d991fd93bfd93840cf4c5b8a1f0d6c8 = $(`&lt;div id=&quot;html_1d991fd93bfd93840cf4c5b8a1f0d6c8&quot; style=&quot;width: 100.0%; height: 100.0%;&quot;&gt;Poland&lt;/div&gt;`)[0];\n",
       "            popup_7adc1add3fc02e0ff6123069babe4187.setContent(html_1d991fd93bfd93840cf4c5b8a1f0d6c8);\n",
       "        \n",
       "\n",
       "        circle_marker_56b01e7c01923afac8214ce1f071b5e8.bindPopup(popup_7adc1add3fc02e0ff6123069babe4187)\n",
       "        ;\n",
       "\n",
       "        \n",
       "    \n",
       "    \n",
       "            var circle_marker_bcd39671e6009382843f13dc1087ce76 = L.circleMarker(\n",
       "                [-23.33333, -58.0],\n",
       "                {&quot;bubblingMouseEvents&quot;: true, &quot;color&quot;: &quot;#3388ff&quot;, &quot;dashArray&quot;: null, &quot;dashOffset&quot;: null, &quot;fill&quot;: true, &quot;fillColor&quot;: &quot;green&quot;, &quot;fillOpacity&quot;: 0.2, &quot;fillRule&quot;: &quot;evenodd&quot;, &quot;lineCap&quot;: &quot;round&quot;, &quot;lineJoin&quot;: &quot;round&quot;, &quot;opacity&quot;: 1.0, &quot;radius&quot;: 2.454808263447154, &quot;stroke&quot;: true, &quot;weight&quot;: 3}\n",
       "            ).addTo(map_4179193c6e3cc2207ead62c85e51c2d2);\n",
       "        \n",
       "    \n",
       "        var popup_b46d23391d9d8ab5a2b4f9d66c5a9801 = L.popup({&quot;maxWidth&quot;: &quot;100%&quot;});\n",
       "\n",
       "        \n",
       "            var html_3ffc771f5bdfddc2084aa9501477d38e = $(`&lt;div id=&quot;html_3ffc771f5bdfddc2084aa9501477d38e&quot; style=&quot;width: 100.0%; height: 100.0%;&quot;&gt;Paraguay&lt;/div&gt;`)[0];\n",
       "            popup_b46d23391d9d8ab5a2b4f9d66c5a9801.setContent(html_3ffc771f5bdfddc2084aa9501477d38e);\n",
       "        \n",
       "\n",
       "        circle_marker_bcd39671e6009382843f13dc1087ce76.bindPopup(popup_b46d23391d9d8ab5a2b4f9d66c5a9801)\n",
       "        ;\n",
       "\n",
       "        \n",
       "    \n",
       "    \n",
       "            var circle_marker_fe162a21b95eda5455a902d4d9ae03e1 = L.circleMarker(\n",
       "                [31.92157, 35.20329],\n",
       "                {&quot;bubblingMouseEvents&quot;: true, &quot;color&quot;: &quot;#3388ff&quot;, &quot;dashArray&quot;: null, &quot;dashOffset&quot;: null, &quot;fill&quot;: true, &quot;fillColor&quot;: &quot;red&quot;, &quot;fillOpacity&quot;: 0.2, &quot;fillRule&quot;: &quot;evenodd&quot;, &quot;lineCap&quot;: &quot;round&quot;, &quot;lineJoin&quot;: &quot;round&quot;, &quot;opacity&quot;: 1.0, &quot;radius&quot;: 0.3213900403973964, &quot;stroke&quot;: true, &quot;weight&quot;: 3}\n",
       "            ).addTo(map_4179193c6e3cc2207ead62c85e51c2d2);\n",
       "        \n",
       "    \n",
       "        var popup_02ac56f00abd3c94d59d78890b2539ff = L.popup({&quot;maxWidth&quot;: &quot;100%&quot;});\n",
       "\n",
       "        \n",
       "            var html_219174ac52d651bd747b0fdd0443e118 = $(`&lt;div id=&quot;html_219174ac52d651bd747b0fdd0443e118&quot; style=&quot;width: 100.0%; height: 100.0%;&quot;&gt;Palestine&lt;/div&gt;`)[0];\n",
       "            popup_02ac56f00abd3c94d59d78890b2539ff.setContent(html_219174ac52d651bd747b0fdd0443e118);\n",
       "        \n",
       "\n",
       "        circle_marker_fe162a21b95eda5455a902d4d9ae03e1.bindPopup(popup_02ac56f00abd3c94d59d78890b2539ff)\n",
       "        ;\n",
       "\n",
       "        \n",
       "    \n",
       "    \n",
       "            var circle_marker_f94769315e3eb5a4a34eba6fcf84c413 = L.circleMarker(\n",
       "                [46.0, 25.0],\n",
       "                {&quot;bubblingMouseEvents&quot;: true, &quot;color&quot;: &quot;#3388ff&quot;, &quot;dashArray&quot;: null, &quot;dashOffset&quot;: null, &quot;fill&quot;: true, &quot;fillColor&quot;: &quot;black&quot;, &quot;fillOpacity&quot;: 0.2, &quot;fillRule&quot;: &quot;evenodd&quot;, &quot;lineCap&quot;: &quot;round&quot;, &quot;lineJoin&quot;: &quot;round&quot;, &quot;opacity&quot;: 1.0, &quot;stroke&quot;: true, &quot;weight&quot;: 3}\n",
       "            ).addTo(map_4179193c6e3cc2207ead62c85e51c2d2);\n",
       "        \n",
       "    \n",
       "        var popup_d1af3e286cb8f48f54fd0a2166e4a444 = L.popup({&quot;maxWidth&quot;: &quot;100%&quot;});\n",
       "\n",
       "        \n",
       "            var html_d2516402b44bf28a024261e2ca746382 = $(`&lt;div id=&quot;html_d2516402b44bf28a024261e2ca746382&quot; style=&quot;width: 100.0%; height: 100.0%;&quot;&gt;Romania&lt;/div&gt;`)[0];\n",
       "            popup_d1af3e286cb8f48f54fd0a2166e4a444.setContent(html_d2516402b44bf28a024261e2ca746382);\n",
       "        \n",
       "\n",
       "        circle_marker_f94769315e3eb5a4a34eba6fcf84c413.bindPopup(popup_d1af3e286cb8f48f54fd0a2166e4a444)\n",
       "        ;\n",
       "\n",
       "        \n",
       "    \n",
       "    \n",
       "            var circle_marker_a7422c358036e62a672887ad638cf447 = L.circleMarker(\n",
       "                [60.0, 100.0],\n",
       "                {&quot;bubblingMouseEvents&quot;: true, &quot;color&quot;: &quot;#3388ff&quot;, &quot;dashArray&quot;: null, &quot;dashOffset&quot;: null, &quot;fill&quot;: true, &quot;fillColor&quot;: &quot;black&quot;, &quot;fillOpacity&quot;: 0.2, &quot;fillRule&quot;: &quot;evenodd&quot;, &quot;lineCap&quot;: &quot;round&quot;, &quot;lineJoin&quot;: &quot;round&quot;, &quot;opacity&quot;: 1.0, &quot;radius&quot;: 1.1705268361253016, &quot;stroke&quot;: true, &quot;weight&quot;: 3}\n",
       "            ).addTo(map_4179193c6e3cc2207ead62c85e51c2d2);\n",
       "        \n",
       "    \n",
       "        var popup_9820623bb3c8d9aa7cf80755c0eae53f = L.popup({&quot;maxWidth&quot;: &quot;100%&quot;});\n",
       "\n",
       "        \n",
       "            var html_236ed15d411668ee896a8d0b233cbe33 = $(`&lt;div id=&quot;html_236ed15d411668ee896a8d0b233cbe33&quot; style=&quot;width: 100.0%; height: 100.0%;&quot;&gt;Russia&lt;/div&gt;`)[0];\n",
       "            popup_9820623bb3c8d9aa7cf80755c0eae53f.setContent(html_236ed15d411668ee896a8d0b233cbe33);\n",
       "        \n",
       "\n",
       "        circle_marker_a7422c358036e62a672887ad638cf447.bindPopup(popup_9820623bb3c8d9aa7cf80755c0eae53f)\n",
       "        ;\n",
       "\n",
       "        \n",
       "    \n",
       "    \n",
       "            var circle_marker_c82e209afc82dc3b2e3115791c300129 = L.circleMarker(\n",
       "                [-2.0, 30.0],\n",
       "                {&quot;bubblingMouseEvents&quot;: true, &quot;color&quot;: &quot;#3388ff&quot;, &quot;dashArray&quot;: null, &quot;dashOffset&quot;: null, &quot;fill&quot;: true, &quot;fillColor&quot;: &quot;blue&quot;, &quot;fillOpacity&quot;: 0.2, &quot;fillRule&quot;: &quot;evenodd&quot;, &quot;lineCap&quot;: &quot;round&quot;, &quot;lineJoin&quot;: &quot;round&quot;, &quot;opacity&quot;: 1.0, &quot;radius&quot;: 14.191124420279852, &quot;stroke&quot;: true, &quot;weight&quot;: 3}\n",
       "            ).addTo(map_4179193c6e3cc2207ead62c85e51c2d2);\n",
       "        \n",
       "    \n",
       "        var popup_46410fcfc83e837f758badb854186dda = L.popup({&quot;maxWidth&quot;: &quot;100%&quot;});\n",
       "\n",
       "        \n",
       "            var html_ca42f616782d90d7215bdff61b4af645 = $(`&lt;div id=&quot;html_ca42f616782d90d7215bdff61b4af645&quot; style=&quot;width: 100.0%; height: 100.0%;&quot;&gt;Rwanda&lt;/div&gt;`)[0];\n",
       "            popup_46410fcfc83e837f758badb854186dda.setContent(html_ca42f616782d90d7215bdff61b4af645);\n",
       "        \n",
       "\n",
       "        circle_marker_c82e209afc82dc3b2e3115791c300129.bindPopup(popup_46410fcfc83e837f758badb854186dda)\n",
       "        ;\n",
       "\n",
       "        \n",
       "    \n",
       "    \n",
       "            var circle_marker_b6d14cb8280b68fcbab0d67d1f015ac3 = L.circleMarker(\n",
       "                [16.0, 30.0],\n",
       "                {&quot;bubblingMouseEvents&quot;: true, &quot;color&quot;: &quot;#3388ff&quot;, &quot;dashArray&quot;: null, &quot;dashOffset&quot;: null, &quot;fill&quot;: true, &quot;fillColor&quot;: &quot;blue&quot;, &quot;fillOpacity&quot;: 0.2, &quot;fillRule&quot;: &quot;evenodd&quot;, &quot;lineCap&quot;: &quot;round&quot;, &quot;lineJoin&quot;: &quot;round&quot;, &quot;opacity&quot;: 1.0, &quot;radius&quot;: 14.75537843817308, &quot;stroke&quot;: true, &quot;weight&quot;: 3}\n",
       "            ).addTo(map_4179193c6e3cc2207ead62c85e51c2d2);\n",
       "        \n",
       "    \n",
       "        var popup_078cdca2e97518ccf57d357ddb3ff3e4 = L.popup({&quot;maxWidth&quot;: &quot;100%&quot;});\n",
       "\n",
       "        \n",
       "            var html_82c59c74a2352db2fe91e34ef601fe8f = $(`&lt;div id=&quot;html_82c59c74a2352db2fe91e34ef601fe8f&quot; style=&quot;width: 100.0%; height: 100.0%;&quot;&gt;Sudan&lt;/div&gt;`)[0];\n",
       "            popup_078cdca2e97518ccf57d357ddb3ff3e4.setContent(html_82c59c74a2352db2fe91e34ef601fe8f);\n",
       "        \n",
       "\n",
       "        circle_marker_b6d14cb8280b68fcbab0d67d1f015ac3.bindPopup(popup_078cdca2e97518ccf57d357ddb3ff3e4)\n",
       "        ;\n",
       "\n",
       "        \n",
       "    \n",
       "    \n",
       "            var circle_marker_5ef1f0e8fe5de20087b6a73cc367d363 = L.circleMarker(\n",
       "                [14.5, -14.25],\n",
       "                {&quot;bubblingMouseEvents&quot;: true, &quot;color&quot;: &quot;#3388ff&quot;, &quot;dashArray&quot;: null, &quot;dashOffset&quot;: null, &quot;fill&quot;: true, &quot;fillColor&quot;: &quot;blue&quot;, &quot;fillOpacity&quot;: 0.2, &quot;fillRule&quot;: &quot;evenodd&quot;, &quot;lineCap&quot;: &quot;round&quot;, &quot;lineJoin&quot;: &quot;round&quot;, &quot;opacity&quot;: 1.0, &quot;radius&quot;: 11.723984438242729, &quot;stroke&quot;: true, &quot;weight&quot;: 3}\n",
       "            ).addTo(map_4179193c6e3cc2207ead62c85e51c2d2);\n",
       "        \n",
       "    \n",
       "        var popup_1a2239b4ea18fd74960dd056d0301f4c = L.popup({&quot;maxWidth&quot;: &quot;100%&quot;});\n",
       "\n",
       "        \n",
       "            var html_7f4722cdd42b2518c7473589a794b7f2 = $(`&lt;div id=&quot;html_7f4722cdd42b2518c7473589a794b7f2&quot; style=&quot;width: 100.0%; height: 100.0%;&quot;&gt;Senegal&lt;/div&gt;`)[0];\n",
       "            popup_1a2239b4ea18fd74960dd056d0301f4c.setContent(html_7f4722cdd42b2518c7473589a794b7f2);\n",
       "        \n",
       "\n",
       "        circle_marker_5ef1f0e8fe5de20087b6a73cc367d363.bindPopup(popup_1a2239b4ea18fd74960dd056d0301f4c)\n",
       "        ;\n",
       "\n",
       "        \n",
       "    \n",
       "    \n",
       "            var circle_marker_f7ca850969a70fc7b64622061991e3fa = L.circleMarker(\n",
       "                [8.5, -11.5],\n",
       "                {&quot;bubblingMouseEvents&quot;: true, &quot;color&quot;: &quot;#3388ff&quot;, &quot;dashArray&quot;: null, &quot;dashOffset&quot;: null, &quot;fill&quot;: true, &quot;fillColor&quot;: &quot;blue&quot;, &quot;fillOpacity&quot;: 0.2, &quot;fillRule&quot;: &quot;evenodd&quot;, &quot;lineCap&quot;: &quot;round&quot;, &quot;lineJoin&quot;: &quot;round&quot;, &quot;opacity&quot;: 1.0, &quot;radius&quot;: 10.75395518279574, &quot;stroke&quot;: true, &quot;weight&quot;: 3}\n",
       "            ).addTo(map_4179193c6e3cc2207ead62c85e51c2d2);\n",
       "        \n",
       "    \n",
       "        var popup_8993d5f0d2603d11361bed58353f7fbb = L.popup({&quot;maxWidth&quot;: &quot;100%&quot;});\n",
       "\n",
       "        \n",
       "            var html_ded504ef5c376a0b3fdcf03e96309e7b = $(`&lt;div id=&quot;html_ded504ef5c376a0b3fdcf03e96309e7b&quot; style=&quot;width: 100.0%; height: 100.0%;&quot;&gt;Sierra Leone&lt;/div&gt;`)[0];\n",
       "            popup_8993d5f0d2603d11361bed58353f7fbb.setContent(html_ded504ef5c376a0b3fdcf03e96309e7b);\n",
       "        \n",
       "\n",
       "        circle_marker_f7ca850969a70fc7b64622061991e3fa.bindPopup(popup_8993d5f0d2603d11361bed58353f7fbb)\n",
       "        ;\n",
       "\n",
       "        \n",
       "    \n",
       "    \n",
       "            var circle_marker_c5481b4beb915601cb4ce5ac1ae1887d = L.circleMarker(\n",
       "                [13.83333, -88.91667],\n",
       "                {&quot;bubblingMouseEvents&quot;: true, &quot;color&quot;: &quot;#3388ff&quot;, &quot;dashArray&quot;: null, &quot;dashOffset&quot;: null, &quot;fill&quot;: true, &quot;fillColor&quot;: &quot;green&quot;, &quot;fillOpacity&quot;: 0.2, &quot;fillRule&quot;: &quot;evenodd&quot;, &quot;lineCap&quot;: &quot;round&quot;, &quot;lineJoin&quot;: &quot;round&quot;, &quot;opacity&quot;: 1.0, &quot;radius&quot;: 2.231596251861578, &quot;stroke&quot;: true, &quot;weight&quot;: 3}\n",
       "            ).addTo(map_4179193c6e3cc2207ead62c85e51c2d2);\n",
       "        \n",
       "    \n",
       "        var popup_a529d114388c44c7aed745dd37f599f6 = L.popup({&quot;maxWidth&quot;: &quot;100%&quot;});\n",
       "\n",
       "        \n",
       "            var html_d00f82f24d20d90f2a7b5a9be664dcf3 = $(`&lt;div id=&quot;html_d00f82f24d20d90f2a7b5a9be664dcf3&quot; style=&quot;width: 100.0%; height: 100.0%;&quot;&gt;El Salvador&lt;/div&gt;`)[0];\n",
       "            popup_a529d114388c44c7aed745dd37f599f6.setContent(html_d00f82f24d20d90f2a7b5a9be664dcf3);\n",
       "        \n",
       "\n",
       "        circle_marker_c5481b4beb915601cb4ce5ac1ae1887d.bindPopup(popup_a529d114388c44c7aed745dd37f599f6)\n",
       "        ;\n",
       "\n",
       "        \n",
       "    \n",
       "    \n",
       "            var circle_marker_26b6a739abe7047a91c5ed62817f6632 = L.circleMarker(\n",
       "                [44.81892, 20.45998],\n",
       "                {&quot;bubblingMouseEvents&quot;: true, &quot;color&quot;: &quot;#3388ff&quot;, &quot;dashArray&quot;: null, &quot;dashOffset&quot;: null, &quot;fill&quot;: true, &quot;fillColor&quot;: &quot;black&quot;, &quot;fillOpacity&quot;: 0.2, &quot;fillRule&quot;: &quot;evenodd&quot;, &quot;lineCap&quot;: &quot;round&quot;, &quot;lineJoin&quot;: &quot;round&quot;, &quot;opacity&quot;: 1.0, &quot;radius&quot;: 0.37830163207185913, &quot;stroke&quot;: true, &quot;weight&quot;: 3}\n",
       "            ).addTo(map_4179193c6e3cc2207ead62c85e51c2d2);\n",
       "        \n",
       "    \n",
       "        var popup_79f0a51b1c29cf081c2a72ca4af2196c = L.popup({&quot;maxWidth&quot;: &quot;100%&quot;});\n",
       "\n",
       "        \n",
       "            var html_5388cb6ecdc8b7291b1bd1daadf60a93 = $(`&lt;div id=&quot;html_5388cb6ecdc8b7291b1bd1daadf60a93&quot; style=&quot;width: 100.0%; height: 100.0%;&quot;&gt;Serbia&lt;/div&gt;`)[0];\n",
       "            popup_79f0a51b1c29cf081c2a72ca4af2196c.setContent(html_5388cb6ecdc8b7291b1bd1daadf60a93);\n",
       "        \n",
       "\n",
       "        circle_marker_26b6a739abe7047a91c5ed62817f6632.bindPopup(popup_79f0a51b1c29cf081c2a72ca4af2196c)\n",
       "        ;\n",
       "\n",
       "        \n",
       "    \n",
       "    \n",
       "            var circle_marker_cbd25ddd121503b9447a868c032fdbba = L.circleMarker(\n",
       "                [1.0, 7.0],\n",
       "                {&quot;bubblingMouseEvents&quot;: true, &quot;color&quot;: &quot;#3388ff&quot;, &quot;dashArray&quot;: null, &quot;dashOffset&quot;: null, &quot;fill&quot;: true, &quot;fillColor&quot;: &quot;blue&quot;, &quot;fillOpacity&quot;: 0.2, &quot;fillRule&quot;: &quot;evenodd&quot;, &quot;lineCap&quot;: &quot;round&quot;, &quot;lineJoin&quot;: &quot;round&quot;, &quot;opacity&quot;: 1.0, &quot;radius&quot;: 1.5808990803845295, &quot;stroke&quot;: true, &quot;weight&quot;: 3}\n",
       "            ).addTo(map_4179193c6e3cc2207ead62c85e51c2d2);\n",
       "        \n",
       "    \n",
       "        var popup_73643ebaa86c8c88ca050e68236d875e = L.popup({&quot;maxWidth&quot;: &quot;100%&quot;});\n",
       "\n",
       "        \n",
       "            var html_364741835f8873942a9806ffaf1bb2d9 = $(`&lt;div id=&quot;html_364741835f8873942a9806ffaf1bb2d9&quot; style=&quot;width: 100.0%; height: 100.0%;&quot;&gt;Sao Tome and Principe&lt;/div&gt;`)[0];\n",
       "            popup_73643ebaa86c8c88ca050e68236d875e.setContent(html_364741835f8873942a9806ffaf1bb2d9);\n",
       "        \n",
       "\n",
       "        circle_marker_cbd25ddd121503b9447a868c032fdbba.bindPopup(popup_73643ebaa86c8c88ca050e68236d875e)\n",
       "        ;\n",
       "\n",
       "        \n",
       "    \n",
       "    \n",
       "            var circle_marker_2f83ae505471d051d7bed2ffbe0de2a0 = L.circleMarker(\n",
       "                [4.0, -56.0],\n",
       "                {&quot;bubblingMouseEvents&quot;: true, &quot;color&quot;: &quot;#3388ff&quot;, &quot;dashArray&quot;: null, &quot;dashOffset&quot;: null, &quot;fill&quot;: true, &quot;fillColor&quot;: &quot;green&quot;, &quot;fillOpacity&quot;: 0.2, &quot;fillRule&quot;: &quot;evenodd&quot;, &quot;lineCap&quot;: &quot;round&quot;, &quot;lineJoin&quot;: &quot;round&quot;, &quot;opacity&quot;: 1.0, &quot;radius&quot;: 1.6178179347920572, &quot;stroke&quot;: true, &quot;weight&quot;: 3}\n",
       "            ).addTo(map_4179193c6e3cc2207ead62c85e51c2d2);\n",
       "        \n",
       "    \n",
       "        var popup_59be1d020435dc7705777f450dfe64a8 = L.popup({&quot;maxWidth&quot;: &quot;100%&quot;});\n",
       "\n",
       "        \n",
       "            var html_4c77d0ce129e626263045a994a3ccde5 = $(`&lt;div id=&quot;html_4c77d0ce129e626263045a994a3ccde5&quot; style=&quot;width: 100.0%; height: 100.0%;&quot;&gt;Suriname&lt;/div&gt;`)[0];\n",
       "            popup_59be1d020435dc7705777f450dfe64a8.setContent(html_4c77d0ce129e626263045a994a3ccde5);\n",
       "        \n",
       "\n",
       "        circle_marker_2f83ae505471d051d7bed2ffbe0de2a0.bindPopup(popup_59be1d020435dc7705777f450dfe64a8)\n",
       "        ;\n",
       "\n",
       "        \n",
       "    \n",
       "    \n",
       "            var circle_marker_95557ef8f6afa2300c7e36f031858e29 = L.circleMarker(\n",
       "                [48.66667, 19.5],\n",
       "                {&quot;bubblingMouseEvents&quot;: true, &quot;color&quot;: &quot;#3388ff&quot;, &quot;dashArray&quot;: null, &quot;dashOffset&quot;: null, &quot;fill&quot;: true, &quot;fillColor&quot;: &quot;black&quot;, &quot;fillOpacity&quot;: 0.2, &quot;fillRule&quot;: &quot;evenodd&quot;, &quot;lineCap&quot;: &quot;round&quot;, &quot;lineJoin&quot;: &quot;round&quot;, &quot;opacity&quot;: 1.0, &quot;radius&quot;: 0.7183841719231987, &quot;stroke&quot;: true, &quot;weight&quot;: 3}\n",
       "            ).addTo(map_4179193c6e3cc2207ead62c85e51c2d2);\n",
       "        \n",
       "    \n",
       "        var popup_9f72d21fb92d0c04955b9a199205538e = L.popup({&quot;maxWidth&quot;: &quot;100%&quot;});\n",
       "\n",
       "        \n",
       "            var html_70ed5c06d1be82b02e6b3ed6f48e11df = $(`&lt;div id=&quot;html_70ed5c06d1be82b02e6b3ed6f48e11df&quot; style=&quot;width: 100.0%; height: 100.0%;&quot;&gt;Slovak Republic&lt;/div&gt;`)[0];\n",
       "            popup_9f72d21fb92d0c04955b9a199205538e.setContent(html_70ed5c06d1be82b02e6b3ed6f48e11df);\n",
       "        \n",
       "\n",
       "        circle_marker_95557ef8f6afa2300c7e36f031858e29.bindPopup(popup_9f72d21fb92d0c04955b9a199205538e)\n",
       "        ;\n",
       "\n",
       "        \n",
       "    \n",
       "    \n",
       "            var circle_marker_826c609feaf0debfc1ea6c92d795c525 = L.circleMarker(\n",
       "                [46.08333, 15.0],\n",
       "                {&quot;bubblingMouseEvents&quot;: true, &quot;color&quot;: &quot;#3388ff&quot;, &quot;dashArray&quot;: null, &quot;dashOffset&quot;: null, &quot;fill&quot;: true, &quot;fillColor&quot;: &quot;black&quot;, &quot;fillOpacity&quot;: 0.2, &quot;fillRule&quot;: &quot;evenodd&quot;, &quot;lineCap&quot;: &quot;round&quot;, &quot;lineJoin&quot;: &quot;round&quot;, &quot;opacity&quot;: 1.0, &quot;stroke&quot;: true, &quot;weight&quot;: 3}\n",
       "            ).addTo(map_4179193c6e3cc2207ead62c85e51c2d2);\n",
       "        \n",
       "    \n",
       "        var popup_18104ff804f8870b6cdc2ffbeb6a90ee = L.popup({&quot;maxWidth&quot;: &quot;100%&quot;});\n",
       "\n",
       "        \n",
       "            var html_7408044f969617778fbd4f26e7757740 = $(`&lt;div id=&quot;html_7408044f969617778fbd4f26e7757740&quot; style=&quot;width: 100.0%; height: 100.0%;&quot;&gt;Slovenia&lt;/div&gt;`)[0];\n",
       "            popup_18104ff804f8870b6cdc2ffbeb6a90ee.setContent(html_7408044f969617778fbd4f26e7757740);\n",
       "        \n",
       "\n",
       "        circle_marker_826c609feaf0debfc1ea6c92d795c525.bindPopup(popup_18104ff804f8870b6cdc2ffbeb6a90ee)\n",
       "        ;\n",
       "\n",
       "        \n",
       "    \n",
       "    \n",
       "            var circle_marker_54274f67d4086d9db5295828452a9fe4 = L.circleMarker(\n",
       "                [62.0, 15.0],\n",
       "                {&quot;bubblingMouseEvents&quot;: true, &quot;color&quot;: &quot;#3388ff&quot;, &quot;dashArray&quot;: null, &quot;dashOffset&quot;: null, &quot;fill&quot;: true, &quot;fillColor&quot;: &quot;black&quot;, &quot;fillOpacity&quot;: 0.2, &quot;fillRule&quot;: &quot;evenodd&quot;, &quot;lineCap&quot;: &quot;round&quot;, &quot;lineJoin&quot;: &quot;round&quot;, &quot;opacity&quot;: 1.0, &quot;radius&quot;: 1.0228182985905399, &quot;stroke&quot;: true, &quot;weight&quot;: 3}\n",
       "            ).addTo(map_4179193c6e3cc2207ead62c85e51c2d2);\n",
       "        \n",
       "    \n",
       "        var popup_f55cdd255771fe2287f8ddd60dd4a8d1 = L.popup({&quot;maxWidth&quot;: &quot;100%&quot;});\n",
       "\n",
       "        \n",
       "            var html_314119de3e4caea6e9dde170c1cf01a4 = $(`&lt;div id=&quot;html_314119de3e4caea6e9dde170c1cf01a4&quot; style=&quot;width: 100.0%; height: 100.0%;&quot;&gt;Sweden&lt;/div&gt;`)[0];\n",
       "            popup_f55cdd255771fe2287f8ddd60dd4a8d1.setContent(html_314119de3e4caea6e9dde170c1cf01a4);\n",
       "        \n",
       "\n",
       "        circle_marker_54274f67d4086d9db5295828452a9fe4.bindPopup(popup_f55cdd255771fe2287f8ddd60dd4a8d1)\n",
       "        ;\n",
       "\n",
       "        \n",
       "    \n",
       "    \n",
       "            var circle_marker_695648fb9cbbb7fcea6c23771b0e70e5 = L.circleMarker(\n",
       "                [-26.5, 31.5],\n",
       "                {&quot;bubblingMouseEvents&quot;: true, &quot;color&quot;: &quot;#3388ff&quot;, &quot;dashArray&quot;: null, &quot;dashOffset&quot;: null, &quot;fill&quot;: true, &quot;fillColor&quot;: &quot;blue&quot;, &quot;fillOpacity&quot;: 0.2, &quot;fillRule&quot;: &quot;evenodd&quot;, &quot;lineCap&quot;: &quot;round&quot;, &quot;lineJoin&quot;: &quot;round&quot;, &quot;opacity&quot;: 1.0, &quot;radius&quot;: 3.6497571987716015, &quot;stroke&quot;: true, &quot;weight&quot;: 3}\n",
       "            ).addTo(map_4179193c6e3cc2207ead62c85e51c2d2);\n",
       "        \n",
       "    \n",
       "        var popup_f7cfc1c5b17cd2e702fb11c5b6c942b4 = L.popup({&quot;maxWidth&quot;: &quot;100%&quot;});\n",
       "\n",
       "        \n",
       "            var html_bc3f83ebd19fb5c1da006b48015b6304 = $(`&lt;div id=&quot;html_bc3f83ebd19fb5c1da006b48015b6304&quot; style=&quot;width: 100.0%; height: 100.0%;&quot;&gt;Swaziland&lt;/div&gt;`)[0];\n",
       "            popup_f7cfc1c5b17cd2e702fb11c5b6c942b4.setContent(html_bc3f83ebd19fb5c1da006b48015b6304);\n",
       "        \n",
       "\n",
       "        circle_marker_695648fb9cbbb7fcea6c23771b0e70e5.bindPopup(popup_f7cfc1c5b17cd2e702fb11c5b6c942b4)\n",
       "        ;\n",
       "\n",
       "        \n",
       "    \n",
       "    \n",
       "            var circle_marker_6abe4eeca8fb6d67b1cee59754e24d58 = L.circleMarker(\n",
       "                [-4.58333, 55.66667],\n",
       "                {&quot;bubblingMouseEvents&quot;: true, &quot;color&quot;: &quot;#3388ff&quot;, &quot;dashArray&quot;: null, &quot;dashOffset&quot;: null, &quot;fill&quot;: true, &quot;fillColor&quot;: &quot;blue&quot;, &quot;fillOpacity&quot;: 0.2, &quot;fillRule&quot;: &quot;evenodd&quot;, &quot;lineCap&quot;: &quot;round&quot;, &quot;lineJoin&quot;: &quot;round&quot;, &quot;opacity&quot;: 1.0, &quot;radius&quot;: 0.08519075891779829, &quot;stroke&quot;: true, &quot;weight&quot;: 3}\n",
       "            ).addTo(map_4179193c6e3cc2207ead62c85e51c2d2);\n",
       "        \n",
       "    \n",
       "        var popup_3dff27659fca5f4a435e11dee23fc238 = L.popup({&quot;maxWidth&quot;: &quot;100%&quot;});\n",
       "\n",
       "        \n",
       "            var html_9b33134027eedb70fef439ff5671da86 = $(`&lt;div id=&quot;html_9b33134027eedb70fef439ff5671da86&quot; style=&quot;width: 100.0%; height: 100.0%;&quot;&gt;Seychelles&lt;/div&gt;`)[0];\n",
       "            popup_3dff27659fca5f4a435e11dee23fc238.setContent(html_9b33134027eedb70fef439ff5671da86);\n",
       "        \n",
       "\n",
       "        circle_marker_6abe4eeca8fb6d67b1cee59754e24d58.bindPopup(popup_3dff27659fca5f4a435e11dee23fc238)\n",
       "        ;\n",
       "\n",
       "        \n",
       "    \n",
       "    \n",
       "            var circle_marker_dac26970bb9f50ecf2306244b876d64e = L.circleMarker(\n",
       "                [35.0, 38.0],\n",
       "                {&quot;bubblingMouseEvents&quot;: true, &quot;color&quot;: &quot;#3388ff&quot;, &quot;dashArray&quot;: null, &quot;dashOffset&quot;: null, &quot;fill&quot;: true, &quot;fillColor&quot;: &quot;red&quot;, &quot;fillOpacity&quot;: 0.2, &quot;fillRule&quot;: &quot;evenodd&quot;, &quot;lineCap&quot;: &quot;round&quot;, &quot;lineJoin&quot;: &quot;round&quot;, &quot;opacity&quot;: 1.0, &quot;radius&quot;: 3.4099601627152856, &quot;stroke&quot;: true, &quot;weight&quot;: 3}\n",
       "            ).addTo(map_4179193c6e3cc2207ead62c85e51c2d2);\n",
       "        \n",
       "    \n",
       "        var popup_9df90e2e00288c5cfbb7ede1dc102e44 = L.popup({&quot;maxWidth&quot;: &quot;100%&quot;});\n",
       "\n",
       "        \n",
       "            var html_82a9aa49642e8c55964ce91bd14556ee = $(`&lt;div id=&quot;html_82a9aa49642e8c55964ce91bd14556ee&quot; style=&quot;width: 100.0%; height: 100.0%;&quot;&gt;Syria&lt;/div&gt;`)[0];\n",
       "            popup_9df90e2e00288c5cfbb7ede1dc102e44.setContent(html_82a9aa49642e8c55964ce91bd14556ee);\n",
       "        \n",
       "\n",
       "        circle_marker_dac26970bb9f50ecf2306244b876d64e.bindPopup(popup_9df90e2e00288c5cfbb7ede1dc102e44)\n",
       "        ;\n",
       "\n",
       "        \n",
       "    \n",
       "    \n",
       "            var circle_marker_f006d0942b3a41160e305cba02d64ee3 = L.circleMarker(\n",
       "                [15.0, 19.0],\n",
       "                {&quot;bubblingMouseEvents&quot;: true, &quot;color&quot;: &quot;#3388ff&quot;, &quot;dashArray&quot;: null, &quot;dashOffset&quot;: null, &quot;fill&quot;: true, &quot;fillColor&quot;: &quot;blue&quot;, &quot;fillOpacity&quot;: 0.2, &quot;fillRule&quot;: &quot;evenodd&quot;, &quot;lineCap&quot;: &quot;round&quot;, &quot;lineJoin&quot;: &quot;round&quot;, &quot;opacity&quot;: 1.0, &quot;radius&quot;: 11.78726800446764, &quot;stroke&quot;: true, &quot;weight&quot;: 3}\n",
       "            ).addTo(map_4179193c6e3cc2207ead62c85e51c2d2);\n",
       "        \n",
       "    \n",
       "        var popup_22ca513629542fcd8facaa43e7f64cdd = L.popup({&quot;maxWidth&quot;: &quot;100%&quot;});\n",
       "\n",
       "        \n",
       "            var html_edfea8c1691f9770b84089a6b315eb37 = $(`&lt;div id=&quot;html_edfea8c1691f9770b84089a6b315eb37&quot; style=&quot;width: 100.0%; height: 100.0%;&quot;&gt;Chad&lt;/div&gt;`)[0];\n",
       "            popup_22ca513629542fcd8facaa43e7f64cdd.setContent(html_edfea8c1691f9770b84089a6b315eb37);\n",
       "        \n",
       "\n",
       "        circle_marker_f006d0942b3a41160e305cba02d64ee3.bindPopup(popup_22ca513629542fcd8facaa43e7f64cdd)\n",
       "        ;\n",
       "\n",
       "        \n",
       "    \n",
       "    \n",
       "            var circle_marker_1b0fa1c2ddbac1e81008bb52fb0225b1 = L.circleMarker(\n",
       "                [8.66667, 1.08333],\n",
       "                {&quot;bubblingMouseEvents&quot;: true, &quot;color&quot;: &quot;#3388ff&quot;, &quot;dashArray&quot;: null, &quot;dashOffset&quot;: null, &quot;fill&quot;: true, &quot;fillColor&quot;: &quot;blue&quot;, &quot;fillOpacity&quot;: 0.2, &quot;fillRule&quot;: &quot;evenodd&quot;, &quot;lineCap&quot;: &quot;round&quot;, &quot;lineJoin&quot;: &quot;round&quot;, &quot;opacity&quot;: 1.0, &quot;radius&quot;: 10.35531519401904, &quot;stroke&quot;: true, &quot;weight&quot;: 3}\n",
       "            ).addTo(map_4179193c6e3cc2207ead62c85e51c2d2);\n",
       "        \n",
       "    \n",
       "        var popup_be4750a81090be91595904646326f49a = L.popup({&quot;maxWidth&quot;: &quot;100%&quot;});\n",
       "\n",
       "        \n",
       "            var html_a58faaa14352e9d6ece1d65e2b6a02ef = $(`&lt;div id=&quot;html_a58faaa14352e9d6ece1d65e2b6a02ef&quot; style=&quot;width: 100.0%; height: 100.0%;&quot;&gt;Togo&lt;/div&gt;`)[0];\n",
       "            popup_be4750a81090be91595904646326f49a.setContent(html_a58faaa14352e9d6ece1d65e2b6a02ef);\n",
       "        \n",
       "\n",
       "        circle_marker_1b0fa1c2ddbac1e81008bb52fb0225b1.bindPopup(popup_be4750a81090be91595904646326f49a)\n",
       "        ;\n",
       "\n",
       "        \n",
       "    \n",
       "    \n",
       "            var circle_marker_2f877a764f0df7b9d68e3585995e0fe9 = L.circleMarker(\n",
       "                [15.5, 101.0],\n",
       "                {&quot;bubblingMouseEvents&quot;: true, &quot;color&quot;: &quot;#3388ff&quot;, &quot;dashArray&quot;: null, &quot;dashOffset&quot;: null, &quot;fill&quot;: true, &quot;fillColor&quot;: &quot;red&quot;, &quot;fillOpacity&quot;: 0.2, &quot;fillRule&quot;: &quot;evenodd&quot;, &quot;lineCap&quot;: &quot;round&quot;, &quot;lineJoin&quot;: &quot;round&quot;, &quot;opacity&quot;: 1.0, &quot;radius&quot;: 2.574986229895502, &quot;stroke&quot;: true, &quot;weight&quot;: 3}\n",
       "            ).addTo(map_4179193c6e3cc2207ead62c85e51c2d2);\n",
       "        \n",
       "    \n",
       "        var popup_de6437e79c4aabba71e5e92a26710cc0 = L.popup({&quot;maxWidth&quot;: &quot;100%&quot;});\n",
       "\n",
       "        \n",
       "            var html_6a3e9cdd7b923b9ba86f74302bebd20f = $(`&lt;div id=&quot;html_6a3e9cdd7b923b9ba86f74302bebd20f&quot; style=&quot;width: 100.0%; height: 100.0%;&quot;&gt;Thailand&lt;/div&gt;`)[0];\n",
       "            popup_de6437e79c4aabba71e5e92a26710cc0.setContent(html_6a3e9cdd7b923b9ba86f74302bebd20f);\n",
       "        \n",
       "\n",
       "        circle_marker_2f877a764f0df7b9d68e3585995e0fe9.bindPopup(popup_de6437e79c4aabba71e5e92a26710cc0)\n",
       "        ;\n",
       "\n",
       "        \n",
       "    \n",
       "    \n",
       "            var circle_marker_c3e37f6d04d1670983019d459c7973bb = L.circleMarker(\n",
       "                [39.0, 71.0],\n",
       "                {&quot;bubblingMouseEvents&quot;: true, &quot;color&quot;: &quot;#3388ff&quot;, &quot;dashArray&quot;: null, &quot;dashOffset&quot;: null, &quot;fill&quot;: true, &quot;fillColor&quot;: &quot;red&quot;, &quot;fillOpacity&quot;: 0.2, &quot;fillRule&quot;: &quot;evenodd&quot;, &quot;lineCap&quot;: &quot;round&quot;, &quot;lineJoin&quot;: &quot;round&quot;, &quot;opacity&quot;: 1.0, &quot;radius&quot;: 3.937311718658916, &quot;stroke&quot;: true, &quot;weight&quot;: 3}\n",
       "            ).addTo(map_4179193c6e3cc2207ead62c85e51c2d2);\n",
       "        \n",
       "    \n",
       "        var popup_7c3bf7b75c0d9a3f40aa8c22ab913350 = L.popup({&quot;maxWidth&quot;: &quot;100%&quot;});\n",
       "\n",
       "        \n",
       "            var html_0a3c92ff9bf185c9316acf9de3f5191b = $(`&lt;div id=&quot;html_0a3c92ff9bf185c9316acf9de3f5191b&quot; style=&quot;width: 100.0%; height: 100.0%;&quot;&gt;Tajikistan&lt;/div&gt;`)[0];\n",
       "            popup_7c3bf7b75c0d9a3f40aa8c22ab913350.setContent(html_0a3c92ff9bf185c9316acf9de3f5191b);\n",
       "        \n",
       "\n",
       "        circle_marker_c3e37f6d04d1670983019d459c7973bb.bindPopup(popup_7c3bf7b75c0d9a3f40aa8c22ab913350)\n",
       "        ;\n",
       "\n",
       "        \n",
       "    \n",
       "    \n",
       "            var circle_marker_aa37e1fc420467e214c55c546c08f6b4 = L.circleMarker(\n",
       "                [39.75, 59.66667],\n",
       "                {&quot;bubblingMouseEvents&quot;: true, &quot;color&quot;: &quot;#3388ff&quot;, &quot;dashArray&quot;: null, &quot;dashOffset&quot;: null, &quot;fill&quot;: true, &quot;fillColor&quot;: &quot;red&quot;, &quot;fillOpacity&quot;: 0.2, &quot;fillRule&quot;: &quot;evenodd&quot;, &quot;lineCap&quot;: &quot;round&quot;, &quot;lineJoin&quot;: &quot;round&quot;, &quot;opacity&quot;: 1.0, &quot;radius&quot;: 6.339658544041773, &quot;stroke&quot;: true, &quot;weight&quot;: 3}\n",
       "            ).addTo(map_4179193c6e3cc2207ead62c85e51c2d2);\n",
       "        \n",
       "    \n",
       "        var popup_ae035d1ac37c4c84c31952afdb5fdc19 = L.popup({&quot;maxWidth&quot;: &quot;100%&quot;});\n",
       "\n",
       "        \n",
       "            var html_5c4ea5974e8993268df873b50feacebd = $(`&lt;div id=&quot;html_5c4ea5974e8993268df873b50feacebd&quot; style=&quot;width: 100.0%; height: 100.0%;&quot;&gt;Turkmenistan&lt;/div&gt;`)[0];\n",
       "            popup_ae035d1ac37c4c84c31952afdb5fdc19.setContent(html_5c4ea5974e8993268df873b50feacebd);\n",
       "        \n",
       "\n",
       "        circle_marker_aa37e1fc420467e214c55c546c08f6b4.bindPopup(popup_ae035d1ac37c4c84c31952afdb5fdc19)\n",
       "        ;\n",
       "\n",
       "        \n",
       "    \n",
       "    \n",
       "            var circle_marker_31326a7c049389945512f5883546353b = L.circleMarker(\n",
       "                [-8.83333, 125.75],\n",
       "                {&quot;bubblingMouseEvents&quot;: true, &quot;color&quot;: &quot;#3388ff&quot;, &quot;dashArray&quot;: null, &quot;dashOffset&quot;: null, &quot;fill&quot;: true, &quot;fillColor&quot;: &quot;red&quot;, &quot;fillOpacity&quot;: 0.2, &quot;fillRule&quot;: &quot;evenodd&quot;, &quot;lineCap&quot;: &quot;round&quot;, &quot;lineJoin&quot;: &quot;round&quot;, &quot;opacity&quot;: 1.0, &quot;radius&quot;: 3.4838832413106937, &quot;stroke&quot;: true, &quot;weight&quot;: 3}\n",
       "            ).addTo(map_4179193c6e3cc2207ead62c85e51c2d2);\n",
       "        \n",
       "    \n",
       "        var popup_889e52c6390c7940347be6ea508f63ac = L.popup({&quot;maxWidth&quot;: &quot;100%&quot;});\n",
       "\n",
       "        \n",
       "            var html_2e52e43e5f486d39fe5bc8dcb54d7bc6 = $(`&lt;div id=&quot;html_2e52e43e5f486d39fe5bc8dcb54d7bc6&quot; style=&quot;width: 100.0%; height: 100.0%;&quot;&gt;Timor-Leste&lt;/div&gt;`)[0];\n",
       "            popup_889e52c6390c7940347be6ea508f63ac.setContent(html_2e52e43e5f486d39fe5bc8dcb54d7bc6);\n",
       "        \n",
       "\n",
       "        circle_marker_31326a7c049389945512f5883546353b.bindPopup(popup_889e52c6390c7940347be6ea508f63ac)\n",
       "        ;\n",
       "\n",
       "        \n",
       "    \n",
       "    \n",
       "            var circle_marker_7128fb7817d03de194936f2fbc89ec19 = L.circleMarker(\n",
       "                [11.0, -61.0],\n",
       "                {&quot;bubblingMouseEvents&quot;: true, &quot;color&quot;: &quot;#3388ff&quot;, &quot;dashArray&quot;: null, &quot;dashOffset&quot;: null, &quot;fill&quot;: true, &quot;fillColor&quot;: &quot;green&quot;, &quot;fillOpacity&quot;: 0.2, &quot;fillRule&quot;: &quot;evenodd&quot;, &quot;lineCap&quot;: &quot;round&quot;, &quot;lineJoin&quot;: &quot;round&quot;, &quot;opacity&quot;: 1.0, &quot;radius&quot;: 1.3261575894870345, &quot;stroke&quot;: true, &quot;weight&quot;: 3}\n",
       "            ).addTo(map_4179193c6e3cc2207ead62c85e51c2d2);\n",
       "        \n",
       "    \n",
       "        var popup_0d8ccc2e95cafe9d4e8ce20715c83c07 = L.popup({&quot;maxWidth&quot;: &quot;100%&quot;});\n",
       "\n",
       "        \n",
       "            var html_5054eca820b28f4314575e6e1c8ba2b6 = $(`&lt;div id=&quot;html_5054eca820b28f4314575e6e1c8ba2b6&quot; style=&quot;width: 100.0%; height: 100.0%;&quot;&gt;Trinidad and Tobago&lt;/div&gt;`)[0];\n",
       "            popup_0d8ccc2e95cafe9d4e8ce20715c83c07.setContent(html_5054eca820b28f4314575e6e1c8ba2b6);\n",
       "        \n",
       "\n",
       "        circle_marker_7128fb7817d03de194936f2fbc89ec19.bindPopup(popup_0d8ccc2e95cafe9d4e8ce20715c83c07)\n",
       "        ;\n",
       "\n",
       "        \n",
       "    \n",
       "    \n",
       "            var circle_marker_59359eff3657cf4d3eb12255f918f1d1 = L.circleMarker(\n",
       "                [34.0, 9.0],\n",
       "                {&quot;bubblingMouseEvents&quot;: true, &quot;color&quot;: &quot;#3388ff&quot;, &quot;dashArray&quot;: null, &quot;dashOffset&quot;: null, &quot;fill&quot;: true, &quot;fillColor&quot;: &quot;blue&quot;, &quot;fillOpacity&quot;: 0.2, &quot;fillRule&quot;: &quot;evenodd&quot;, &quot;lineCap&quot;: &quot;round&quot;, &quot;lineJoin&quot;: &quot;round&quot;, &quot;opacity&quot;: 1.0, &quot;radius&quot;: 1.5827604478426454, &quot;stroke&quot;: true, &quot;weight&quot;: 3}\n",
       "            ).addTo(map_4179193c6e3cc2207ead62c85e51c2d2);\n",
       "        \n",
       "    \n",
       "        var popup_230958963e031fc5e0db3f6c997e7e22 = L.popup({&quot;maxWidth&quot;: &quot;100%&quot;});\n",
       "\n",
       "        \n",
       "            var html_13027fee303c93be1e74da1383c02679 = $(`&lt;div id=&quot;html_13027fee303c93be1e74da1383c02679&quot; style=&quot;width: 100.0%; height: 100.0%;&quot;&gt;Tunisia&lt;/div&gt;`)[0];\n",
       "            popup_230958963e031fc5e0db3f6c997e7e22.setContent(html_13027fee303c93be1e74da1383c02679);\n",
       "        \n",
       "\n",
       "        circle_marker_59359eff3657cf4d3eb12255f918f1d1.bindPopup(popup_230958963e031fc5e0db3f6c997e7e22)\n",
       "        ;\n",
       "\n",
       "        \n",
       "    \n",
       "    \n",
       "            var circle_marker_329789d62088972de821aede5f321fbd = L.circleMarker(\n",
       "                [39.0, 35.0],\n",
       "                {&quot;bubblingMouseEvents&quot;: true, &quot;color&quot;: &quot;#3388ff&quot;, &quot;dashArray&quot;: null, &quot;dashOffset&quot;: null, &quot;fill&quot;: true, &quot;fillColor&quot;: &quot;black&quot;, &quot;fillOpacity&quot;: 0.2, &quot;fillRule&quot;: &quot;evenodd&quot;, &quot;lineCap&quot;: &quot;round&quot;, &quot;lineJoin&quot;: &quot;round&quot;, &quot;opacity&quot;: 1.0, &quot;radius&quot;: 1.3571310413650737, &quot;stroke&quot;: true, &quot;weight&quot;: 3}\n",
       "            ).addTo(map_4179193c6e3cc2207ead62c85e51c2d2);\n",
       "        \n",
       "    \n",
       "        var popup_41899fb4eed17f5f25ddd8515454d368 = L.popup({&quot;maxWidth&quot;: &quot;100%&quot;});\n",
       "\n",
       "        \n",
       "            var html_354502b01d0f27d1b3535978c271c3af = $(`&lt;div id=&quot;html_354502b01d0f27d1b3535978c271c3af&quot; style=&quot;width: 100.0%; height: 100.0%;&quot;&gt;Turkey&lt;/div&gt;`)[0];\n",
       "            popup_41899fb4eed17f5f25ddd8515454d368.setContent(html_354502b01d0f27d1b3535978c271c3af);\n",
       "        \n",
       "\n",
       "        circle_marker_329789d62088972de821aede5f321fbd.bindPopup(popup_41899fb4eed17f5f25ddd8515454d368)\n",
       "        ;\n",
       "\n",
       "        \n",
       "    \n",
       "    \n",
       "            var circle_marker_a81c9f32018b3a3f69055844298c811e = L.circleMarker(\n",
       "                [-6.0, 35.0],\n",
       "                {&quot;bubblingMouseEvents&quot;: true, &quot;color&quot;: &quot;#3388ff&quot;, &quot;dashArray&quot;: null, &quot;dashOffset&quot;: null, &quot;fill&quot;: true, &quot;fillColor&quot;: &quot;blue&quot;, &quot;fillOpacity&quot;: 0.2, &quot;fillRule&quot;: &quot;evenodd&quot;, &quot;lineCap&quot;: &quot;round&quot;, &quot;lineJoin&quot;: &quot;round&quot;, &quot;opacity&quot;: 1.0, &quot;radius&quot;: 24.774201262059734, &quot;stroke&quot;: true, &quot;weight&quot;: 3}\n",
       "            ).addTo(map_4179193c6e3cc2207ead62c85e51c2d2);\n",
       "        \n",
       "    \n",
       "        var popup_e873f77cd21e8a0bbf3da2c9401ce72d = L.popup({&quot;maxWidth&quot;: &quot;100%&quot;});\n",
       "\n",
       "        \n",
       "            var html_19503471c4a77f59c450453a479ff990 = $(`&lt;div id=&quot;html_19503471c4a77f59c450453a479ff990&quot; style=&quot;width: 100.0%; height: 100.0%;&quot;&gt;Tanzania&lt;/div&gt;`)[0];\n",
       "            popup_e873f77cd21e8a0bbf3da2c9401ce72d.setContent(html_19503471c4a77f59c450453a479ff990);\n",
       "        \n",
       "\n",
       "        circle_marker_a81c9f32018b3a3f69055844298c811e.bindPopup(popup_e873f77cd21e8a0bbf3da2c9401ce72d)\n",
       "        ;\n",
       "\n",
       "        \n",
       "    \n",
       "    \n",
       "            var circle_marker_f7fe1289527a1e4744080f7e1ee31a74 = L.circleMarker(\n",
       "                [1.25, 32.5],\n",
       "                {&quot;bubblingMouseEvents&quot;: true, &quot;color&quot;: &quot;#3388ff&quot;, &quot;dashArray&quot;: null, &quot;dashOffset&quot;: null, &quot;fill&quot;: true, &quot;fillColor&quot;: &quot;blue&quot;, &quot;fillOpacity&quot;: 0.2, &quot;fillRule&quot;: &quot;evenodd&quot;, &quot;lineCap&quot;: &quot;round&quot;, &quot;lineJoin&quot;: &quot;round&quot;, &quot;opacity&quot;: 1.0, &quot;radius&quot;: 19.74773153351201, &quot;stroke&quot;: true, &quot;weight&quot;: 3}\n",
       "            ).addTo(map_4179193c6e3cc2207ead62c85e51c2d2);\n",
       "        \n",
       "    \n",
       "        var popup_f308e9c400dff6765406cd4928b114b1 = L.popup({&quot;maxWidth&quot;: &quot;100%&quot;});\n",
       "\n",
       "        \n",
       "            var html_4a43110d91274bc3ad7dadff09dc584a = $(`&lt;div id=&quot;html_4a43110d91274bc3ad7dadff09dc584a&quot; style=&quot;width: 100.0%; height: 100.0%;&quot;&gt;Uganda&lt;/div&gt;`)[0];\n",
       "            popup_f308e9c400dff6765406cd4928b114b1.setContent(html_4a43110d91274bc3ad7dadff09dc584a);\n",
       "        \n",
       "\n",
       "        circle_marker_f7fe1289527a1e4744080f7e1ee31a74.bindPopup(popup_f308e9c400dff6765406cd4928b114b1)\n",
       "        ;\n",
       "\n",
       "        \n",
       "    \n",
       "    \n",
       "            var circle_marker_d7a9002e1202fe305a58efbe049ca2cf = L.circleMarker(\n",
       "                [49.0, 32.0],\n",
       "                {&quot;bubblingMouseEvents&quot;: true, &quot;color&quot;: &quot;#3388ff&quot;, &quot;dashArray&quot;: null, &quot;dashOffset&quot;: null, &quot;fill&quot;: true, &quot;fillColor&quot;: &quot;black&quot;, &quot;fillOpacity&quot;: 0.2, &quot;fillRule&quot;: &quot;evenodd&quot;, &quot;lineCap&quot;: &quot;round&quot;, &quot;lineJoin&quot;: &quot;round&quot;, &quot;opacity&quot;: 1.0, &quot;stroke&quot;: true, &quot;weight&quot;: 3}\n",
       "            ).addTo(map_4179193c6e3cc2207ead62c85e51c2d2);\n",
       "        \n",
       "    \n",
       "        var popup_36cd37d911d968bf45fe5515390253b4 = L.popup({&quot;maxWidth&quot;: &quot;100%&quot;});\n",
       "\n",
       "        \n",
       "            var html_8948f45b9dd872ec1b7e7282d89be2e0 = $(`&lt;div id=&quot;html_8948f45b9dd872ec1b7e7282d89be2e0&quot; style=&quot;width: 100.0%; height: 100.0%;&quot;&gt;Ukraine&lt;/div&gt;`)[0];\n",
       "            popup_36cd37d911d968bf45fe5515390253b4.setContent(html_8948f45b9dd872ec1b7e7282d89be2e0);\n",
       "        \n",
       "\n",
       "        circle_marker_d7a9002e1202fe305a58efbe049ca2cf.bindPopup(popup_36cd37d911d968bf45fe5515390253b4)\n",
       "        ;\n",
       "\n",
       "        \n",
       "    \n",
       "    \n",
       "            var circle_marker_0019e4346b6666b6539cb0bb7b9202a6 = L.circleMarker(\n",
       "                [-33.0, -56.0],\n",
       "                {&quot;bubblingMouseEvents&quot;: true, &quot;color&quot;: &quot;#3388ff&quot;, &quot;dashArray&quot;: null, &quot;dashOffset&quot;: null, &quot;fill&quot;: true, &quot;fillColor&quot;: &quot;green&quot;, &quot;fillOpacity&quot;: 0.2, &quot;fillRule&quot;: &quot;evenodd&quot;, &quot;lineCap&quot;: &quot;round&quot;, &quot;lineJoin&quot;: &quot;round&quot;, &quot;opacity&quot;: 1.0, &quot;radius&quot;: 0.5757498723159213, &quot;stroke&quot;: true, &quot;weight&quot;: 3}\n",
       "            ).addTo(map_4179193c6e3cc2207ead62c85e51c2d2);\n",
       "        \n",
       "    \n",
       "        var popup_fc8453aee92fd31043bdf4736d8e2371 = L.popup({&quot;maxWidth&quot;: &quot;100%&quot;});\n",
       "\n",
       "        \n",
       "            var html_30fd3f4de4affaa9daa4833af24cea84 = $(`&lt;div id=&quot;html_30fd3f4de4affaa9daa4833af24cea84&quot; style=&quot;width: 100.0%; height: 100.0%;&quot;&gt;Uruguay&lt;/div&gt;`)[0];\n",
       "            popup_fc8453aee92fd31043bdf4736d8e2371.setContent(html_30fd3f4de4affaa9daa4833af24cea84);\n",
       "        \n",
       "\n",
       "        circle_marker_0019e4346b6666b6539cb0bb7b9202a6.bindPopup(popup_fc8453aee92fd31043bdf4736d8e2371)\n",
       "        ;\n",
       "\n",
       "        \n",
       "    \n",
       "    \n",
       "            var circle_marker_afaa8f3dca670391a45e0c93be00a5fa = L.circleMarker(\n",
       "                [39.76, -98.5],\n",
       "                {&quot;bubblingMouseEvents&quot;: true, &quot;color&quot;: &quot;#3388ff&quot;, &quot;dashArray&quot;: null, &quot;dashOffset&quot;: null, &quot;fill&quot;: true, &quot;fillColor&quot;: &quot;green&quot;, &quot;fillOpacity&quot;: 0.2, &quot;fillRule&quot;: &quot;evenodd&quot;, &quot;lineCap&quot;: &quot;round&quot;, &quot;lineJoin&quot;: &quot;round&quot;, &quot;opacity&quot;: 1.0, &quot;radius&quot;: 12.816534715641207, &quot;stroke&quot;: true, &quot;weight&quot;: 3}\n",
       "            ).addTo(map_4179193c6e3cc2207ead62c85e51c2d2);\n",
       "        \n",
       "    \n",
       "        var popup_ac34b646d36ec67f913d0aba7be8f563 = L.popup({&quot;maxWidth&quot;: &quot;100%&quot;});\n",
       "\n",
       "        \n",
       "            var html_79632063248698355ebe86a2a0904b43 = $(`&lt;div id=&quot;html_79632063248698355ebe86a2a0904b43&quot; style=&quot;width: 100.0%; height: 100.0%;&quot;&gt;United States&lt;/div&gt;`)[0];\n",
       "            popup_ac34b646d36ec67f913d0aba7be8f563.setContent(html_79632063248698355ebe86a2a0904b43);\n",
       "        \n",
       "\n",
       "        circle_marker_afaa8f3dca670391a45e0c93be00a5fa.bindPopup(popup_ac34b646d36ec67f913d0aba7be8f563)\n",
       "        ;\n",
       "\n",
       "        \n",
       "    \n",
       "    \n",
       "            var circle_marker_f33afe4a22fe15c34b3eac39e3e2cbfc = L.circleMarker(\n",
       "                [8.0, -66.0],\n",
       "                {&quot;bubblingMouseEvents&quot;: true, &quot;color&quot;: &quot;#3388ff&quot;, &quot;dashArray&quot;: null, &quot;dashOffset&quot;: null, &quot;fill&quot;: true, &quot;fillColor&quot;: &quot;green&quot;, &quot;fillOpacity&quot;: 0.2, &quot;fillRule&quot;: &quot;evenodd&quot;, &quot;lineCap&quot;: &quot;round&quot;, &quot;lineJoin&quot;: &quot;round&quot;, &quot;opacity&quot;: 1.0, &quot;radius&quot;: 7.747224893287904, &quot;stroke&quot;: true, &quot;weight&quot;: 3}\n",
       "            ).addTo(map_4179193c6e3cc2207ead62c85e51c2d2);\n",
       "        \n",
       "    \n",
       "        var popup_79e4ad393e6557620304a0d756cd41a4 = L.popup({&quot;maxWidth&quot;: &quot;100%&quot;});\n",
       "\n",
       "        \n",
       "            var html_919d7177469ecd2f16443e44fbb932e3 = $(`&lt;div id=&quot;html_919d7177469ecd2f16443e44fbb932e3&quot; style=&quot;width: 100.0%; height: 100.0%;&quot;&gt;Venezuela&lt;/div&gt;`)[0];\n",
       "            popup_79e4ad393e6557620304a0d756cd41a4.setContent(html_919d7177469ecd2f16443e44fbb932e3);\n",
       "        \n",
       "\n",
       "        circle_marker_f33afe4a22fe15c34b3eac39e3e2cbfc.bindPopup(popup_79e4ad393e6557620304a0d756cd41a4)\n",
       "        ;\n",
       "\n",
       "        \n",
       "    \n",
       "    \n",
       "            var circle_marker_d59cb493cb62f3543b0f7483759d5828 = L.circleMarker(\n",
       "                [16.16667, 107.83333],\n",
       "                {&quot;bubblingMouseEvents&quot;: true, &quot;color&quot;: &quot;#3388ff&quot;, &quot;dashArray&quot;: null, &quot;dashOffset&quot;: null, &quot;fill&quot;: true, &quot;fillColor&quot;: &quot;red&quot;, &quot;fillOpacity&quot;: 0.2, &quot;fillRule&quot;: &quot;evenodd&quot;, &quot;lineCap&quot;: &quot;round&quot;, &quot;lineJoin&quot;: &quot;round&quot;, &quot;opacity&quot;: 1.0, &quot;radius&quot;: 8.265735545694868, &quot;stroke&quot;: true, &quot;weight&quot;: 3}\n",
       "            ).addTo(map_4179193c6e3cc2207ead62c85e51c2d2);\n",
       "        \n",
       "    \n",
       "        var popup_b8866ec6eb201c588150f619d8cd0039 = L.popup({&quot;maxWidth&quot;: &quot;100%&quot;});\n",
       "\n",
       "        \n",
       "            var html_e6118af1a46ce3e939b1c554f977413e = $(`&lt;div id=&quot;html_e6118af1a46ce3e939b1c554f977413e&quot; style=&quot;width: 100.0%; height: 100.0%;&quot;&gt;Vietnam&lt;/div&gt;`)[0];\n",
       "            popup_b8866ec6eb201c588150f619d8cd0039.setContent(html_e6118af1a46ce3e939b1c554f977413e);\n",
       "        \n",
       "\n",
       "        circle_marker_d59cb493cb62f3543b0f7483759d5828.bindPopup(popup_b8866ec6eb201c588150f619d8cd0039)\n",
       "        ;\n",
       "\n",
       "        \n",
       "    \n",
       "    \n",
       "            var circle_marker_259d1e380ba237d44d122d9e1b88fcba = L.circleMarker(\n",
       "                [15.5, 47.5],\n",
       "                {&quot;bubblingMouseEvents&quot;: true, &quot;color&quot;: &quot;#3388ff&quot;, &quot;dashArray&quot;: null, &quot;dashOffset&quot;: null, &quot;fill&quot;: true, &quot;fillColor&quot;: &quot;red&quot;, &quot;fillOpacity&quot;: 0.2, &quot;fillRule&quot;: &quot;evenodd&quot;, &quot;lineCap&quot;: &quot;round&quot;, &quot;lineJoin&quot;: &quot;round&quot;, &quot;opacity&quot;: 1.0, &quot;radius&quot;: 8.490153480403475, &quot;stroke&quot;: true, &quot;weight&quot;: 3}\n",
       "            ).addTo(map_4179193c6e3cc2207ead62c85e51c2d2);\n",
       "        \n",
       "    \n",
       "        var popup_21eb241cc8bcaddf5ad5c31fe7e028ad = L.popup({&quot;maxWidth&quot;: &quot;100%&quot;});\n",
       "\n",
       "        \n",
       "            var html_9dadc7f3bbdfa5568d001783ab91536d = $(`&lt;div id=&quot;html_9dadc7f3bbdfa5568d001783ab91536d&quot; style=&quot;width: 100.0%; height: 100.0%;&quot;&gt;Yemen&lt;/div&gt;`)[0];\n",
       "            popup_21eb241cc8bcaddf5ad5c31fe7e028ad.setContent(html_9dadc7f3bbdfa5568d001783ab91536d);\n",
       "        \n",
       "\n",
       "        circle_marker_259d1e380ba237d44d122d9e1b88fcba.bindPopup(popup_21eb241cc8bcaddf5ad5c31fe7e028ad)\n",
       "        ;\n",
       "\n",
       "        \n",
       "    \n",
       "    \n",
       "            var circle_marker_50ece6b57896973527958144a604f7b8 = L.circleMarker(\n",
       "                [-29.0, 24.0],\n",
       "                {&quot;bubblingMouseEvents&quot;: true, &quot;color&quot;: &quot;#3388ff&quot;, &quot;dashArray&quot;: null, &quot;dashOffset&quot;: null, &quot;fill&quot;: true, &quot;fillColor&quot;: &quot;blue&quot;, &quot;fillOpacity&quot;: 0.2, &quot;fillRule&quot;: &quot;evenodd&quot;, &quot;lineCap&quot;: &quot;round&quot;, &quot;lineJoin&quot;: &quot;round&quot;, &quot;opacity&quot;: 1.0, &quot;radius&quot;: 12.392457273107668, &quot;stroke&quot;: true, &quot;weight&quot;: 3}\n",
       "            ).addTo(map_4179193c6e3cc2207ead62c85e51c2d2);\n",
       "        \n",
       "    \n",
       "        var popup_d93f42b8eb72f222b7305caa8e59c7c2 = L.popup({&quot;maxWidth&quot;: &quot;100%&quot;});\n",
       "\n",
       "        \n",
       "            var html_ba8dff0a58a9e870d81529f30a1a4aab = $(`&lt;div id=&quot;html_ba8dff0a58a9e870d81529f30a1a4aab&quot; style=&quot;width: 100.0%; height: 100.0%;&quot;&gt;South Africa&lt;/div&gt;`)[0];\n",
       "            popup_d93f42b8eb72f222b7305caa8e59c7c2.setContent(html_ba8dff0a58a9e870d81529f30a1a4aab);\n",
       "        \n",
       "\n",
       "        circle_marker_50ece6b57896973527958144a604f7b8.bindPopup(popup_d93f42b8eb72f222b7305caa8e59c7c2)\n",
       "        ;\n",
       "\n",
       "        \n",
       "    \n",
       "    \n",
       "            var circle_marker_8717dd9d01cbd15ab7c0465c8e2686a8 = L.circleMarker(\n",
       "                [-14.33333, 28.5],\n",
       "                {&quot;bubblingMouseEvents&quot;: true, &quot;color&quot;: &quot;#3388ff&quot;, &quot;dashArray&quot;: null, &quot;dashOffset&quot;: null, &quot;fill&quot;: true, &quot;fillColor&quot;: &quot;blue&quot;, &quot;fillOpacity&quot;: 0.2, &quot;fillRule&quot;: &quot;evenodd&quot;, &quot;lineCap&quot;: &quot;round&quot;, &quot;lineJoin&quot;: &quot;round&quot;, &quot;opacity&quot;: 1.0, &quot;radius&quot;: 17.940846416721868, &quot;stroke&quot;: true, &quot;weight&quot;: 3}\n",
       "            ).addTo(map_4179193c6e3cc2207ead62c85e51c2d2);\n",
       "        \n",
       "    \n",
       "        var popup_c3ae34b70ae7ac4a4695210517e5235c = L.popup({&quot;maxWidth&quot;: &quot;100%&quot;});\n",
       "\n",
       "        \n",
       "            var html_f7b3dc0b53ed142ad172fd6fc460f664 = $(`&lt;div id=&quot;html_f7b3dc0b53ed142ad172fd6fc460f664&quot; style=&quot;width: 100.0%; height: 100.0%;&quot;&gt;Zambia&lt;/div&gt;`)[0];\n",
       "            popup_c3ae34b70ae7ac4a4695210517e5235c.setContent(html_f7b3dc0b53ed142ad172fd6fc460f664);\n",
       "        \n",
       "\n",
       "        circle_marker_8717dd9d01cbd15ab7c0465c8e2686a8.bindPopup(popup_c3ae34b70ae7ac4a4695210517e5235c)\n",
       "        ;\n",
       "\n",
       "        \n",
       "    \n",
       "&lt;/script&gt;\n",
       "&lt;/html&gt;\" style=\"position:absolute;width:100%;height:100%;left:0;top:0;border:none !important;\" allowfullscreen webkitallowfullscreen mozallowfullscreen></iframe></div></div>"
      ],
      "text/plain": [
       "<datascience.maps.Map at 0x7f4d14988070>"
      ]
     },
     "execution_count": 112,
     "metadata": {},
     "output_type": "execute_result"
    }
   ],
   "source": [
    "# It may take a few seconds to generate this map.\n",
    "colors = {'africa': 'blue', 'europe': 'black', 'asia': 'red', 'americas': 'green'}\n",
    "scaled = poverty_map.with_columns(\n",
    "    'labels', poverty_map.column('name'),\n",
    "    'colors', poverty_map.apply(colors.get, 'region'),\n",
    "    'areas', 1e-4 * poverty_map.column('poverty_total')\n",
    ").drop('name', 'region', 'poverty_total')\n",
    "\n",
    "Circle.map_table(scaled)"
   ]
  },
  {
   "cell_type": "markdown",
   "id": "4af96aa3",
   "metadata": {
    "deletable": false,
    "editable": false
   },
   "source": [
    "Although people lived in extreme poverty throughout the world in 2010 (with more than 5 million in the United States), the largest numbers were in Asia and Africa."
   ]
  },
  {
   "cell_type": "markdown",
   "id": "835bc095",
   "metadata": {},
   "source": [
    "**Question 5.** Assign `largest` to a two-column table with the `name` (not the 3-letter code) and `poverty_total` of the 10 countries with the largest number of people living in extreme poverty.\n",
    "\n",
    "*Hint*: How can we use `take` and `np.arange` in conjunction with each other?\n"
   ]
  },
  {
   "cell_type": "code",
   "execution_count": 113,
   "id": "4d00fb06",
   "metadata": {
    "deletable": false,
    "tags": []
   },
   "outputs": [
    {
     "data": {
      "text/html": [
       "<table border=\"1\" class=\"dataframe\">\n",
       "    <thead>\n",
       "        <tr>\n",
       "            <th>name</th> <th>poverty_total</th>\n",
       "        </tr>\n",
       "    </thead>\n",
       "    <tbody>\n",
       "        <tr>\n",
       "            <td>India           </td> <td>291,660,639.00</td>\n",
       "        </tr>\n",
       "        <tr>\n",
       "            <td>Nigeria         </td> <td>98,319,537.00 </td>\n",
       "        </tr>\n",
       "        <tr>\n",
       "            <td>China           </td> <td>85,687,544.00 </td>\n",
       "        </tr>\n",
       "        <tr>\n",
       "            <td>Bangladesh      </td> <td>63,826,375.00 </td>\n",
       "        </tr>\n",
       "        <tr>\n",
       "            <td>Congo, Dem. Rep.</td> <td>56,635,412.00 </td>\n",
       "        </tr>\n",
       "        <tr>\n",
       "            <td>Indonesia       </td> <td>39,177,145.00 </td>\n",
       "        </tr>\n",
       "        <tr>\n",
       "            <td>Ethiopia        </td> <td>32,242,742.00 </td>\n",
       "        </tr>\n",
       "        <tr>\n",
       "            <td>Pakistan        </td> <td>22,858,700.00 </td>\n",
       "        </tr>\n",
       "        <tr>\n",
       "            <td>Tanzania        </td> <td>19,281,872.00 </td>\n",
       "        </tr>\n",
       "        <tr>\n",
       "            <td>Madagascar      </td> <td>18,543,643.00 </td>\n",
       "        </tr>\n",
       "    </tbody>\n",
       "</table>"
      ],
      "text/plain": [
       "name             | poverty_total\n",
       "India            | 291,660,639.00\n",
       "Nigeria          | 98,319,537.00\n",
       "China            | 85,687,544.00\n",
       "Bangladesh       | 63,826,375.00\n",
       "Congo, Dem. Rep. | 56,635,412.00\n",
       "Indonesia        | 39,177,145.00\n",
       "Ethiopia         | 32,242,742.00\n",
       "Pakistan         | 22,858,700.00\n",
       "Tanzania         | 19,281,872.00\n",
       "Madagascar       | 18,543,643.00"
      ]
     },
     "execution_count": 113,
     "metadata": {},
     "output_type": "execute_result"
    }
   ],
   "source": [
    "ten = new_table.sort('poverty_total', descending = True).take(np.arange(0,10)).drop(0,3,4,5)\n",
    "largest = Table().with_columns('name', ten.column(1), 'poverty_total', ten.column(0))\n",
    "largest.set_format('poverty_total', NumberFormatter)"
   ]
  },
  {
   "cell_type": "code",
   "execution_count": 114,
   "id": "8f4abd05",
   "metadata": {
    "deletable": false,
    "editable": false
   },
   "outputs": [
    {
     "data": {
      "text/html": [
       "<p><strong><pre style='display: inline;'>q2_5</pre></strong> passed! 🌟</p>"
      ],
      "text/plain": [
       "q2_5 results: All test cases passed!"
      ]
     },
     "execution_count": 114,
     "metadata": {},
     "output_type": "execute_result"
    }
   ],
   "source": [
    "grader.check(\"q2_5\")"
   ]
  },
  {
   "cell_type": "markdown",
   "id": "8129d1b9",
   "metadata": {},
   "source": [
    "<!-- BEGIN QUESTION -->\n",
    "\n",
    "**Question 6.** It is important to study the absolute number of people living in poverty, not just the percent. The absolute number is an important factor in determining the amount of resources needed to support people living in poverty. In the next two questions you will explore this.\n",
    "\n",
    "In Question 7, you will be asked to write a function called `poverty_timeline` that takes **the name of a country** as its argument  (not the Alpha-3 country code). It should draw a line plot of the number of people living in poverty in that country with time on the horizontal axis. The line plot should have a point for each row in the `poverty` table for that country. To compute the population living in poverty from a poverty percentage, multiply by the population of the country **in that year**.\n",
    "\n",
    "For this question, write out a generalized process for Question 7. What should this function output, and what steps will you take within the function?\n"
   ]
  },
  {
   "cell_type": "markdown",
   "id": "8ef08495",
   "metadata": {},
   "source": [
    "First, the nation name needs to be changed into a three-letter code so that we can access the data linked to it in the previously utilized tables. After that, we want to create a table with the information for the specified country and each year that is given. The entire amount of poverty for each time period needs to be included into this table. The period may be accessed from the poverty table, and to obtain the entire amount of poverty at that point, we must multiply the percentage of the people living in poverty by the total population at that time and add the result to a new column in the table. After that, we can plot the line plot using that table."
   ]
  },
  {
   "cell_type": "markdown",
   "id": "5ae8d5d5",
   "metadata": {
    "deletable": false
   },
   "source": [
    "<!-- END QUESTION -->\n",
    "\n",
    "<!-- BEGIN QUESTION -->\n",
    "\n",
    "**Question 7.** Now, we'll actually write the function called `poverty_timeline`. Recall that `poverty_timeline` takes **the name of a country** as its argument (not the Alpha-3 country code). It should draw a line plot of the number of people living in poverty in that country with time on the horizontal axis. The line plot should have a point for each row in the `poverty` table for that country. To compute the population living in poverty from a poverty percentage, multiply by the population of the country **in that year**.\n",
    "\n",
    "**Note:** You **should <u>not</u>** return anything from your function. Simply call `plots.show()` at the end of your function body.\n",
    "\n",
    "*Hint 1:* This question is long. Feel free to create cells and experiment. You can create cells by going to the toolbar and hitting the `+` button.\n",
    "\n",
    "*Hint 2:* Consider using `join` in your code.\n",
    "\n",
    "Feel free to use the markdown cell below to plan out your answer, but you needn't fill it in."
   ]
  },
  {
   "cell_type": "markdown",
   "id": "aff747d4",
   "metadata": {},
   "source": [
    "_Type your answer here, replacing this text._"
   ]
  },
  {
   "cell_type": "code",
   "execution_count": 115,
   "id": "7b432254",
   "metadata": {},
   "outputs": [
    {
     "data": {
      "text/html": [
       "<table border=\"1\" class=\"dataframe\">\n",
       "    <thead>\n",
       "        <tr>\n",
       "            <th>geo</th> <th>time</th> <th>extreme_poverty_percent_people_below_125_a_day</th>\n",
       "        </tr>\n",
       "    </thead>\n",
       "    <tbody>\n",
       "        <tr>\n",
       "            <td>alb </td> <td>1996</td> <td>0.2                                           </td>\n",
       "        </tr>\n",
       "        <tr>\n",
       "            <td>alb </td> <td>2002</td> <td>0.73                                          </td>\n",
       "        </tr>\n",
       "        <tr>\n",
       "            <td>alb </td> <td>2004</td> <td>0.53                                          </td>\n",
       "        </tr>\n",
       "    </tbody>\n",
       "</table>\n",
       "<p>... (1096 rows omitted)</p>"
      ],
      "text/plain": [
       "<IPython.core.display.HTML object>"
      ]
     },
     "metadata": {},
     "output_type": "display_data"
    }
   ],
   "source": [
    "poverty = Table.read_table('poverty.csv')\n",
    "poverty.show(3)"
   ]
  },
  {
   "cell_type": "code",
   "execution_count": 116,
   "id": "5be4c4a1",
   "metadata": {
    "tags": []
   },
   "outputs": [],
   "source": [
    "def poverty_timeline(country):\n",
    "        'Draw a timeline of people living in extreme poverty in a country.'\n",
    "        geo = countries.where('name', are.equal_to(country)).take(0).column(\"country\")\n",
    "        table = poverty.where(\"geo\", are.equal_to(geo))\n",
    "        pov_time = population.where(\"geo\", are.equal_to(geo)).where(\"time\", are.contained_in(table.column(\"time\"))).column(\"population_total\")\n",
    "        variable = table.column(\"extreme_poverty_percent_people_below_125_a_day\")* pov_time\n",
    "        newtable = table.with_column(\"poverty total\",variable)\n",
    "        newtable.plot(\"time\", \"poverty total\")\n",
    "    # Don't change anything below this line.\n",
    "        plots.title(country)\n",
    "        plots.ylim(bottom=0)\n",
    "        plots.show() # This should be the last line of your function."
   ]
  },
  {
   "cell_type": "code",
   "execution_count": 117,
   "id": "fd3055c6",
   "metadata": {
    "deletable": false,
    "tags": []
   },
   "outputs": [
    {
     "name": "stderr",
     "output_type": "stream",
     "text": [
      "/opt/conda/lib/python3.9/site-packages/datascience/predicates.py:257: SyntaxWarning: Do not pass an array or list to a predicate.                 If you are trying to find rows where two columns are the                 same, use table.where('c', are.equal_to, table.column('d'))                instead of table.where('c', are.equal_to(table.column('d'))).\n",
      "  warnings.warn(\"Do not pass an array or list to a predicate. \\\n",
      "/opt/conda/lib/python3.9/site-packages/datascience/predicates.py:257: SyntaxWarning: Do not pass an array or list to a predicate.                 If you are trying to find rows where two columns are the                 same, use table.where('c', are.equal_to, table.column('d'))                instead of table.where('c', are.equal_to(table.column('d'))).\n",
      "  warnings.warn(\"Do not pass an array or list to a predicate. \\\n"
     ]
    },
    {
     "data": {
      "image/png": "[encoded data removed]",
      "text/plain": [
       "<Figure size 600x600 with 1 Axes>"
      ]
     },
     "metadata": {},
     "output_type": "display_data"
    },
    {
     "name": "stderr",
     "output_type": "stream",
     "text": [
      "/opt/conda/lib/python3.9/site-packages/datascience/predicates.py:257: SyntaxWarning: Do not pass an array or list to a predicate.                 If you are trying to find rows where two columns are the                 same, use table.where('c', are.equal_to, table.column('d'))                instead of table.where('c', are.equal_to(table.column('d'))).\n",
      "  warnings.warn(\"Do not pass an array or list to a predicate. \\\n",
      "/opt/conda/lib/python3.9/site-packages/datascience/predicates.py:257: SyntaxWarning: Do not pass an array or list to a predicate.                 If you are trying to find rows where two columns are the                 same, use table.where('c', are.equal_to, table.column('d'))                instead of table.where('c', are.equal_to(table.column('d'))).\n",
      "  warnings.warn(\"Do not pass an array or list to a predicate. \\\n"
     ]
    },
    {
     "data": {
      "image/png": "[encoded data removed]",
      "text/plain": [
       "<Figure size 600x600 with 1 Axes>"
      ]
     },
     "metadata": {},
     "output_type": "display_data"
    },
    {
     "name": "stderr",
     "output_type": "stream",
     "text": [
      "/opt/conda/lib/python3.9/site-packages/datascience/predicates.py:257: SyntaxWarning: Do not pass an array or list to a predicate.                 If you are trying to find rows where two columns are the                 same, use table.where('c', are.equal_to, table.column('d'))                instead of table.where('c', are.equal_to(table.column('d'))).\n",
      "  warnings.warn(\"Do not pass an array or list to a predicate. \\\n",
      "/opt/conda/lib/python3.9/site-packages/datascience/predicates.py:257: SyntaxWarning: Do not pass an array or list to a predicate.                 If you are trying to find rows where two columns are the                 same, use table.where('c', are.equal_to, table.column('d'))                instead of table.where('c', are.equal_to(table.column('d'))).\n",
      "  warnings.warn(\"Do not pass an array or list to a predicate. \\\n"
     ]
    },
    {
     "data": {
      "image/png": "[encoded data removed]",
      "text/plain": [
       "<Figure size 600x600 with 1 Axes>"
      ]
     },
     "metadata": {},
     "output_type": "display_data"
    },
    {
     "name": "stderr",
     "output_type": "stream",
     "text": [
      "/opt/conda/lib/python3.9/site-packages/datascience/predicates.py:257: SyntaxWarning: Do not pass an array or list to a predicate.                 If you are trying to find rows where two columns are the                 same, use table.where('c', are.equal_to, table.column('d'))                instead of table.where('c', are.equal_to(table.column('d'))).\n",
      "  warnings.warn(\"Do not pass an array or list to a predicate. \\\n",
      "/opt/conda/lib/python3.9/site-packages/datascience/predicates.py:257: SyntaxWarning: Do not pass an array or list to a predicate.                 If you are trying to find rows where two columns are the                 same, use table.where('c', are.equal_to, table.column('d'))                instead of table.where('c', are.equal_to(table.column('d'))).\n",
      "  warnings.warn(\"Do not pass an array or list to a predicate. \\\n"
     ]
    },
    {
     "data": {
      "image/png": "[encoded data removed]",
      "text/plain": [
       "<Figure size 600x600 with 1 Axes>"
      ]
     },
     "metadata": {},
     "output_type": "display_data"
    },
    {
     "name": "stderr",
     "output_type": "stream",
     "text": [
      "/opt/conda/lib/python3.9/site-packages/datascience/predicates.py:257: SyntaxWarning: Do not pass an array or list to a predicate.                 If you are trying to find rows where two columns are the                 same, use table.where('c', are.equal_to, table.column('d'))                instead of table.where('c', are.equal_to(table.column('d'))).\n",
      "  warnings.warn(\"Do not pass an array or list to a predicate. \\\n",
      "/opt/conda/lib/python3.9/site-packages/datascience/predicates.py:257: SyntaxWarning: Do not pass an array or list to a predicate.                 If you are trying to find rows where two columns are the                 same, use table.where('c', are.equal_to, table.column('d'))                instead of table.where('c', are.equal_to(table.column('d'))).\n",
      "  warnings.warn(\"Do not pass an array or list to a predicate. \\\n"
     ]
    },
    {
     "data": {
      "image/png": "[encoded data removed]",
      "text/plain": [
       "<Figure size 600x600 with 1 Axes>"
      ]
     },
     "metadata": {},
     "output_type": "display_data"
    },
    {
     "name": "stderr",
     "output_type": "stream",
     "text": [
      "/opt/conda/lib/python3.9/site-packages/datascience/predicates.py:257: SyntaxWarning: Do not pass an array or list to a predicate.                 If you are trying to find rows where two columns are the                 same, use table.where('c', are.equal_to, table.column('d'))                instead of table.where('c', are.equal_to(table.column('d'))).\n",
      "  warnings.warn(\"Do not pass an array or list to a predicate. \\\n",
      "/opt/conda/lib/python3.9/site-packages/datascience/predicates.py:257: SyntaxWarning: Do not pass an array or list to a predicate.                 If you are trying to find rows where two columns are the                 same, use table.where('c', are.equal_to, table.column('d'))                instead of table.where('c', are.equal_to(table.column('d'))).\n",
      "  warnings.warn(\"Do not pass an array or list to a predicate. \\\n"
     ]
    },
    {
     "data": {
      "image/png": "[encoded data removed]",
      "text/plain": [
       "<Figure size 600x600 with 1 Axes>"
      ]
     },
     "metadata": {},
     "output_type": "display_data"
    }
   ],
   "source": [
    "poverty_timeline('Poland')\n",
    "poverty_timeline('India')\n",
    "poverty_timeline('Nigeria')\n",
    "poverty_timeline('China')\n",
    "poverty_timeline('Colombia')\n",
    "poverty_timeline('United States')"
   ]
  },
  {
   "cell_type": "markdown",
   "id": "2ced8264",
   "metadata": {
    "deletable": false
   },
   "source": [
    "<!-- END QUESTION -->\n",
    "\n",
    "Although the number of people living in extreme poverty increased in some countries including Nigeria and the United States, the decreases in other countries, most notably the massive decreases in China and India, have shaped the overall trend that extreme poverty is decreasing worldwide, both in percentage and in absolute number. \n",
    "\n",
    "To learn more, watch [Hans Rosling in a 2015 film](https://www.gapminder.org/videos/dont-panic-end-poverty/) about the UN goal of eradicating extreme poverty from the world. \n",
    "\n",
    "Below, we've also added an interactive dropdown menu for you to visualize `poverty_timeline` graphs for other countries. Note that each dropdown menu selection may take a few seconds to run."
   ]
  },
  {
   "cell_type": "code",
   "execution_count": 118,
   "id": "64070112",
   "metadata": {
    "deletable": false,
    "editable": false
   },
   "outputs": [
    {
     "data": {
      "application/vnd.jupyter.widget-view+json": {
       "model_id": "c15cb6c59df440faa9cea9e4f744b5eb",
       "version_major": 2,
       "version_minor": 0
      },
      "text/plain": [
       "interactive(children=(Dropdown(description='country', options=('Angola', 'Albania', 'Argentina', 'Armenia', 'A…"
      ]
     },
     "metadata": {},
     "output_type": "display_data"
    }
   ],
   "source": [
    "# Just run this cell\n",
    "\n",
    "all_countries = poverty_map.column('name')\n",
    "_ = widgets.interact(poverty_timeline, country=list(all_countries))"
   ]
  },
  {
   "cell_type": "markdown",
   "id": "21b4c1c7",
   "metadata": {
    "deletable": false
   },
   "source": [
    "\n",
    "\n",
    "<img src=\"panda.jpg\" alt=\"drawing\" width=\"300\"/>\n",
    "\n",
    "**Panda wants to tell you, you're finished!** Congratulations on discovering many important facts about global poverty and demonstrating your mastery of table manipulation and data visualization. Time to submit.\n",
    "\n",
    "**<span style=\"color: #BC412B\">Remember to add your project partner to your submission on Gradescope!</span>** <u>Only one partner should submit to Gradescope.</u>"
   ]
  },
  {
   "cell_type": "markdown",
   "id": "81fc96ac",
   "metadata": {
    "deletable": false,
    "editable": false
   },
   "source": [
    "## Submission\n",
    "\n",
    "Make sure you have run all cells in your notebook in order before running the cell below, so that all images/graphs appear in the output. The cell below will generate a zip file for you to submit. **Please save before exporting!**"
   ]
  },
  {
   "cell_type": "code",
   "execution_count": 119,
   "id": "57f752d3",
   "metadata": {
    "deletable": false,
    "editable": false
   },
   "outputs": [
    {
     "name": "stdout",
     "output_type": "stream",
     "text": [
      "Running your submission against local test cases...\n",
      "\n",
      "\n",
      "\n",
      "Your submission received the following results when run against available test cases:\n",
      "\n",
      "    q1_1 results: All test cases passed!\n",
      "\n",
      "    q1_2 results: All test cases passed!\n",
      "\n",
      "    q1_5 results: All test cases passed!\n",
      "\n",
      "    q1_7 results: All test cases passed!\n",
      "\n",
      "    q1_9 results: All test cases passed!\n",
      "\n",
      "    q1_11 results: All test cases passed!\n",
      "\n",
      "    q1_12_0 results: All test cases passed!\n",
      "\n",
      "    q1_12 results: All test cases passed!\n",
      "\n",
      "    q1_13 results: All test cases passed!\n",
      "\n",
      "    q1_14 results: All test cases passed!\n",
      "\n",
      "    q2_1 results: All test cases passed!\n",
      "\n",
      "    q2_2 results: All test cases passed!\n",
      "\n",
      "    q2_3 results: All test cases passed!\n",
      "\n",
      "    q2_4 results: All test cases passed!\n",
      "\n",
      "    q2_5 results: All test cases passed!\n"
     ]
    },
    {
     "data": {
      "text/html": [
       "\n",
       "            <p>Your submission has been exported. Click <a href=\"project1_2023_09_29T11_54_59_365786.zip\" download=\"project1_2023_09_29T11_54_59_365786.zip\" target=\"_blank\">here</a>\n",
       "            to download the zip file.</p>\n",
       "            "
      ],
      "text/plain": [
       "<IPython.core.display.HTML object>"
      ]
     },
     "metadata": {},
     "output_type": "display_data"
    }
   ],
   "source": [
    "# Save your notebook first, then run this cell to export your submission.\n",
    "grader.export(pdf=False, run_tests=True)"
   ]
  },
  {
   "cell_type": "markdown",
   "id": "67adcd2f",
   "metadata": {},
   "source": [
    " "
   ]
  },
  {
   "cell_type": "code",
   "execution_count": null,
   "id": "a0ec956b",
   "metadata": {},
   "outputs": [],
   "source": []
  },
  {
   "cell_type": "code",
   "execution_count": null,
   "id": "beafaa29",
   "metadata": {},
   "outputs": [],
   "source": []
  }
 ],
 "metadata": {
  "kernelspec": {
   "display_name": "Python 3 (ipykernel)",
   "language": "python",
   "name": "python3"
  },
  "language_info": {
   "codemirror_mode": {
    "name": "ipython",
    "version": 3
   },
   "file_extension": ".py",
   "mimetype": "text/x-python",
   "name": "python",
   "nbconvert_exporter": "python",
   "pygments_lexer": "ipython3",
   "version": "3.9.15"
  },
  "otter": {
   "OK_FORMAT": true,
   "tests": {
    "q1_1": {
     "name": "q1_1",
     "points": [
      0,
      0
     ],
     "suites": [
      {
       "cases": [
        {
         "code": ">>> # Check your column labels and spelling\n>>> b_pop.labels == ('time', 'population_total')\nTrue",
         "hidden": false,
         "locked": false
        },
        {
         "code": ">>> # Times should range from 1970 through 2020\n>>> all(b_pop.sort(\"time\").column(\"time\") == np.arange(1970, 2021))\nTrue",
         "hidden": false,
         "locked": false
        }
       ],
       "scored": true,
       "setup": "",
       "teardown": "",
       "type": "doctest"
      }
     ]
    },
    "q1_11": {
     "name": "q1_11",
     "points": [
      0,
      0,
      0,
      4
     ],
     "suites": [
      {
       "cases": [
        {
         "code": ">>> # Incorrect labels for columns\n>>> t = stats_for_year(1990)\n>>> t.labels == ('geo', 'population_total', 'children_per_woman_total_fertility', 'child_mortality_under_5_per_1000_born')\nTrue",
         "hidden": false,
         "locked": false
        },
        {
         "code": ">>> # Incorrect number of rows\n>>> t = stats_for_year(1990)\n>>> t.num_rows\n50",
         "hidden": false,
         "locked": false
        },
        {
         "code": ">>> print(stats_for_year(1960).sort('geo').take(np.arange(5, 50, 5)))\ngeo  | population_total | children_per_woman_total_fertility | child_mortality_under_5_per_1000_born\ncan  | 17847404         | 3.88                               | 32.6\ndza  | 11057864         | 7.52                               | 242.54\ngbr  | 52370595         | 2.69                               | 26.56\nirq  | 7289753          | 6.25                               | 191.93\nmar  | 12328532         | 7.04                               | 237.06\nnga  | 45138460         | 6.35                               | 339.85\npol  | 29614201         | 3.11                               | 65.03\ntur  | 27472339         | 6.37                               | 258.29\nuzb  | 8526299          | 6.26                               | 169.4\n",
         "hidden": false,
         "locked": false
        },
        {
         "code": ">>> print(stats_for_year(2010).sort('geo').take(np.arange(3, 50, 5)))\ngeo  | population_total | children_per_woman_total_fertility | child_mortality_under_5_per_1000_born\nbgd  | 147575433        | 2.28                               | 49.1\ncol  | 45222699         | 2.01                               | 18.47\neth  | 87639962         | 4.92                               | 82.94\nind  | 1234281163       | 2.6                                | 58.23\nken  | 42030684         | 4.37                               | 56.54\nmoz  | 23531567         | 5.56                               | 104.53\nper  | 29027680         | 2.55                               | 20.13\nsdn  | 34545014         | 4.88                               | 75.92\nukr  | 45792086         | 1.45                               | 11.72\nyem  | 23154854         | 4.67                               | 55.96\n",
         "hidden": false,
         "locked": false
        }
       ],
       "scored": true,
       "setup": "",
       "teardown": "",
       "type": "doctest"
      }
     ]
    },
    "q1_12": {
     "name": "q1_12",
     "points": [
      0,
      0
     ],
     "suites": [
      {
       "cases": [
        {
         "code": ">>> # Check your column labels and spelling\n>>> pop_by_decade.labels == ('decade', 'population')\nTrue",
         "hidden": false,
         "locked": false
        },
        {
         "code": ">>> # The first year of the 1960's is 1960.\n>>> pop_by_decade.column(0).item(0) == 1960\nTrue",
         "hidden": false,
         "locked": false
        }
       ],
       "scored": true,
       "setup": "",
       "teardown": "",
       "type": "doctest"
      }
     ]
    },
    "q1_12_0": {
     "name": "q1_12_0",
     "points": [
      0,
      0,
      0
     ],
     "suites": [
      {
       "cases": [
        {
         "code": ">>> pop_for_year(1972) == 3355562066\nTrue",
         "hidden": false,
         "locked": false
        },
        {
         "code": ">>> pop_for_year(2020) == 6765161289\nTrue",
         "hidden": false,
         "locked": false
        },
        {
         "code": ">>> pop_for_year(1989) == 4576679948\nTrue",
         "hidden": false,
         "locked": false
        }
       ],
       "scored": true,
       "setup": "",
       "teardown": "",
       "type": "doctest"
      }
     ]
    },
    "q1_13": {
     "name": "q1_13",
     "points": [
      0,
      0
     ],
     "suites": [
      {
       "cases": [
        {
         "code": ">>> # Check your column labels and spelling\n>>> region_counts.labels == ('region', 'count')\nTrue",
         "hidden": false,
         "locked": false
        },
        {
         "code": ">>> # Counts must sum to 50\n>>> sum(region_counts.column('count')) == 50\nTrue",
         "hidden": false,
         "locked": false
        }
       ],
       "scored": true,
       "setup": "",
       "teardown": "",
       "type": "doctest"
      }
     ]
    },
    "q1_14": {
     "name": "q1_14",
     "points": [
      0
     ],
     "suites": [
      {
       "cases": [
        {
         "code": ">>> # Please use a list of integers from 1 to 5\n>>> all(x in range(1, 6) for x in set(scatter_statements))\nTrue",
         "hidden": false,
         "locked": false
        }
       ],
       "scored": true,
       "setup": "",
       "teardown": "",
       "type": "doctest"
      }
     ]
    },
    "q1_2": {
     "name": "q1_2",
     "points": [
      0,
      0
     ],
     "suites": [
      {
       "cases": [
        {
         "code": ">>> first = round(b_five_growth.sort(0).column(2).item(0), 8)\n>>> 0.005 <= first <= 0.5\nTrue",
         "hidden": false,
         "locked": false
        },
        {
         "code": ">>> # Compute the annual exponential growth rate\n>>> max(b_five_growth.column(2)) < 0.03\nTrue",
         "hidden": false,
         "locked": false
        }
       ],
       "scored": true,
       "setup": "",
       "teardown": "",
       "type": "doctest"
      }
     ]
    },
    "q1_5": {
     "name": "q1_5",
     "points": [
      0,
      0,
      0
     ],
     "suites": [
      {
       "cases": [
        {
         "code": ">>> # Check your column labels and spelling\n>>> fertility_over_time('usa', 2010).labels == ('Year', 'Children per woman')\nTrue",
         "hidden": false,
         "locked": false
        },
        {
         "code": ">>> # Check that you use the start year to determine the data range.\n>>> all(fertility_over_time('usa', 2010).column('Year') == np.arange(2010, 2021))\nTrue",
         "hidden": false,
         "locked": false
        },
        {
         "code": ">>> # Check that you use the start year to determine the data range.\n>>> all(fertility_over_time('usa', 2005).column('Year') == np.arange(2005, 2021))\nTrue",
         "hidden": false,
         "locked": false
        }
       ],
       "scored": true,
       "setup": "",
       "teardown": "",
       "type": "doctest"
      }
     ]
    },
    "q1_7": {
     "name": "q1_7",
     "points": [
      0,
      0
     ],
     "suites": [
      {
       "cases": [
        {
         "code": ">>> # Make sure you are using the date range 1970-2020\n>>> post_1969_fertility_and_child_mortality.num_rows\n51",
         "hidden": false,
         "locked": false
        },
        {
         "code": ">>> # Check your column labels and spelling\n>>> all([label in post_1969_fertility_and_child_mortality.labels for label in ['Children per woman', 'Child deaths per 1000 born']])\nTrue",
         "hidden": false,
         "locked": false
        }
       ],
       "scored": true,
       "setup": "",
       "teardown": "",
       "type": "doctest"
      }
     ]
    },
    "q1_9": {
     "name": "q1_9",
     "points": [
      0
     ],
     "suites": [
      {
       "cases": [
        {
         "code": ">>> # Please use a list of integers from 1 to 6\n>>> all(x in range(1, 7) for x in set(fertility_statements))\nTrue",
         "hidden": false,
         "locked": false
        }
       ],
       "scored": true,
       "setup": "",
       "teardown": "",
       "type": "doctest"
      }
     ]
    },
    "q2_1": {
     "name": "q2_1",
     "points": [
      0,
      0
     ],
     "suites": [
      {
       "cases": [
        {
         "code": ">>> # Please don't edit the last line.\n>>> latest_poverty.labels == ('geo', 'time', 'poverty_percent')\nTrue",
         "hidden": false,
         "locked": false
        },
        {
         "code": ">>> # The result should have one row per country.\n>>> latest_poverty.num_rows\n145",
         "hidden": false,
         "locked": false
        }
       ],
       "scored": true,
       "setup": "",
       "teardown": "",
       "type": "doctest"
      }
     ]
    },
    "q2_2": {
     "name": "q2_2",
     "points": [
      0,
      0,
      0
     ],
     "suites": [
      {
       "cases": [
        {
         "code": ">>> # Check your column labels and spelling\n>>> recent_poverty_total.labels == ('geo', 'poverty_percent', 'population_total', 'poverty_total')\nTrue",
         "hidden": false,
         "locked": false
        },
        {
         "code": ">>> # Careful, the population of Australia in 2010 was 22,154,687\n>>> recent_poverty_total.where('geo', 'aus').column(2).item(0)\n22154687",
         "hidden": false,
         "locked": false
        },
        {
         "code": ">>> # The number of people estimated to be living in extreme poverty\n>>> # in Australia should be 301,304. That's 22,154,687 * 0.0136\n>>> # rounded to the nearest integer.\n>>> float(recent_poverty_total.where('geo', 'aus').column(3).item(0))\n301304.0",
         "hidden": false,
         "locked": false
        }
       ],
       "scored": true,
       "setup": "",
       "teardown": "",
       "type": "doctest"
      }
     ]
    },
    "q2_3": {
     "name": "q2_3",
     "points": [
      0
     ],
     "suites": [
      {
       "cases": [
        {
         "code": ">>> 10 <= poverty_percent <= 20\nTrue",
         "hidden": false,
         "locked": false
        }
       ],
       "scored": true,
       "setup": "",
       "teardown": "",
       "type": "doctest"
      }
     ]
    },
    "q2_4": {
     "name": "q2_4",
     "points": [
      0,
      0
     ],
     "suites": [
      {
       "cases": [
        {
         "code": ">>> # Check your column labels and spelling\n>>> poverty_map.labels == ('latitude', 'longitude', 'name', 'region', 'poverty_total')\nTrue",
         "hidden": false,
         "locked": false
        },
        {
         "code": ">>> # Something is wrong with your region column.\n>>> list(np.sort(np.unique(poverty_map.column('region'))))\n['africa', 'americas', 'asia', 'europe']",
         "hidden": false,
         "locked": false
        }
       ],
       "scored": true,
       "setup": "",
       "teardown": "",
       "type": "doctest"
      }
     ]
    },
    "q2_5": {
     "name": "q2_5",
     "points": [
      0,
      0,
      0
     ],
     "suites": [
      {
       "cases": [
        {
         "code": ">>> # Check your column labels and spelling\n>>> largest.labels == ('name', 'poverty_total')\nTrue",
         "hidden": false,
         "locked": false
        },
        {
         "code": ">>> # India is the country with the largest number of people living\n>>> # in extreme poverty.\n>>> largest.column(0).item(0)\n'India'",
         "hidden": false,
         "locked": false
        },
        {
         "code": ">>> # The table should contain exactly 10 rows.\n>>> largest.num_rows\n10",
         "hidden": false,
         "locked": false
        }
       ],
       "scored": true,
       "setup": "",
       "teardown": "",
       "type": "doctest"
      }
     ]
    }
   }
  }
 },
 "nbformat": 4,
 "nbformat_minor": 5
}
